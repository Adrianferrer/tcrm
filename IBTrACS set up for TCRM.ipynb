{
 "cells": [
  {
   "cell_type": "markdown",
   "metadata": {},
   "source": [
    "By Claire Krause, February 2018\n",
    "\n",
    "This notebook uses data from the [International Best Track Archive for Climate Stewardship (IBTrACS)]( https://www.ncdc.noaa.gov/ibtracs/) to set up the input csv to the `tcevent.py` module of TCRM. \n",
    "\n",
    "This code uses the storm name and year to identify the required tropical cyclone inforamation from the IBTrACS 'Allstorms' database. \n",
    "\n",
    "The radius to maximum winds can be included in the output csv, however, it contained a large proportion of missing values, which resulted in strange event results. To add it in, add `'jtwc_??_rmw'` to the end of `names`, `184` to the end of `usecols`, and `'RMW'` to the end of `ibtracs.columns`.\n",
    "\n",
    "If you would like to keep the RMW in the notebook, you can choose to clear up the missing values from the input with something like this:\n",
    "```\n",
    "# Convert any zero RMW value to nan\n",
    "TC.RMW[TC.RMW == 0] = np.nan\n",
    "# Drop any row that has a nan in the RMW column\n",
    "TCcleaned = TC.dropna(how = 'any')\n",
    "```\n",
    "\n",
    "The acompanying `.ini` configuration settings that match up to the output format of this notebook is listed below."
   ]
  },
  {
   "cell_type": "raw",
   "metadata": {},
   "source": [
    "[DataProcess]\n",
    "InputFile = /path/to/saved/csv/MONICA_track.csv\n",
    "Source = IBTRACS\n",
    "FilterSeasons = False\n",
    "\n",
    "...\n",
    "\n",
    "[IBTRACS]\n",
    "Columns=tcserialno,season,skip,skip,date,lat,lon,wind,pressure\n",
    "FieldDelimiter=,\n",
    "NumberOfHeadingLines=1\n",
    "PressureUnits=hPa\n",
    "SpeedUnits=kts\n",
    "LengthUnits=nm\n",
    "DateFormat=%Y-%m-%d %H:%M:%S"
   ]
  },
  {
   "cell_type": "code",
   "execution_count": 1,
   "metadata": {
    "collapsed": false
   },
   "outputs": [
    {
     "name": "stdout",
     "output_type": "stream",
     "text": [
      "Populating the interactive namespace from numpy and matplotlib\n"
     ]
    }
   ],
   "source": [
    "import pandas as pd\n",
    "import numpy as np\n",
    "from matplotlib import pyplot as plt\n",
    "%pylab notebook"
   ]
  },
  {
   "cell_type": "code",
   "execution_count": 2,
   "metadata": {
    "collapsed": false
   },
   "outputs": [],
   "source": [
    "# Get the IBTRaCS dataset\n",
    "url = 'ftp://eclipse.ncdc.noaa.gov/pub/ibtracs/v03r10/all/csv/Allstorms.ibtracs_all.v03r10.csv.gz'\n",
    "ibtracs = pd.read_csv(url, delimiter = ',', compression = 'gzip', low_memory = True, skiprows = 3, memory_map = True,\n",
    "                      names = ['Serial_Num', 'Season', 'Basin', 'Name', 'ISO_time', 'Latitude', 'Longitude',\n",
    "                               'Wind(WMO)', 'Pres(WMO)'],\n",
    "                      usecols = [0, 1, 3, 5, 6, 8, 9, 10, 11], na_values = -999.)\n",
    "# We need to rename 'jtwc_??_rmw' to make it easier to call this column\n",
    "ibtracs.columns = ['Serial_Num', 'Season', 'Basin', 'Name', 'ISO_time', 'Latitude', 'Longitude',\n",
    "                   'Wind', 'Pres']"
   ]
  },
  {
   "cell_type": "code",
   "execution_count": 5,
   "metadata": {
    "collapsed": false
   },
   "outputs": [],
   "source": [
    "Cyclones = {'SAM': 2001, 'LAM': 2015, 'MONICA': 2006, 'INGRID': 2005, 'ROSITA': 2000, 'GEORGE': 2007, 'BARRY': 1996,\n",
    "            'ORSON': 1989, 'YASI': 2011, 'MARCIA': 2015, 'KIRSTY': 1996, 'LAURENCE': 2010, 'VANCE': 1999, 'BOBBY': 1995,\n",
    "            'JOHN': 2000, 'LARRY': 2006, 'OLIVIA': 1996}"
   ]
  },
  {
   "cell_type": "code",
   "execution_count": 7,
   "metadata": {
    "collapsed": false,
    "scrolled": false
   },
   "outputs": [
    {
     "name": "stderr",
     "output_type": "stream",
     "text": [
      "/g/data1/w85/cek156/virtual_notebooks/lib/python2.7/site-packages/ipykernel_launcher.py:5: SettingWithCopyWarning: \n",
      "A value is trying to be set on a copy of a slice from a DataFrame\n",
      "\n",
      "See the caveats in the documentation: http://pandas.pydata.org/pandas-docs/stable/indexing.html#indexing-view-versus-copy\n",
      "  \"\"\"\n",
      "/g/data1/w85/cek156/virtual_notebooks/lib/python2.7/site-packages/ipykernel_launcher.py:6: SettingWithCopyWarning: \n",
      "A value is trying to be set on a copy of a slice from a DataFrame\n",
      "\n",
      "See the caveats in the documentation: http://pandas.pydata.org/pandas-docs/stable/indexing.html#indexing-view-versus-copy\n",
      "  \n"
     ]
    },
    {
     "name": "stdout",
     "output_type": "stream",
     "text": [
      "Writing out file for LAM\n",
      "Writing out file for ROSITA\n",
      "Writing out file for ORSON\n",
      "Writing out file for KIRSTY\n",
      "Writing out file for SAM\n",
      "Writing out file for MONICA\n",
      "Writing out file for BARRY\n",
      "Writing out file for YASI\n",
      "Writing out file for MARCIA\n",
      "Writing out file for VANCE\n",
      "Writing out file for LAURENCE\n",
      "Writing out file for LARRY\n",
      "Writing out file for OLIVIA\n",
      "Writing out file for INGRID\n",
      "Writing out file for JOHN\n",
      "Writing out file for GEORGE\n",
      "Writing out file for BOBBY\n"
     ]
    }
   ],
   "source": [
    "for key, value in Cyclones.iteritems():\n",
    "    TC1 = ibtracs[ibtracs.Name == key]\n",
    "    TC = TC1[TC1.Season == value]\n",
    "    # Check that the pressure values are reasonable, and if not, convert to nan\n",
    "    TC.Pres[TC.Pres >= 1020] = np.nan\n",
    "    TC.Pres[TC.Pres <= 900] = np.nan\n",
    "    # Drop any row that has a nan in any column\n",
    "    TCcleaned = TC.dropna(how = 'any')\n",
    "    outname = '/g/data/w85/cek156/mangroves/{0}/{0}_track.csv'.format(key)\n",
    "    TCcleaned.to_csv(outname, index = False, na_rep = np.nan)\n",
    "    print('Writing out file for {0}'.format(key))"
   ]
  },
  {
   "cell_type": "code",
   "execution_count": null,
   "metadata": {
    "collapsed": true
   },
   "outputs": [],
   "source": []
  }
 ],
 "metadata": {
  "kernelspec": {
   "display_name": "Python 2",
   "language": "python",
   "name": "python2"
  },
  "language_info": {
   "codemirror_mode": {
    "name": "ipython",
    "version": 2
   },
   "file_extension": ".py",
   "mimetype": "text/x-python",
   "name": "python",
   "nbconvert_exporter": "python",
   "pygments_lexer": "ipython2",
   "version": "2.7.11"
  }
 },
 "nbformat": 4,
 "nbformat_minor": 0
}
