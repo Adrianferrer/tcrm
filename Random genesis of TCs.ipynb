{
 "cells": [
  {
   "cell_type": "markdown",
   "metadata": {},
   "source": [
    "# Random genesis of tropical cyclones\n",
    "\n",
    "In a stochastic TC model, there needs to be a mechanism to initiate cyclones from which the system can then allow random tracks to evolve. In this notebook, we show how the genesis points are determined, based on the recorded genesis locations. \n",
    "\n",
    "This will highlight a number of points about how we use source data, and some of the issues with the historical record.\n",
    "\n"
   ]
  },
  {
   "cell_type": "code",
   "execution_count": null,
   "metadata": {
    "collapsed": true
   },
   "outputs": [],
   "source": [
    "%matplotlib notebook\n",
    "\n",
    "import io\n",
    "import os\n",
    "import sys\n",
    "import numpy as np\n",
    "import matplotlib.pyplot as plt\n",
    "\n",
    "from Utilities.config import ConfigParser\n",
    "from Utilities.loadData import loadTrackFile\n",
    "from PlotInterface.maps import ScatterMapFigure, FilledContourMapFigure, saveFigure\n",
    "\n",
    "from ipywidgets import interact, interactive, interact_manual, fixed, FloatSlider, Dropdown\n",
    "import ipywidgets as widgets\n",
    "\n",
    "from IPython.display import Image, display\n",
    "\n",
    "import seaborn as sns\n",
    "sns.set_context(\"poster\")\n",
    "sns.set_style(\"whitegrid\")"
   ]
  },
  {
   "cell_type": "markdown",
   "metadata": {},
   "source": [
    "Set up a configuration file (or a string representation of one). When running TCRM, this would be stored in a separate file, usually with a `.ini` extension (but it equally could be the proxy Python standard of `.cfg`)."
   ]
  },
  {
   "cell_type": "code",
   "execution_count": null,
   "metadata": {
    "collapsed": true
   },
   "outputs": [],
   "source": [
    "configstr = \"\"\"\n",
    "[DataProcess]\n",
    "InputFile=C:/WorkSpace/data/TC/Allstorms.ibtracs_wmo.v03r09.csv\n",
    "Source=IBTRACS\n",
    "StartSeason=1981\n",
    "FilterSeasons=False\n",
    "\n",
    "[Region]\n",
    "; Domain for windfield and hazard calculation\n",
    "gridLimit={'xMin':90.,'xMax':180.,'yMin':-30.0,'yMax':-5.0}\n",
    "gridSpace={'x':1.0,'y':1.0}\n",
    "gridInc={'x':1.0,'y':0.5}\n",
    "\n",
    "[TrackGenerator]\n",
    "NumSimulations=5000\n",
    "YearsPerSimulation=10\n",
    "SeasonSeed=68876543\n",
    "TrackSeed=334825\n",
    "TimeStep=1.0\n",
    "\n",
    "[Input]\n",
    "landmask = C:/WorkSpace/tcrm/input/landmask.nc\n",
    "mslpfile = C:/WorkSpace/tcrm/MSLP/slp.day.ltm.nc\n",
    "datasets = IBTRACS,LTMSLP\n",
    "\n",
    "[Output]\n",
    "Path=C:/WorkSpace/data/TC/aus\n",
    "\n",
    "[Hazard]\n",
    "Years=2,5,10,20,25,50,100,200,250,500,1000,2000,2500,5000\n",
    "MinimumRecords=10\n",
    "CalculateCI=False\n",
    "\n",
    "[Logging]\n",
    "LogFile=C:/WorkSpace/data/TC/aus/log/aus.log\n",
    "LogLevel=INFO\n",
    "Verbose=False\n",
    "\n",
    "[IBTRACS]\n",
    "; Input data file settings\n",
    "url = ftp://eclipse.ncdc.noaa.gov/pub/ibtracs/v03r06/wmo/csv/Allstorms.ibtracs_wmo.v03r06.csv.gz\n",
    "path = C:/WorkSpace/data/TC/\n",
    "filename = Allstorms.ibtracs_wmo.v03r06.csv\n",
    "columns = tcserialno,season,num,skip,skip,skip,date,skip,lat,lon,skip,pressure\n",
    "fielddelimiter = ,\n",
    "numberofheadinglines = 3\n",
    "pressureunits = hPa\n",
    "lengthunits = km\n",
    "dateformat = %Y-%m-%d %H:%M:%S\n",
    "speedunits = kph\n",
    "\n",
    "[LTMSLP]\n",
    "; MSLP climatology file settings\n",
    "URL = ftp://ftp.cdc.noaa.gov/Datasets/ncep.reanalysis.derived/surface/slp.day.1981-2010.ltm.nc\n",
    "path = C:/WorkSpace/data/MSLP\n",
    "filename = slp.day.ltm.nc\"\"\""
   ]
  },
  {
   "cell_type": "markdown",
   "metadata": {},
   "source": [
    "This next cell loads the configuration \"file\" using the Python `Config` module (whihc we've slightly modified in our `Utilities.config` module)."
   ]
  },
  {
   "cell_type": "code",
   "execution_count": null,
   "metadata": {
    "collapsed": true
   },
   "outputs": [],
   "source": [
    "config = ConfigParser()\n",
    "config.readfp(io.BytesIO(configstr))"
   ]
  },
  {
   "cell_type": "markdown",
   "metadata": {},
   "source": [
    "`trackFile` is a string that holds the name of the file containing all the track data. The `source` variable is the name of a format that TCRM can read, and there's a corresponding section in the configuration settings (see above) that contains the details of the source file format (e.g. number of heading lines to ignore, the column names, and the format of the date information). The `gridLimit` dict holds the bounding longitude and latitude of the simulation domain. \n",
    "\n",
    "We then load all the tracks in the file (`loadTrackFile`), and then filter the tracks to ensure that we're only using those that are in the model domain."
   ]
  },
  {
   "cell_type": "code",
   "execution_count": null,
   "metadata": {},
   "outputs": [],
   "source": [
    "trackFile = config.get('DataProcess', 'InputFile')\n",
    "source = config.get('DataProcess', 'Source')\n",
    "\n",
    "print(\"Track file: {0}\".format(trackFile))\n",
    "print(\"Track format: {0}\".format(source))\n",
    "alltracks = loadTrackFile(configstr, trackFile, source)\n",
    "gridLimit=config.geteval('Region', 'gridLimit')\n",
    "\n",
    "tracks = [track for track in alltracks if track.inRegion(gridLimit)]\n",
    "\n",
    "print(\"There are {0:d} tracks in the input dataset\".format(len(tracks)))"
   ]
  },
  {
   "cell_type": "markdown",
   "metadata": {},
   "source": [
    "We cycle through all the tracks that are in the region, extracting the first recorded latitude and longitude to represent the genesis point for each event."
   ]
  },
  {
   "cell_type": "code",
   "execution_count": null,
   "metadata": {
    "collapsed": true
   },
   "outputs": [],
   "source": [
    "olon = []\n",
    "olat = []\n",
    "for i, t in enumerate(tracks):\n",
    "    olon.append(t.Longitude[0])\n",
    "    olat.append(t.Latitude[0])\n",
    "olon = np.array(olon)\n",
    "olat = np.array(olat)"
   ]
  },
  {
   "cell_type": "markdown",
   "metadata": {},
   "source": [
    "Now we plot the points onto a map figure. This makes use of the in-built plotting routines in TCRM to plot all the genesis points on a map. \n",
    "\n",
    "\n",
    "*Note: because of the way the TCRM code creates figures, we need to save the figures to a file, then display in the notebook using some IPython widgets.*"
   ]
  },
  {
   "cell_type": "code",
   "execution_count": null,
   "metadata": {},
   "outputs": [],
   "source": [
    "x = np.arange(gridLimit['xMin'], gridLimit['xMax'], 0.1)\n",
    "y = np.arange(gridLimit['yMin'], gridLimit['yMax'], 0.1)\n",
    "\n",
    "xgrid, ygrid = np.meshgrid(x, y)\n",
    "lvls = np.arange(0, 1., 0.1)\n",
    "cbarlabel = \"\"\n",
    "title = \"Genesis locations\"\n",
    "mapkwargs = dict(llcrnrlon=100., llcrnrlat=-30,\n",
    "                  urcrnrlon=180., urcrnrlat=-5.,\n",
    "                  resolution='h', projection='merc')\n",
    "data = np.stack((olon, olat))\n",
    "\n",
    "f = ScatterMapFigure()\n",
    "f.add(data, xgrid, ygrid, title, lvls, cbarlabel, mapkwargs)\n",
    "f.plot()\n",
    "saveFigure(f, \"Genesis.png\")\n",
    "Image(\"Genesis.png\")"
   ]
  },
  {
   "cell_type": "markdown",
   "metadata": {},
   "source": [
    "Now to demonstrate how TCRM generates random genesis points. The model uses the historical genesis points as input to a [kernel density estimation](https://en.wikipedia.org/wiki/Kernel_density_estimation) routine to generate a 2-dimensional probability density function (PDF) of genesis probability."
   ]
  },
  {
   "cell_type": "code",
   "execution_count": null,
   "metadata": {
    "collapsed": true
   },
   "outputs": [],
   "source": [
    "from StatInterface.KDEOrigin import KDEOrigin\n",
    "\n",
    "kdeStep = 0.1 # Grid resolution\n",
    "origin = KDEOrigin(configstr, gridLimit, kdeStep, lonLat=data.T)\n",
    "ox, oy, pdf = origin.generateKDE()"
   ]
  },
  {
   "cell_type": "code",
   "execution_count": null,
   "metadata": {},
   "outputs": [],
   "source": [
    "lvls = np.linspace(0, pdf.max(), 7)\n",
    "cbarlabel = \"Genesis probability\"\n",
    "title = \"Genesis probability\"\n",
    "f = FilledContourMapFigure()\n",
    "f.add(np.flipud(pdf.T), xgrid, ygrid, title, lvls, cbarlabel, mapkwargs)\n",
    "f.plot()\n",
    "saveFigure(f, \"genesis_pdf.png\")\n",
    "Image(\"genesis_pdf.png\")"
   ]
  },
  {
   "cell_type": "markdown",
   "metadata": {},
   "source": [
    "This map shows the probability of a cyclone forming at any point in a 0.1 x 0.1 degree grid square, based on historical TC occurrence. Or more correctly, based on the first recorded location of historical TCs. Given satellites only launched in the 1960's, there's a huge part of teh record where we don't know where the cyclone actually formed, only where it was first recorded - usually closer to trade routes and coastal communities. We'll explore that issue later. \n",
    "\n",
    "The smoothness of the genesis PDF is related to the density of observations over the entire region. If there are more observations, then the bandwidth of the KDE is smaller, and more detail can emerge. In this case, we use a 2-d bandwidth, so the kernel can (and indeed does) have different bandwidths in the longitude and latitude directions."
   ]
  },
  {
   "cell_type": "markdown",
   "metadata": {},
   "source": [
    "To demonstrate the influence of bandwidth on the resulting PDF, you can modify the x- and y-bandwidths and see what happens to the PDF."
   ]
  },
  {
   "cell_type": "code",
   "execution_count": null,
   "metadata": {},
   "outputs": [],
   "source": [
    "from statsmodels.nonparametric.kernel_density import KDEMultivariate\n",
    "import cartopy.crs as ccrs\n",
    "\n",
    "# This is not the method by which we'd normally plot maps, but we do \n",
    "# so here to get the interactive capability in a notebook.\n",
    "def plotKDE(pdf, xgrid, ygrid, title, levels, cbarlabel, mapkwargs):\n",
    "    fig = plt.figure(figsize=(12, 6))\n",
    "    ax = plt.axes(projection=ccrs.PlateCarree())\n",
    "    palette = sns.color_palette(\"YlOrRd\", 7)\n",
    "    cmap = sns.blend_palette(palette, as_cmap=True)\n",
    "    cs = ax.contourf(xgrid, ygrid, pdf, extend='max', cmap=cmap)\n",
    "    \n",
    "    ax.coastlines(resolution='50m', color='black', linewidth=1)\n",
    "    ax.gridlines(linestyle=\":\", draw_labels=True)\n",
    "    plt.xlabel(\"Longitude\")\n",
    "    plt.ylabel(\"Latitude\")\n",
    "    plt.colorbar(cs, orientation='vertical', extend='max', shrink=0.75, aspect=20)\n",
    "    plt.show()\n",
    "    \n",
    "def varyBandwidth(lonLat, gridLimit, kdeStep, bx, by):\n",
    "    x = np.arange(gridLimit['xMin'], gridLimit['xMax'], kdeStep)\n",
    "    y = np.arange(gridLimit['yMax'], gridLimit['yMin'], -kdeStep)\n",
    "    ii = np.where((lonLat[:, 0] >= gridLimit['xMin']) &\n",
    "                    (lonLat[:, 0] <= gridLimit['xMax']) &\n",
    "                    (lonLat[:, 1] >= gridLimit['yMin']) &\n",
    "                    (lonLat[:, 1] <= gridLimit['yMax']))\n",
    "\n",
    "    lonLat = lonLat[ii]\n",
    "    bw = [bx, by]\n",
    "    kde = KDEMultivariate(lonLat, bw=bw, var_type='cc')\n",
    "    xx, yy = np.meshgrid(x, y)\n",
    "    xy = np.vstack([xx.ravel(), yy.ravel()])\n",
    "    mpdf = kde.pdf(data_predict=xy)\n",
    "    mpdf = mpdf.reshape(xx.shape)\n",
    "\n",
    "    mpdf = mpdf.transpose()\n",
    "    plotKDE(np.flipud(mpdf.T), xgrid, ygrid, title, lvls, cbarlabel, mapkwargs)\n",
    "\n",
    "    \n",
    "\n",
    "bxSlider = FloatSlider(value=origin.bw[0], min=0.5, max=2.5, step=0.05, description=\"x-bandwidth\", continuous_update=False)\n",
    "bySlider = FloatSlider(value=origin.bw[1], min=0.5, max=2.5, step=0.05, description=\"y-bandwidth\", continuous_update=False)\n"
   ]
  },
  {
   "cell_type": "markdown",
   "metadata": {},
   "source": [
    "Using the sliders below, change the bandwidth for the x- and y-directions. It does take about a minute to perform the computation, so change one first and review the plot, then change the other. "
   ]
  },
  {
   "cell_type": "code",
   "execution_count": null,
   "metadata": {},
   "outputs": [],
   "source": [
    "f = interact(varyBandwidth, lonLat=fixed(data.T), \n",
    "                gridLimit=fixed(gridLimit), \n",
    "                kdeStep=fixed(kdeStep), \n",
    "                bx=bxSlider, by=bySlider)"
   ]
  },
  {
   "cell_type": "markdown",
   "metadata": {},
   "source": [
    "#### Questions:\n",
    "\n",
    "- If you set the bandwidths for both dimensions to the smallest possible value, what is the maximum probability of genesis (hint, look at the colorbar)? \n",
    "- What if you set the bandwidths to be the largest possible values?\n",
    "- What might happen to the PDF if you started with fewer genesis points? What about more genesis points?\n",
    "\n",
    "## Random sampling of genesis points\n",
    "\n",
    "Now we move to the stage of randomly selecting starting points for the synthetic event set. This is performed in the `SamplingOrigin` class in the `StatInterface` module. You pass it the PDF of historical genesis points, and you can then tell it to generate any number of random genesis points. \n",
    "\n",
    "First instantiate the `SamplingOrigin` class, passing it the grid and the PDF calculated above."
   ]
  },
  {
   "cell_type": "code",
   "execution_count": null,
   "metadata": {},
   "outputs": [],
   "source": [
    "from StatInterface.SamplingOrigin import SamplingOrigin\n",
    "SO = SamplingOrigin(kdeOrigin=np.flipud(pdf.T), x=x, y=y)"
   ]
  },
  {
   "cell_type": "markdown",
   "metadata": {},
   "source": [
    "Now we call teh `generateSamples` method on the `SO` class to generate the genesis points. The number of genesis points is set to match the number of tracks that are in the simulation region (`len(tracks)`)."
   ]
  },
  {
   "cell_type": "code",
   "execution_count": null,
   "metadata": {},
   "outputs": [],
   "source": [
    "sampleLonLat = SO.generateSamples(len(tracks))\n",
    "sLon = sampleLonLat[:, 0]\n",
    "sLat = sampleLonLat[:, 1]\n",
    "f = ScatterMapFigure()\n",
    "f.add(np.stack((sLon, sLat)), xgrid, ygrid, title, lvls, cbarlabel, mapkwargs)\n",
    "f.plot()\n",
    "saveFigure(f, \"random_genesis.png\")\n",
    "Image(\"random_genesis.png\")"
   ]
  },
  {
   "cell_type": "markdown",
   "metadata": {},
   "source": [
    "Return to the historical genesis points and compare the figures. There are the same number of points, and arguably you could possibly generate a set of genesis points that matched the historical points. \n",
    "\n",
    "#### Questions:\n",
    "- What might happen if you selected a different bandwidth when defining the PDF using kernel density estimation?\n",
    "- What might happen to synthetic TCs that have their genesis points at high latitudes (a long way south)?\n",
    "- Can this process return genesis points outside of the previously observed genesis regions?"
   ]
  },
  {
   "cell_type": "code",
   "execution_count": null,
   "metadata": {
    "collapsed": true
   },
   "outputs": [],
   "source": []
  }
 ],
 "metadata": {
  "kernelspec": {
   "display_name": "Python 2",
   "language": "python",
   "name": "python2"
  },
  "language_info": {
   "codemirror_mode": {
    "name": "ipython",
    "version": 2
   },
   "file_extension": ".py",
   "mimetype": "text/x-python",
   "name": "python",
   "nbconvert_exporter": "python",
   "pygments_lexer": "ipython2",
   "version": "2.7.3"
  }
 },
 "nbformat": 4,
 "nbformat_minor": 2
}
