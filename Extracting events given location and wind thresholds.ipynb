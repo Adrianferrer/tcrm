{
 "cells": [
  {
   "cell_type": "markdown",
   "metadata": {
    "deletable": true,
    "editable": true
   },
   "source": [
    "# Extracting events given location and wind thresholds"
   ]
  },
  {
   "cell_type": "markdown",
   "metadata": {
    "deletable": true,
    "editable": true
   },
   "source": [
    "This code does stuff...\n",
    "\n",
    "By Claire Krause, October 2017. Python v2. TCRM branch `develop` (but should be applicable to other branches).\n",
    "\n",
    "**Required inputs**\n",
    "- This code requires access to TCRM modules (e.g. `database`, `Utilities.`). Make sure the the TCRM directory is in the python path so these modules can be found and imported\n",
    "- TCRM configuration file. This will tell the code where to look for the hazard and location databases.\n",
    "- This code assumes that hazard and location databases have already been created. This code does not produce these databases.\n",
    "- Dict of locations for which you would like to extract events that meet a given wind speed and distance threshold. This dict is defined within the code, and does not need to be imported."
   ]
  },
  {
   "cell_type": "markdown",
   "metadata": {
    "deletable": true,
    "editable": true
   },
   "source": [
    "## Set up the notebook imports"
   ]
  },
  {
   "cell_type": "code",
   "execution_count": null,
   "metadata": {
    "collapsed": false,
    "deletable": true,
    "editable": true
   },
   "outputs": [],
   "source": [
    "%pylab notebook\n",
    "from __future__ import print_function, division"
   ]
  },
  {
   "cell_type": "code",
   "execution_count": null,
   "metadata": {
    "collapsed": false,
    "deletable": true,
    "editable": true
   },
   "outputs": [],
   "source": [
    "import database\n",
    "import numpy as np\n",
    "import matplotlib.pyplot as plt\n",
    "import matplotlib.cm as cm\n",
    "import pandas as pd\n",
    "import statsmodels.api as sm\n",
    "from math import cos, asin, sqrt\n",
    "import os\n",
    "import pickle\n",
    "import cartopy.crs as ccrs\n",
    "import cartopy.feature as feature\n",
    "#from mpl_toolkits.basemap import Basemap\n",
    "from netCDF4 import Dataset\n",
    "\n",
    "from Utilities.config import ConfigParser\n",
    "from Utilities.lmomentFit import samlmu, pelgev, pelgpa\n",
    "from Utilities.track import ncReadTrackData\n",
    "\n",
    "# Import widgets for interactive notebook\n",
    "from ipywidgets import interact, fixed\n",
    "import ipywidgets as widgets\n",
    "\n",
    "import seaborn as sns\n",
    "sns.set_context(\"poster\")\n",
    "sns.set_style(\"whitegrid\")"
   ]
  },
  {
   "cell_type": "code",
   "execution_count": null,
   "metadata": {
    "collapsed": false,
    "deletable": true,
    "editable": true
   },
   "outputs": [],
   "source": [
    "def distance(lat1, lon1, lat2, lon2):\n",
    "    p = 0.017453292519943295\n",
    "    a = 0.5 - cos((lat2-lat1)*p)/2 + cos(lat1*p)*cos(lat2*p) * (1-cos((lon2-lon1)*p)) / 2\n",
    "    return 12742 * asin(sqrt(a))\n",
    "\n",
    "def loadTrack(trackId):\n",
    "    trackNum, trackYear = int(trackId.split('-')[0]), int(trackId.split('-')[1])\n",
    "    trackFile = os.path.join(outputPath, 'tracks', 'tracks.{0:05d}.nc'.format(trackYear))\n",
    "    tracks = ncReadTrackData(trackFile)\n",
    "    \n",
    "    return [t for t in tracks if t.trackId==(trackNum, trackYear)][0]\n",
    "\n",
    "def getTracks(recs):\n",
    "    tracks = []\n",
    "    for rec in recs:\n",
    "        trackId = rec['eventId']\n",
    "        track = loadTrack(trackId)\n",
    "        tracks.append(track)\n",
    "    return tracks\n",
    "\n",
    "def plot_tracks(gridLimit, tracks):\n",
    "    '''\n",
    "    Plot all of the tracks contained within the 'tracks' object\n",
    "    '''\n",
    "    fig = plt.figure(figsize=(12,6))\n",
    "    ax = plt.axes(projection=ccrs.PlateCarree())\n",
    "    ax.coastlines(resolution='50m', color='black', linewidth=1)\n",
    "    ax.add_feature(feature.BORDERS)\n",
    "    gl = ax.gridlines(linestyle=\":\", draw_labels=True)\n",
    "    gl.xlabels_top = False\n",
    "    gl.ylabels_right = False\n",
    "    ax.set_xlim((gridLimit['xMin'], gridLimit['xMax']))\n",
    "    ax.set_ylim((gridLimit['yMin'], gridLimit['yMax']))\n",
    "    for track in tracks:\n",
    "        plt.plot(track.Longitude, track.Latitude)\n",
    "    return fig, ax"
   ]
  },
  {
   "cell_type": "code",
   "execution_count": null,
   "metadata": {
    "collapsed": false,
    "deletable": true,
    "editable": true
   },
   "outputs": [],
   "source": [
    "working_dir = '/g/data/w85/cek156/db10kyr/'\n",
    "#working_dir = 'C:/Users/u37443/TCRM/output/10kyr_CA/'\n",
    "configFile = working_dir + 'tcrm2.0.ini'\n",
    "#configFile = working_dir + 'tcrm2.0.201708111450.ini'\n",
    "#configFile = 'C:/Users/u37443/TCRM/output/port_hedland/Bodgy_config.ini'\n",
    "configFile"
   ]
  },
  {
   "cell_type": "markdown",
   "metadata": {
    "deletable": true,
    "editable": true
   },
   "source": [
    "## Set up the hazard database instance\n",
    "Point to the configuration file used to produce the database"
   ]
  },
  {
   "cell_type": "code",
   "execution_count": null,
   "metadata": {
    "collapsed": false
   },
   "outputs": [],
   "source": [
    "config = ConfigParser()\n",
    "config.read(configFile)\n",
    "config.options('Region')\n",
    "os.path.join(config.get('Output', 'Path'), 'hazard.db')"
   ]
  },
  {
   "cell_type": "code",
   "execution_count": null,
   "metadata": {
    "collapsed": false,
    "deletable": true,
    "editable": true,
    "scrolled": true
   },
   "outputs": [],
   "source": [
    "db = database.HazardDatabase(configFile)\n",
    "locations = db.getLocations()\n",
    "locNameList = list(locations['locName'])\n",
    "outputPath = config.get('Output', 'Path')\n",
    "gridLimit = config.geteval('Region', 'gridLimit')"
   ]
  },
  {
   "cell_type": "markdown",
   "metadata": {
    "deletable": true,
    "editable": true
   },
   "source": [
    "# Find events that meet distance and speed thresholds\n",
    "\n",
    "The extraction uses the `locationPassageWindSpeed` function within the `database` module in TCRM"
   ]
  },
  {
   "cell_type": "markdown",
   "metadata": {
    "deletable": true,
    "editable": true
   },
   "source": [
    "For the DFES severe wind project, the following TCs will be considered:\n",
    "- Cat 5: Broome, Port Hedland, Dampier/Karratha, Exmouth\n",
    "- Cat 3: Broome, Port Hedland, Dampier/Karratha, Exmouth, Geraldton, Carnarvon, Perth\n",
    "- Cat 1: Geraldton, Carnarvon, Perth\n",
    "- ETT: Perth"
   ]
  },
  {
   "cell_type": "code",
   "execution_count": null,
   "metadata": {
    "collapsed": true,
    "deletable": true,
    "editable": true
   },
   "outputs": [],
   "source": [
    "# Set up the thresholds for the different TC categories\n",
    "TC_thresholds = {'category 3': 50, 'category 4': 60, 'category 5': 80}\n",
    "TC_thresholds = {'category 3': 50, 'category 5': 80}\n",
    "\n",
    "#Set the distance threshold for locating TCs\n",
    "dist_thr = 50"
   ]
  },
  {
   "cell_type": "markdown",
   "metadata": {
    "deletable": true,
    "editable": true
   },
   "source": [
    "## We will start with Cat 5 storms"
   ]
  },
  {
   "cell_type": "code",
   "execution_count": null,
   "metadata": {
    "collapsed": false,
    "deletable": true,
    "editable": true
   },
   "outputs": [],
   "source": [
    "strength = 'category 4'\n",
    "speed_thr = TC_thresholds[strength]"
   ]
  },
  {
   "cell_type": "markdown",
   "metadata": {
    "deletable": true,
    "editable": true
   },
   "source": [
    "## Set up the location/s that you would like to analyse\n",
    "\n",
    "Set up a dict of the locations for which you would like to do the analysis. This dict should include the location name as the keys, and a list of [lat, lon] as the associated data."
   ]
  },
  {
   "cell_type": "code",
   "execution_count": null,
   "metadata": {
    "collapsed": false,
    "deletable": true,
    "editable": true
   },
   "outputs": [],
   "source": [
    "locations_to_analyse = {'Broome': [-17.952, 122.232], 'Port Hedland': [-20.310, 118.591], \n",
    "                        'Dampier/Karratha': [-20.704, 116.767], 'Exmouth': [-21.943, 114.134]}\n",
    "\n",
    "tmp_folder = \".\"\n",
    "\n",
    "\n",
    "name_list = []\n",
    "for locs in locations_to_analyse:\n",
    "    locsloc = locations_to_analyse[locs]\n",
    "    listloc = [locations['locLat'], locations['locLon']]    \n",
    "    temp_list = []\n",
    "    for num in range(len(listloc[0])):\n",
    "        temp_list.append(distance(locsloc[0], locsloc[1], listloc[0][num], listloc[1][num]))\n",
    "    min_dist = temp_list.index(min(temp_list))\n",
    "    name_list.append(locations[min_dist])\n",
    "    #for category in TC_thresholds:\n",
    "    #    spd_threshold = TC_thresholds[category]\n",
    "    #    output_filename = \"{0}/location_tcCats/{1}_{2}.pkl\".format(tmp_folder, str(locations[min_dist]), category)\n",
    "    #    events = database.locationPassageWindSpeed(db, str(locations[min_dist]), spd_threshold, dist_thr)\n",
    "    #    with open(output_filename, 'wb') as file:\n",
    "    #        pickle.dump(extreme_events, file, protocol=-1)\n",
    "name_list"
   ]
  },
  {
   "cell_type": "markdown",
   "metadata": {
    "deletable": true,
    "editable": true
   },
   "source": [
    "## See if there is a pickle file for this database search before re-doing it...\n",
    "\n",
    "Just analyse the first location for now..."
   ]
  },
  {
   "cell_type": "code",
   "execution_count": null,
   "metadata": {
    "collapsed": false,
    "deletable": true,
    "editable": true
   },
   "outputs": [],
   "source": [
    "tmp_folder = os.getcwd()\n",
    "output_filename = '{0}/location_tcCats/{1}_{2}.pkl'.format(tmp_folder, str(name_list[0][0]), strength)\n",
    "try:\n",
    "    with open(output_filename, 'rb') as fh:\n",
    "        extreme_events = pickle.load(fh) # this only takes tens of seconds. (6GB)\n",
    "except:\n",
    "    extreme_events = database.locationPassageWindSpeed(db, str(name_list[0][0]), speed_thr, dist_thr)\n",
    "    # To save performing a database search each time, we will pickle out the results to make it quicker to run next time\n",
    "    with open(output_filename, 'wb') as fh:\n",
    "        pickle.dump(extreme_events, fh, protocol=-1) # save result to disk\n",
    "pd.DataFrame(extreme_events)"
   ]
  },
  {
   "cell_type": "code",
   "execution_count": null,
   "metadata": {
    "collapsed": true
   },
   "outputs": [],
   "source": []
  },
  {
   "cell_type": "code",
   "execution_count": null,
   "metadata": {
    "collapsed": false,
    "deletable": true,
    "editable": true
   },
   "outputs": [],
   "source": [
    "tracks = getTracks(extreme_events)"
   ]
  },
  {
   "cell_type": "markdown",
   "metadata": {
    "deletable": true,
    "editable": true
   },
   "source": [
    "## Plot up the tracks identified, and select the track for further analysis "
   ]
  },
  {
   "cell_type": "code",
   "execution_count": null,
   "metadata": {
    "collapsed": false,
    "deletable": true,
    "editable": true,
    "scrolled": false
   },
   "outputs": [],
   "source": [
    "fig, ax = plot_tracks(gridLimit, tracks)  \n",
    "\n",
    "w = widgets.HTML(\"Click on the track you would like to identify\")\n",
    "def onclick(event):\n",
    "    global Lon, Lat\n",
    "    Lon, Lat = event.xdata, event.ydata\n",
    "    w.value = 'Lon: {}, Lat: {}'.format(Lon, Lat) \n",
    "cid = fig.canvas.mpl_connect('button_press_event', onclick)\n",
    "display(w)"
   ]
  },
  {
   "cell_type": "markdown",
   "metadata": {
    "deletable": true,
    "editable": true
   },
   "source": [
    "## Find out which track was selected"
   ]
  },
  {
   "cell_type": "code",
   "execution_count": null,
   "metadata": {
    "collapsed": false,
    "deletable": true,
    "editable": true
   },
   "outputs": [],
   "source": [
    "Diffs = []\n",
    "for track in tracks:\n",
    "    min_val = min(abs(Lon - track.Longitude) + abs(Lat - track.Latitude))\n",
    "    Diffs.append(min_val)\n",
    "ix = Diffs.index(min(Diffs))\n",
    "first, second = tracks[ix].trackId\n",
    "first = str(first).zfill(3)\n",
    "second = str(second).zfill(5)\n",
    "eventid = '{0}-{1}'.format(first, second)\n",
    "chosen = pd.DataFrame(extreme_events[extreme_events['eventId'] == eventid])\n",
    "chosen"
   ]
  },
  {
   "cell_type": "markdown",
   "metadata": {
    "deletable": true,
    "editable": true
   },
   "source": [
    "## Read in the windfield for the chosen event"
   ]
  },
  {
   "cell_type": "code",
   "execution_count": null,
   "metadata": {
    "collapsed": false,
    "deletable": true,
    "editable": true
   },
   "outputs": [],
   "source": [
    "gust_filename = '{0}windfield/gust.{1}.nc'.format(working_dir, str(chosen.eventId[0]))\n",
    "nc = Dataset(gust_filename)\n",
    "lat = nc.variables['lat'][:]\n",
    "lon = nc.variables['lon'][:]\n",
    "vmax = nc.variables['vmax'][:][:]"
   ]
  },
  {
   "cell_type": "code",
   "execution_count": null,
   "metadata": {
    "collapsed": false,
    "deletable": true,
    "editable": true
   },
   "outputs": [],
   "source": [
    "fig = plt.figure(figsize=(10,6))\n",
    "ax = plt.axes(projection=ccrs.PlateCarree())\n",
    "ax.coastlines(resolution='50m', color='grey', linewidth=1)\n",
    "ax.add_feature(feature.BORDERS)\n",
    "gl = ax.gridlines(linestyle=\":\", draw_labels=True)\n",
    "gl.xlabels_top = False\n",
    "gl.ylabels_right = False\n",
    "\n",
    "ax.set_xlim((gridLimit['xMin'], gridLimit['xMax']))\n",
    "ax.set_ylim((gridLimit['yMin'], gridLimit['yMax']))\n",
    "plt.contourf(lon, lat, vmax, 60, transform=ccrs.PlateCarree(), cmap = get_cmap(\"jet\"))\n",
    "plt.title('Modelled max gust windfield for {0} event {1}, near {2}'.format(strength, str(chosen.eventId[0]), \n",
    "                                                                           str(chosen.locName[0])), size=12)\n",
    "ax.set_xlabel('Longitude', fontsize = 10)\n",
    "ax.set_ylabel('Latitude', fontsize = 10)\n",
    "plt.colorbar(ax=ax)\n",
    "\n",
    "plt.show()"
   ]
  },
  {
   "cell_type": "code",
   "execution_count": null,
   "metadata": {
    "collapsed": true,
    "deletable": true,
    "editable": true
   },
   "outputs": [],
   "source": []
  }
 ],
 "metadata": {
  "kernelspec": {
   "display_name": "Python 2",
   "language": "python",
   "name": "python2"
  },
  "language_info": {
   "codemirror_mode": {
    "name": "ipython",
    "version": 2
   },
   "file_extension": ".py",
   "mimetype": "text/x-python",
   "name": "python",
   "nbconvert_exporter": "python",
   "pygments_lexer": "ipython2",
   "version": "2.7.11"
  }
 },
 "nbformat": 4,
 "nbformat_minor": 2
}
