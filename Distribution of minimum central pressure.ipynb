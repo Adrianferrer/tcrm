{
 "cells": [
  {
   "cell_type": "markdown",
   "metadata": {},
   "source": [
    "# Distribution of minimum central pressure\n",
    "\n",
    "We examine the distribution of minimum central pressure, and it's time of occurrence in the lifetime of the TC. We aim to identify the most common period of maximum lifetime intensity, and whether this corresponds to the observations of (anti-)correlation in the pressure rate of change at $t=48$ to $t=96$ hours. "
   ]
  },
  {
   "cell_type": "code",
   "execution_count": 1,
   "metadata": {},
   "outputs": [],
   "source": [
    "%matplotlib inline\n",
    "\n",
    "from __future__ import print_function, division\n",
    "\n",
    "import io\n",
    "import os\n",
    "import sys\n",
    "import numpy as np\n",
    "import numpy.ma as ma\n",
    "from os.path import join as pjoin\n",
    "\n",
    "import matplotlib.pyplot as plt\n",
    "from mpl_toolkits.axes_grid1 import ImageGrid\n",
    "\n",
    "from scipy.stats import pearsonr, betai, weibull_max, gumbel_l, lognorm, norm, weibull_min, nct, exponnorm\n",
    "\n",
    "\n",
    "from Utilities.config import ConfigParser\n",
    "from Utilities.loadData import loadTrackFile\n",
    "from Utilities.config import ConfigParser\n",
    "from Utilities.track import Track\n",
    "from Utilities.metutils import convert\n",
    "\n",
    "import seaborn as sns\n",
    "sns.set_context(\"poster\")\n",
    "sns.set_style(\"whitegrid\")"
   ]
  },
  {
   "cell_type": "code",
   "execution_count": 2,
   "metadata": {
    "collapsed": true
   },
   "outputs": [],
   "source": [
    "configstr = \"\"\"\n",
    "[DataProcess]\n",
    "InputFile=C:/WorkSpace/data/TC/Allstorms.ibtracs_wmo.v03r06.csv\n",
    "Source=IBTRACS\n",
    "StartSeason=1981\n",
    "FilterSeasons=True\n",
    "\n",
    "[Region]\n",
    "; Domain for windfield and hazard calculation\n",
    "gridLimit={'xMin':90.,'xMax':180.,'yMin':-30.0,'yMax':-5.0}\n",
    "gridSpace={'x':1.0,'y':1.0}\n",
    "gridInc={'x':1.0,'y':0.5}\n",
    "\n",
    "[TrackGenerator]\n",
    "NumSimulations=5000\n",
    "YearsPerSimulation=10\n",
    "SeasonSeed=68876543\n",
    "TrackSeed=334825\n",
    "TimeStep=1.0\n",
    "\n",
    "[Input]\n",
    "landmask = C:/WorkSpace/tcrm/input/landmask.nc\n",
    "mslpfile = C:/WorkSpace/data/MSLP/slp.day.ltm.nc\n",
    "datasets = IBTRACS,LTMSLP\n",
    "\n",
    "[Output]\n",
    "Path=C:/WorkSpace/data/TC/aus\n",
    "\n",
    "[Hazard]\n",
    "Years=2,5,10,20,25,50,100,200,250,500,1000,2000,2500,5000\n",
    "MinimumRecords=10\n",
    "CalculateCI=False\n",
    "\n",
    "[Logging]\n",
    "LogFile=C:/WorkSpace/data/TC/aus/log/aus.log\n",
    "LogLevel=INFO\n",
    "Verbose=False\n",
    "\n",
    "[IBTRACS]\n",
    "; Input data file settings\n",
    "url = ftp://eclipse.ncdc.noaa.gov/pub/ibtracs/v03r06/wmo/csv/Allstorms.ibtracs_wmo.v03r06.csv.gz\n",
    "path = C:/WorkSpace/data/TC/\n",
    "filename = Allstorms.ibtracs_wmo.v03r06.csv\n",
    "columns = tcserialno,season,num,skip,skip,skip,date,skip,lat,lon,skip,pressure\n",
    "fielddelimiter = ,\n",
    "numberofheadinglines = 3\n",
    "pressureunits = hPa\n",
    "lengthunits = km\n",
    "dateformat = %Y-%m-%d %H:%M:%S\n",
    "speedunits = kph\n",
    "\n",
    "[LTMSLP]\n",
    "; MSLP climatology file settings\n",
    "URL = ftp://ftp.cdc.noaa.gov/Datasets/ncep.reanalysis.derived/surface/slp.day.1981-2010.ltm.nc\n",
    "path = C:/WorkSpace/data/MSLP\n",
    "filename = slp.day.ltm.nc\"\"\""
   ]
  },
  {
   "cell_type": "code",
   "execution_count": 3,
   "metadata": {
    "collapsed": true
   },
   "outputs": [],
   "source": [
    "config = ConfigParser()\n",
    "config.readfp(io.BytesIO(configstr))"
   ]
  },
  {
   "cell_type": "code",
   "execution_count": 4,
   "metadata": {},
   "outputs": [
    {
     "name": "stderr",
     "output_type": "stream",
     "text": [
      "ERROR:root:File not found: C:/WorkSpace/data/TC/Allstorms.ibtracs_wmo.v03r06.csv\n",
      "Traceback (most recent call last):\n",
      "  File \"C:\\WorkSpace\\tcrm\\Utilities\\columns.py\", line 43, in colReadCSV\n",
      "    autostrip=True)\n",
      "  File \"c:\\python27\\lib\\site-packages\\numpy\\lib\\npyio.py\", line 1510, in genfromtxt\n",
      "    fhd = iter(np.lib._datasource.open(fname, 'rbU'))\n",
      "  File \"c:\\python27\\lib\\site-packages\\numpy\\lib\\_datasource.py\", line 151, in open\n",
      "    return ds.open(path, mode)\n",
      "  File \"c:\\python27\\lib\\site-packages\\numpy\\lib\\_datasource.py\", line 501, in open\n",
      "    raise IOError(\"%s not found.\" % path)\n",
      "IOError: C:/WorkSpace/data/TC/Allstorms.ibtracs_wmo.v03r06.csv not found.\n"
     ]
    },
    {
     "name": "stdout",
     "output_type": "stream",
     "text": [
      "Track file: C:/WorkSpace/data/TC/Allstorms.ibtracs_wmo.v03r06.csv\n",
      "Track format: IBTRACS\n"
     ]
    },
    {
     "ename": "IOError",
     "evalue": "File not found: C:/WorkSpace/data/TC/Allstorms.ibtracs_wmo.v03r06.csv",
     "output_type": "error",
     "traceback": [
      "\u001b[1;31m---------------------------------------------------------------------------\u001b[0m",
      "\u001b[1;31mIOError\u001b[0m                                   Traceback (most recent call last)",
      "\u001b[1;32m<ipython-input-4-6f853616d0fc>\u001b[0m in \u001b[0;36m<module>\u001b[1;34m()\u001b[0m\n\u001b[0;32m      4\u001b[0m \u001b[1;32mprint\u001b[0m\u001b[1;33m(\u001b[0m\u001b[1;34m\"Track file: {0}\"\u001b[0m\u001b[1;33m.\u001b[0m\u001b[0mformat\u001b[0m\u001b[1;33m(\u001b[0m\u001b[0mtrackFile\u001b[0m\u001b[1;33m)\u001b[0m\u001b[1;33m)\u001b[0m\u001b[1;33m\u001b[0m\u001b[0m\n\u001b[0;32m      5\u001b[0m \u001b[1;32mprint\u001b[0m\u001b[1;33m(\u001b[0m\u001b[1;34m\"Track format: {0}\"\u001b[0m\u001b[1;33m.\u001b[0m\u001b[0mformat\u001b[0m\u001b[1;33m(\u001b[0m\u001b[0msource\u001b[0m\u001b[1;33m)\u001b[0m\u001b[1;33m)\u001b[0m\u001b[1;33m\u001b[0m\u001b[0m\n\u001b[1;32m----> 6\u001b[1;33m \u001b[0malltracks\u001b[0m \u001b[1;33m=\u001b[0m \u001b[0mloadTrackFile\u001b[0m\u001b[1;33m(\u001b[0m\u001b[0mconfigstr\u001b[0m\u001b[1;33m,\u001b[0m \u001b[0mtrackFile\u001b[0m\u001b[1;33m,\u001b[0m \u001b[0msource\u001b[0m\u001b[1;33m)\u001b[0m\u001b[1;33m\u001b[0m\u001b[0m\n\u001b[0m\u001b[0;32m      7\u001b[0m \u001b[1;31m#tracks = parseTracks(configstr, trackFile, source, 1.)\u001b[0m\u001b[1;33m\u001b[0m\u001b[1;33m\u001b[0m\u001b[0m\n\u001b[0;32m      8\u001b[0m \u001b[1;33m\u001b[0m\u001b[0m\n",
      "\u001b[1;32mC:\\WorkSpace\\tcrm\\Utilities\\loadData.pyc\u001b[0m in \u001b[0;36mloadTrackFile\u001b[1;34m(configFile, trackFile, source, missingValue, calculateWindSpeed)\u001b[0m\n\u001b[0;32m    810\u001b[0m \u001b[1;33m\u001b[0m\u001b[0m\n\u001b[0;32m    811\u001b[0m     \u001b[0mLOG\u001b[0m\u001b[1;33m.\u001b[0m\u001b[0minfo\u001b[0m\u001b[1;33m(\u001b[0m\u001b[1;34m\"Loading %s\"\u001b[0m \u001b[1;33m%\u001b[0m \u001b[0mtrackFile\u001b[0m\u001b[1;33m)\u001b[0m\u001b[1;33m\u001b[0m\u001b[0m\n\u001b[1;32m--> 812\u001b[1;33m     \u001b[0minputData\u001b[0m \u001b[1;33m=\u001b[0m \u001b[0mcolReadCSV\u001b[0m\u001b[1;33m(\u001b[0m\u001b[0mconfigFile\u001b[0m\u001b[1;33m,\u001b[0m \u001b[0mtrackFile\u001b[0m\u001b[1;33m,\u001b[0m \u001b[0msource\u001b[0m\u001b[1;33m)\u001b[0m \u001b[1;31m#,\u001b[0m\u001b[1;33m\u001b[0m\u001b[0m\n\u001b[0m\u001b[0;32m    813\u001b[0m                           \u001b[1;31m#nullValue=missingValue)\u001b[0m\u001b[1;33m\u001b[0m\u001b[1;33m\u001b[0m\u001b[0m\n\u001b[0;32m    814\u001b[0m \u001b[1;33m\u001b[0m\u001b[0m\n",
      "\u001b[1;32mC:\\WorkSpace\\tcrm\\Utilities\\columns.pyc\u001b[0m in \u001b[0;36mcolReadCSV\u001b[1;34m(configFile, dataFile, source)\u001b[0m\n\u001b[0;32m     44\u001b[0m     \u001b[1;32mexcept\u001b[0m \u001b[0mIOError\u001b[0m\u001b[1;33m:\u001b[0m\u001b[1;33m\u001b[0m\u001b[0m\n\u001b[0;32m     45\u001b[0m         \u001b[0mlog\u001b[0m\u001b[1;33m.\u001b[0m\u001b[0mexception\u001b[0m\u001b[1;33m(\u001b[0m\u001b[1;34m\"File not found: {0}\"\u001b[0m\u001b[1;33m.\u001b[0m\u001b[0mformat\u001b[0m\u001b[1;33m(\u001b[0m\u001b[0mdataFile\u001b[0m\u001b[1;33m)\u001b[0m\u001b[1;33m)\u001b[0m\u001b[1;33m\u001b[0m\u001b[0m\n\u001b[1;32m---> 46\u001b[1;33m         \u001b[1;32mraise\u001b[0m \u001b[0mIOError\u001b[0m\u001b[1;33m(\u001b[0m\u001b[1;34m\"File not found: {0}\"\u001b[0m\u001b[1;33m.\u001b[0m\u001b[0mformat\u001b[0m\u001b[1;33m(\u001b[0m\u001b[0mdataFile\u001b[0m\u001b[1;33m)\u001b[0m\u001b[1;33m)\u001b[0m\u001b[1;33m\u001b[0m\u001b[0m\n\u001b[0m\u001b[0;32m     47\u001b[0m     \u001b[1;32mexcept\u001b[0m \u001b[0mTypeError\u001b[0m\u001b[1;33m:\u001b[0m\u001b[1;33m\u001b[0m\u001b[0m\n\u001b[0;32m     48\u001b[0m         log.exception((\"{0} is not a string, filehandle \"\n",
      "\u001b[1;31mIOError\u001b[0m: File not found: C:/WorkSpace/data/TC/Allstorms.ibtracs_wmo.v03r06.csv"
     ]
    }
   ],
   "source": [
    "trackFile = config.get('DataProcess', 'InputFile')\n",
    "source = config.get('DataProcess', 'Source')\n",
    "\n",
    "print(\"Track file: {0}\".format(trackFile))\n",
    "print(\"Track format: {0}\".format(source))\n",
    "alltracks = loadTrackFile(configstr, trackFile, source)\n",
    "#tracks = parseTracks(configstr, trackFile, source, 1.)\n",
    "\n",
    "gridLimit=config.geteval('Region', 'gridLimit')\n",
    "\n",
    "tracks = [track for track in alltracks if track.inRegion(gridLimit)]\n",
    "\n",
    "print(\"There are {0:d} tracks in the input dataset\".format(len(tracks)))"
   ]
  },
  {
   "cell_type": "code",
   "execution_count": 5,
   "metadata": {
    "collapsed": true
   },
   "outputs": [],
   "source": [
    "def getIndices(elapsedTime, delta=6, maxtime=120):\n",
    "    filter1 = (np.mod(elapsedTime, delta)==0)\n",
    "    filter2 = (elapsedTime<=maxtime)\n",
    "    idx = np.nonzero(filter1 & filter2)\n",
    "    return idx"
   ]
  },
  {
   "cell_type": "code",
   "execution_count": 6,
   "metadata": {},
   "outputs": [],
   "source": [
    "ntracks = len(tracks)\n",
    "ndays = 7\n",
    "nhours = ndays * 24.\n",
    "\n",
    "steps = range(6, int(nhours + 1), 6)\n",
    "prsteps = range(0, int(nhours + 1), 6)\n",
    "alldp = ma.zeros((nhours/6., ntracks))\n",
    "allprs = ma.zeros((nhours/6 + 1, ntracks))\n",
    "minprs = np.zeros(ntracks)\n",
    "minprststep = np.zeros(ntracks)\n",
    "for i, track in enumerate(tracks):\n",
    "    minprs[i] = track.trackMinPressure\n",
    "    idx = np.where(track.CentralPressure == track.trackMinPressure)\n",
    "    minprststep[i] = track.TimeElapsed[idx[0][0]]\n",
    "    \n",
    "pmask = (minprs==0)\n",
    "minprs = ma.array(minprs, mask=pmask)\n",
    "minprststep = ma.array(minprststep, mask=pmask)"
   ]
  },
  {
   "cell_type": "code",
   "execution_count": 29,
   "metadata": {},
   "outputs": [],
   "source": [
    "ax = sns.distplot(minprststep.compress(minprststep!=0), bins=np.arange(0, 241, 6), \n",
    "                  fit=exponnorm, fit_kws=dict(label='Exponential normal', color='r'),\n",
    "                  kde_kws=dict(label='KDE distribution'),\n",
    "                  hist_kws=dict(label='Probability'))\n",
    "ax.set_xlim((0, 240))\n",
    "ax.set_xticks(np.arange(0, 241, 24))\n",
    "ax.set_title(\"Time of minimum central pressure (hrs)\")\n",
    "ax.set_xlabel(\"Time\")\n",
    "fp = lognorm.fit(minprststep.compress(minprststep!=0), floc=0)\n",
    "ax.plot(np.arange(0, 240), lognorm.pdf(np.arange(0, 240), *fp), label='Lognormal')\n",
    "ax.legend(loc=1)"
   ]
  },
  {
   "cell_type": "markdown",
   "metadata": {},
   "source": [
    "So the observations tell us that most TCs reach peak intensity (c.f. reach minimum central pressure) around 48-72 hours after the initial observation. The likelihood of a storm achieving minimum central pressure after 96 hours is less than"
   ]
  },
  {
   "cell_type": "code",
   "execution_count": 13,
   "metadata": {},
   "outputs": [],
   "source": [
    "ax = sns.distplot(minprs.compress(minprs!=0), bins=np.arange(880, 1011, 5),\n",
    "                  fit=gumbel_l,kde_kws={'label':'KDE distribution'},\n",
    "                   fit_kws={\"color\":'r', \"label\":\"Gumbel distribution\"})\n",
    "ax.set_xlim((880, 1010))\n",
    "ax.set_title(\"Minimum central pressure\")\n",
    "ax.set_xlabel(\"Minimum central pressure (hPa)\")"
   ]
  },
  {
   "cell_type": "code",
   "execution_count": null,
   "metadata": {
    "collapsed": true
   },
   "outputs": [],
   "source": []
  }
 ],
 "metadata": {
  "kernelspec": {
   "display_name": "Python 2",
   "language": "python",
   "name": "python2"
  },
  "language_info": {
   "codemirror_mode": {
    "name": "ipython",
    "version": 2
   },
   "file_extension": ".py",
   "mimetype": "text/x-python",
   "name": "python",
   "nbconvert_exporter": "python",
   "pygments_lexer": "ipython2",
   "version": "2.7.3"
  }
 },
 "nbformat": 4,
 "nbformat_minor": 1
}
