{
 "cells": [
  {
   "cell_type": "markdown",
   "metadata": {},
   "source": [
    "# Boundary layer models\n",
    "\n",
    "The interaction of the primary vortex with the Earth's surface is where we want to focus for a hazard model. This is where the effects of a TC are felt, so we want to capture the wind speeds at the surface. \n",
    "\n"
   ]
  },
  {
   "cell_type": "code",
   "execution_count": null,
   "metadata": {},
   "outputs": [],
   "source": [
    "%matplotlib inline\n",
    "import matplotlib.pyplot as plt\n",
    "from matplotlib import cm as cmap\n",
    "from inspect import getargspec\n",
    "import numpy as np\n",
    "\n",
    "from wind import windmodels\n",
    "from Utilities import metutils\n",
    "from Utilities.maputils import bearing2theta, makeGrid, meshLatLon, gridLatLonDist\n",
    "from PlotInterface.maps import saveWindfieldMap\n",
    "\n",
    "from ipywidgets import interact, fixed, FloatSlider, Dropdown\n",
    "import ipywidgets as widgets\n",
    "\n",
    "import seaborn as sns\n",
    "sns.set_style('ticks', {'image.cmap':'coolwarm'})\n",
    "sns.set_context('poster')"
   ]
  },
  {
   "cell_type": "markdown",
   "metadata": {},
   "source": [
    "Some simple functions to help with setting up the wind fields."
   ]
  },
  {
   "cell_type": "code",
   "execution_count": null,
   "metadata": {},
   "outputs": [],
   "source": [
    "def polarGridAroundEye(lon, lat, margin=3, resolution=0.01):\n",
    "    R, theta = makeGrid(lon, lat, margin, resolution)\n",
    "    return R, theta\n",
    "\n",
    "def meshGrid(lon, lat, margin=3, resolution=0.01):\n",
    "    xgrid, ygrid = meshLatLon(lon, lat, margin, resolution)\n",
    "    return xgrid, ygrid"
   ]
  },
  {
   "cell_type": "markdown",
   "metadata": {},
   "source": [
    "Here we call the functions from TCRM to generate a surface wind field that incorporates the effects of storm forward motion and surface friction. There are two primary steps:\n",
    "1. Create a radial profile that represents the primary vortex at the gradient level. This is the `cls = windmodels.profile(profileType)` line.\n",
    "    1. If the selected profile is the \"Holland\" profile, we need to supply the $\\beta$ parameter value to the method call that calculates the profile (`profile = cls(...)`)\n",
    "    2. If the selected profile is the \"DoubleHolland\" profile, we need to supply the $\\beta$ parameter value to the method call twice, once for each of the components of the profile. They can be different, but here we leave them the same.\n",
    "    3. Otherwise, this parameter is calculated automatically, or not required.\n",
    "2. Calculate the surface wind field, using the chosen radial profile: `windfield = cls(profile)`\n",
    "We then determine the eastward and northward components of the wind field (`Ux`, `Vy`)."
   ]
  },
  {
   "cell_type": "code",
   "execution_count": null,
   "metadata": {},
   "outputs": [],
   "source": [
    "def localWindField(lon, lat, pEnv, pCentre, rMax, vFm, thetaFm, beta, \n",
    "                   profileType='powell', windFieldType='kepert'):\n",
    "    thetaMax = 70.\n",
    "    cls = windmodels.profile(profileType)\n",
    "    if profileType==\"holland\":\n",
    "        profile = cls(lat, lon, pEnv, pCentre, rMax*1000, beta)\n",
    "    else:\n",
    "        profile = cls(lat, lon, pEnv, pCentre, rMax*1000)\n",
    "    R, theta = polarGridAroundEye(lon, lat)\n",
    "    \n",
    "    cls = windmodels.field(windFieldType)\n",
    "    windfield = cls(profile)\n",
    "    \n",
    "    Ux, Vy = windfield.field(R*1000, theta, vFm, thetaFm, thetaMax)\n",
    "    return Ux, Vy"
   ]
  },
  {
   "cell_type": "markdown",
   "metadata": {},
   "source": [
    "This next function is a plotting routine. Given the parameters of a cyclone, calculate the surface wind field and plot up the various components."
   ]
  },
  {
   "cell_type": "code",
   "execution_count": null,
   "metadata": {},
   "outputs": [],
   "source": [
    "def plotWindfield(lon, lat, pEnv, pCentre, rMax, vFm, thetaFm, beta, \n",
    "                  profileType='powell', windFieldType='kepert'):\n",
    "    pCentre *= 100.\n",
    "    pEnv *= 100.\n",
    "    vFm /= 3.6\n",
    "    thetaFm = bearing2theta(np.pi * thetaFm / 180.)\n",
    "\n",
    "    xgrid, ygrid = meshGrid(lon, lat)\n",
    "    \n",
    "    Ux, Vy = localWindField(lon, lat, pEnv, pCentre, rMax, vFm, thetaFm, beta, \n",
    "                            profileType=profileType, windFieldType=windFieldType)\n",
    "    cx = rMax*np.sin(np.arange(0.00,6.29,0.01))  # Circle for rmw plots.\n",
    "    cy = rMax*np.cos(np.arange(0.00,6.29,0.01))\n",
    "    xlims=[lon-2, lon+2]\n",
    "    ylims=[lat-2, lat+2]\n",
    "    xkmlims = [-150, 150]\n",
    "    ykmlims = [-150, 150]\n",
    "    \n",
    "    fig, ax = plt.subplots(1, 1, subplot_kw={'aspect':'equal'}, figsize=(12, 12))\n",
    "    ax.hold(True)\n",
    "    ax.set_xlim(xlims)\n",
    "    ax.set_ylim(ylims)\n",
    "    levels = np.arange(-20, 21, 2)\n",
    "    cm = ax.contourf(xgrid, ygrid, np.sqrt(Ux*Ux+Vy*Vy), np.arange(0., 101, 5))\n",
    "    ax.streamplot(xgrid, ygrid, Ux, Vy, density=3, color='k', linewidth=1)\n",
    "    plt.colorbar(cm, ax=ax, orientation='horizontal')\n",
    "    \n",
    "    vmax = np.max(np.sqrt(Ux*Ux+Vy*Vy))*3.6\n",
    "    ax.set_title(\"Maximum wind speed: {0:.1f} km/h\".format(vmax))\n",
    "    fig.tight_layout()\n",
    "    plt.show()"
   ]
  },
  {
   "cell_type": "markdown",
   "metadata": {},
   "source": [
    "Now we create a list of the available profiles and boundary layer models. This list is built into the `windmodels` class to enable this kind of introspection. The lists will be used in a dropdown list to allow you to switch the profile or boundary layer model in the interactive plotting routine. "
   ]
  },
  {
   "cell_type": "code",
   "execution_count": null,
   "metadata": {},
   "outputs": [],
   "source": [
    "profileOpts = windmodels.PROFILES.keys()\n",
    "blOpts = windmodels.FIELDS.keys()"
   ]
  },
  {
   "cell_type": "code",
   "execution_count": null,
   "metadata": {},
   "outputs": [],
   "source": [
    "interact(plotWindfield, \n",
    "         lon=fixed(120),\n",
    "         lat=FloatSlider(value=-20., min=-30., max=0, step=0.1, description=\"Latitude\"), \n",
    "         pEnv=FloatSlider(value=995, min=995, max=1000, step=1, description=\"Environmental pressure (Pa)\"),\n",
    "         pCentre=FloatSlider(value=950, min=900, max=990, step=1, description=\"Central pressure (Pa)\"),\n",
    "         rMax=FloatSlider(value=25, min=10, max=100, step=1, description=\"Radius to maximum wind (km)\"),\n",
    "         vFm=FloatSlider(value=10, min=0, max=30, step=0.1, description=\"Forward speed (km/h)\"),\n",
    "         thetaFm=FloatSlider(value=180, min=0, max=360, step=1, description=\"Storm bearing\"),\n",
    "         beta=FloatSlider(value=1.6, min=1.2, max=2.5, step=0.05, description=\"Beta parameter\"),\n",
    "         profileType=Dropdown(options=profileOpts, value=\"powell\", description=\"Radial profile\"),\n",
    "         windFieldType=Dropdown(options=blOpts, value=\"kepert\", description=\"Boundary layer model\"))"
   ]
  },
  {
   "cell_type": "code",
   "execution_count": null,
   "metadata": {},
   "outputs": [],
   "source": []
  },
  {
   "cell_type": "code",
   "execution_count": null,
   "metadata": {},
   "outputs": [],
   "source": [
    "\n",
    "def _plotWindfield(lon, lat, pEnv, pCentre, rMax, vFm, thetaFm, beta, \n",
    "                  profileType='powell', windFieldType='kepert'):\n",
    "    thetaFm = thetaFm * np.pi / 180.\n",
    "    xgrid, ygrid = meshGrid(lon, lat)\n",
    "    \n",
    "    Ux, Vy = localWindField(lon, lat, pEnv, pCentre, rMax, vFm, thetaFm, beta, \n",
    "                            profileType=profileType, windFieldType=windFieldType)\n",
    "    cx = rMax*np.sin(np.arange(0.00,6.29,0.01))  # Circle for rmw plots.\n",
    "    cy = rMax*np.cos(np.arange(0.00,6.29,0.01))\n",
    "    \n",
    "    xlims=[lon-2, lon+2]\n",
    "    ylims=[lat-2, lat+2]\n",
    "    xkmlims = [-150, 150]\n",
    "    ykmlims = [-150, 150]\n",
    "    fig, axes = plt.subplots(2, 2,subplot_kw={'aspect':'equal'}, figsize=(16, 16))\n",
    "    ax = axes.flatten()\n",
    "    ax[0].hold(True)\n",
    "    ax[0].set_xlim(xlims)\n",
    "    ax[0].set_ylim(ylims)\n",
    "    levels = np.arange(-20, 21, 2)\n",
    "    cm = ax[0].contourf(xgrid, ygrid, Ux, np.arange(-100., 101, 5))\n",
    "    cs = ax[0].contour(xgrid, ygrid, Ux, np.arange(-100, 101, 5), colors='k')\n",
    "    ax[0].clabel(cs, fontsize='x-small', fmt='%1.2f') \n",
    "    ax[0].plot(cx,cy,'w')\n",
    "    plt.colorbar(cm, ax=ax[0], orientation='horizontal')\n",
    "    \n",
    "    ax[1].hold(True)\n",
    "    ax[1].set_xlim(xlims)\n",
    "    ax[1].set_ylim(ylims)\n",
    "    levels = np.arange(-20, 21, 2)\n",
    "    cm = ax[1].contourf(xgrid, ygrid, Vy, np.arange(-100., 101, 5))\n",
    "    cs = ax[1].contour(xgrid, ygrid, Vy, np.arange(-100, 101, 5), colors='k')\n",
    "    ax[1].clabel(cs, fontsize='x-small', fmt='%1.2f') \n",
    "    plt.colorbar(cm, ax=ax[1], orientation='horizontal')\n",
    "    ax[1].plot(cx,cy,'w')\n",
    "    \n",
    "    ax[2].hold(True)\n",
    "    ax[2].set_xlim(xlims)\n",
    "    ax[2].set_ylim(ylims)\n",
    "    levels = np.arange(-20, 21, 2)\n",
    "    cm = ax[2].contourf(xgrid, ygrid, np.sqrt(Ux*Ux+Vy*Vy), np.arange(0., 101, 5))\n",
    "    cs = ax[2].contour(xgrid, ygrid, np.sqrt(Ux*Ux+Vy*Vy), np.arange(0, 101, 5), colors='k')\n",
    "    ax[2].clabel(cs, fontsize='x-small', fmt='%1.2f') \n",
    "    plt.colorbar(cm, ax=ax[2], orientation='horizontal')\n",
    "    ax[2].plot(cx,cy,'w')    \n",
    "    \n",
    "    ax[3].hold(True)\n",
    "    ax[3].set_xlim(xlims)\n",
    "    ax[3].set_ylim(ylims)\n",
    "    levels = np.arange(-20, 21, 2)\n",
    "    cm = ax[3].contourf(xgrid, ygrid, np.sqrt(Ux*Ux+Vy*Vy), np.arange(0., 101, 5))\n",
    "    ax[3].streamplot(xgrid, ygrid, Ux, Vy, density=3, color='k', linewidth=1)\n",
    "    plt.colorbar(cm, ax=ax[3], orientation='horizontal')\n",
    "    fig.tight_layout()\n",
    "    plt.show()\n"
   ]
  }
 ],
 "metadata": {
  "kernelspec": {
   "display_name": "Python 2",
   "language": "python",
   "name": "python2"
  },
  "language_info": {
   "codemirror_mode": {
    "name": "ipython",
    "version": 2
   },
   "file_extension": ".py",
   "mimetype": "text/x-python",
   "name": "python",
   "nbconvert_exporter": "python",
   "pygments_lexer": "ipython2",
   "version": "2.7.3"
  }
 },
 "nbformat": 4,
 "nbformat_minor": 1
}
