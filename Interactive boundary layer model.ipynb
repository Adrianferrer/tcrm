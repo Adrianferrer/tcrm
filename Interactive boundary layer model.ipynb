{
 "cells": [
  {
   "cell_type": "markdown",
   "metadata": {},
   "source": [
    "# Boundary layer models\n",
    "\n",
    "The interaction of the primary vortex with the Earth's surface is where we want to focus for a hazard model. This is where the effects of a TC are felt, so we want to capture the wind speeds at the surface. \n",
    "\n"
   ]
  },
  {
   "cell_type": "code",
   "execution_count": 1,
   "metadata": {
    "collapsed": true
   },
   "outputs": [],
   "source": [
    "%matplotlib inline\n",
    "import matplotlib.pyplot as plt\n",
    "from matplotlib import cm as cmap\n",
    "from inspect import getargspec\n",
    "import numpy as np\n",
    "\n",
    "from wind import windmodels\n",
    "from Utilities import metutils\n",
    "from Utilities.maputils import bearing2theta, makeGrid, meshLatLon, gridLatLonDist\n",
    "from PlotInterface.maps import saveWindfieldMap\n",
    "\n",
    "from ipywidgets import interact, fixed, FloatSlider, Dropdown\n",
    "import ipywidgets as widgets\n",
    "\n",
    "import seaborn as sns\n",
    "sns.set_style('ticks', {'image.cmap':'coolwarm'})\n",
    "sns.set_context('poster')"
   ]
  },
  {
   "cell_type": "markdown",
   "metadata": {},
   "source": [
    "Some simple functions to help with setting up the wind fields."
   ]
  },
  {
   "cell_type": "code",
   "execution_count": 2,
   "metadata": {
    "collapsed": true
   },
   "outputs": [],
   "source": [
    "def polarGridAroundEye(lon, lat, margin=3, resolution=0.01):\n",
    "    R, theta = makeGrid(lon, lat, margin, resolution)\n",
    "    return R, theta\n",
    "\n",
    "def meshGrid(lon, lat, margin=3, resolution=0.01):\n",
    "    xgrid, ygrid = meshLatLon(lon, lat, margin, resolution)\n",
    "    return xgrid, ygrid"
   ]
  },
  {
   "cell_type": "markdown",
   "metadata": {},
   "source": [
    "Here we call the functions from TCRM to generate a surface wind field that incorporates the effects of storm forward motion and surface friction. There are two primary steps:\n",
    "1. Create a radial profile that represents the primary vortex at the gradient level. This is the `cls = windmodels.profile(profileType)` line.\n",
    "    1. If the selected profile is the \"Holland\" profile, we need to supply the $\\beta$ parameter value to the method call that calculates the profile (`profile = cls(...)`)\n",
    "    2. Otherwise, this parameter is calculated automatically, or not required.\n",
    "2. Calculate the surface wind field, using the chosen radial profile: `windfield = cls(profile)`\n",
    "We then determine the eastward and northward components of the wind field (`Ux`, `Vy`)."
   ]
  },
  {
   "cell_type": "code",
   "execution_count": 3,
   "metadata": {
    "collapsed": true
   },
   "outputs": [],
   "source": [
    "def localWindField(lon, lat, pEnv, pCentre, rMax, vFm, thetaFm, beta, \n",
    "                   profileType='powell', windFieldType='kepert'):\n",
    "    thetaMax = 70.\n",
    "    cls = windmodels.profile(profileType)\n",
    "    if profileType==\"holland\":\n",
    "        profile = cls(lat, lon, pEnv, pCentre, rMax*1000, beta)\n",
    "    else:\n",
    "        profile = cls(lat, lon, pEnv, pCentre, rMax*1000)\n",
    "    R, theta = polarGridAroundEye(lon, lat)\n",
    "    \n",
    "    cls = windmodels.field(windFieldType)\n",
    "    windfield = cls(profile)\n",
    "    \n",
    "    Ux, Vy = windfield.field(R*1000, theta, vFm, thetaFm, thetaMax)\n",
    "    return Ux, Vy"
   ]
  },
  {
   "cell_type": "markdown",
   "metadata": {},
   "source": [
    "This next function is a plotting routine. Given the parameters of a cyclone, calculate the surface wind field and plot up the various components."
   ]
  },
  {
   "cell_type": "code",
   "execution_count": 4,
   "metadata": {
    "collapsed": true
   },
   "outputs": [],
   "source": [
    "def plotWindfield(lon, lat, pEnv, pCentre, rMax, vFm, thetaFm, beta, \n",
    "                  profileType='powell', windFieldType='kepert'):\n",
    "    thetaFm = thetaFm * np.pi / 180.\n",
    "    pCentre *= 100.\n",
    "    pEnv *= 100.\n",
    "    vFm /= 3.6\n",
    "    xgrid, ygrid = meshGrid(lon, lat)\n",
    "    \n",
    "    Ux, Vy = localWindField(lon, lat, pEnv, pCentre, rMax, vFm, thetaFm, beta, \n",
    "                            profileType=profileType, windFieldType=windFieldType)\n",
    "    cx = rMax*np.sin(np.arange(0.00,6.29,0.01))  # Circle for rmw plots.\n",
    "    cy = rMax*np.cos(np.arange(0.00,6.29,0.01))\n",
    "    xlims=[lon-2, lon+2]\n",
    "    ylims=[lat-2, lat+2]\n",
    "    xkmlims = [-150, 150]\n",
    "    ykmlims = [-150, 150]\n",
    "    \n",
    "    fig, ax = plt.subplots(1, 1, subplot_kw={'aspect':'equal'}, figsize=(12, 12))\n",
    "    ax.hold(True)\n",
    "    ax.set_xlim(xlims)\n",
    "    ax.set_ylim(ylims)\n",
    "    levels = np.arange(-20, 21, 2)\n",
    "    cm = ax.contourf(xgrid, ygrid, np.sqrt(Ux*Ux+Vy*Vy), np.arange(0., 101, 5))\n",
    "    ax.streamplot(xgrid, ygrid, Ux, Vy, density=3, color='k', linewidth=1)\n",
    "    plt.colorbar(cm, ax=ax, orientation='horizontal')\n",
    "    \n",
    "    vmax = np.max(np.sqrt(Ux*Ux+Vy*Vy))*3.6\n",
    "    ax.set_title(\"Maximum wind speed: {0:.1f} km/h\".format(vmax))\n",
    "    fig.tight_layout()\n",
    "    plt.show()"
   ]
  },
  {
   "cell_type": "markdown",
   "metadata": {},
   "source": [
    "Now we create a list of the available profiles and boundary layer models. This list is built into the `windmodels` class to enable this kind of introspection. The lists will be used in a dropdown list to allow you to switch the profile or boundary layer model in the interactive plotting routine. "
   ]
  },
  {
   "cell_type": "code",
   "execution_count": 5,
   "metadata": {
    "collapsed": true
   },
   "outputs": [],
   "source": [
    "profileOpts = [p for p in windmodels.PROFILES]\n",
    "blOpts = [b for b in windmodels.FIELDS]"
   ]
  },
  {
   "cell_type": "code",
   "execution_count": 6,
   "metadata": {},
   "outputs": [
    {
     "data": {
      "application/vnd.jupyter.widget-view+json": {
       "model_id": "e475e229df1144519eb4c59bb7693c5c"
      }
     },
     "metadata": {},
     "output_type": "display_data"
    },
    {
     "data": {
      "text/plain": [
       "<function __main__.plotWindfield>"
      ]
     },
     "execution_count": 6,
     "metadata": {},
     "output_type": "execute_result"
    }
   ],
   "source": [
    "interact(plotWindfield, \n",
    "         lon=fixed(120),\n",
    "         lat=FloatSlider(value=-20., min=-30., max=0, step=0.1, description=\"Latitude\"), \n",
    "         pEnv=FloatSlider(value=995, min=995, max=1000, step=1, description=\"Environmental pressure (Pa)\"),\n",
    "         pCentre=FloatSlider(value=950, min=900, max=990, step=1, description=\"Central pressure (Pa)\"),\n",
    "         rMax=FloatSlider(value=25, min=10, max=100, step=1, description=\"Radius to maximum wind (km)\"),\n",
    "         vFm=FloatSlider(value=10, min=0, max=30, step=0.1, description=\"Forward speed (km/h)\"),\n",
    "         thetaFm=FloatSlider(value=180, min=0, max=360, step=1, description=\"Storm bearing\"),\n",
    "         beta=FloatSlider(value=1.6, min=1.2, max=2.5, step=0.05, description=\"Beta parameter\"),\n",
    "         profileType=Dropdown(options=profileOpts, value=\"powell\", description=\"Radial profile\"),\n",
    "         windFieldType=Dropdown(options=blOpts, value=\"kepert\", description=\"Boundary layer model\"))"
   ]
  },
  {
   "cell_type": "code",
   "execution_count": null,
   "metadata": {
    "collapsed": true
   },
   "outputs": [],
   "source": []
  },
  {
   "cell_type": "code",
   "execution_count": 9,
   "metadata": {
    "collapsed": true
   },
   "outputs": [],
   "source": [
    "\n",
    "def _plotWindfield(lon, lat, pEnv, pCentre, rMax, vFm, thetaFm, beta, \n",
    "                  profileType='powell', windFieldType='kepert'):\n",
    "    thetaFm = thetaFm * np.pi / 180.\n",
    "    xgrid, ygrid = meshGrid(lon, lat)\n",
    "    \n",
    "    Ux, Vy = localWindField(lon, lat, pEnv, pCentre, rMax, vFm, thetaFm, beta, \n",
    "                            profileType=profileType, windFieldType=windFieldType)\n",
    "    cx = rMax*np.sin(np.arange(0.00,6.29,0.01))  # Circle for rmw plots.\n",
    "    cy = rMax*np.cos(np.arange(0.00,6.29,0.01))\n",
    "    \n",
    "    xlims=[lon-2, lon+2]\n",
    "    ylims=[lat-2, lat+2]\n",
    "    xkmlims = [-150, 150]\n",
    "    ykmlims = [-150, 150]\n",
    "    fig, axes = plt.subplots(2, 2,subplot_kw={'aspect':'equal'}, figsize=(16, 16))\n",
    "    ax = axes.flatten()\n",
    "    ax[0].hold(True)\n",
    "    ax[0].set_xlim(xlims)\n",
    "    ax[0].set_ylim(ylims)\n",
    "    levels = np.arange(-20, 21, 2)\n",
    "    cm = ax[0].contourf(xgrid, ygrid, Ux, np.arange(-100., 101, 5))\n",
    "    cs = ax[0].contour(xgrid, ygrid, Ux, np.arange(-100, 101, 5), colors='k')\n",
    "    ax[0].clabel(cs, fontsize='x-small', fmt='%1.2f') \n",
    "    ax[0].plot(cx,cy,'w')\n",
    "    plt.colorbar(cm, ax=ax[0], orientation='horizontal')\n",
    "    \n",
    "    ax[1].hold(True)\n",
    "    ax[1].set_xlim(xlims)\n",
    "    ax[1].set_ylim(ylims)\n",
    "    levels = np.arange(-20, 21, 2)\n",
    "    cm = ax[1].contourf(xgrid, ygrid, Vy, np.arange(-100., 101, 5))\n",
    "    cs = ax[1].contour(xgrid, ygrid, Vy, np.arange(-100, 101, 5), colors='k')\n",
    "    ax[1].clabel(cs, fontsize='x-small', fmt='%1.2f') \n",
    "    plt.colorbar(cm, ax=ax[1], orientation='horizontal')\n",
    "    ax[1].plot(cx,cy,'w')\n",
    "    \n",
    "    ax[2].hold(True)\n",
    "    ax[2].set_xlim(xlims)\n",
    "    ax[2].set_ylim(ylims)\n",
    "    levels = np.arange(-20, 21, 2)\n",
    "    cm = ax[2].contourf(xgrid, ygrid, np.sqrt(Ux*Ux+Vy*Vy), np.arange(0., 101, 5))\n",
    "    cs = ax[2].contour(xgrid, ygrid, np.sqrt(Ux*Ux+Vy*Vy), np.arange(0, 101, 5), colors='k')\n",
    "    ax[2].clabel(cs, fontsize='x-small', fmt='%1.2f') \n",
    "    plt.colorbar(cm, ax=ax[2], orientation='horizontal')\n",
    "    ax[2].plot(cx,cy,'w')    \n",
    "    \n",
    "    ax[3].hold(True)\n",
    "    ax[3].set_xlim(xlims)\n",
    "    ax[3].set_ylim(ylims)\n",
    "    levels = np.arange(-20, 21, 2)\n",
    "    cm = ax[3].contourf(xgrid, ygrid, np.sqrt(Ux*Ux+Vy*Vy), np.arange(0., 101, 5))\n",
    "    ax[3].streamplot(xgrid, ygrid, Ux, Vy, density=3, color='k', linewidth=1)\n",
    "    plt.colorbar(cm, ax=ax[3], orientation='horizontal')\n",
    "    fig.tight_layout()\n",
    "    plt.show()\n"
   ]
  }
 ],
 "metadata": {
  "kernelspec": {
   "display_name": "Python 2",
   "language": "python",
   "name": "python2"
  },
  "language_info": {
   "codemirror_mode": {
    "name": "ipython",
    "version": 2
   },
   "file_extension": ".py",
   "mimetype": "text/x-python",
   "name": "python",
   "nbconvert_exporter": "python",
   "pygments_lexer": "ipython2",
   "version": "2.7.3"
  },
  "widgets": {
   "application/vnd.jupyter.widget-state+json": {
    "state": {
     "080577b7dad94b9086a5cb40cc8125b5": {
      "model_module": "jupyter-js-widgets",
      "model_module_version": "~2.1.4",
      "model_name": "OutputModel",
      "state": {
       "_dom_classes": [],
       "_model_module": "jupyter-js-widgets",
       "_model_module_version": "~2.1.4",
       "_view_module": "jupyter-js-widgets",
       "_view_module_version": "~2.1.4",
       "layout": "IPY_MODEL_8545e68df3dc4058add10157598123b3",
       "msg_throttle": 1
      }
     },
     "0a815a257f5749038655b44dd116d3fe": {
      "model_module": "jupyter-js-widgets",
      "model_module_version": "~2.1.4",
      "model_name": "DropdownModel",
      "state": {
       "_model_module_version": "~2.1.4",
       "_options_labels": [
        "kepert",
        "mcconochie",
        "hubbert"
       ],
       "_view_module_version": "~2.1.4",
       "description": "Boundary layer model",
       "layout": "IPY_MODEL_f6d81f58c5e944728a328821067dbebd",
       "value": "kepert"
      }
     },
     "1f405ab65ad8456eabb4364e4213a64b": {
      "model_module": "jupyter-js-widgets",
      "model_module_version": "~2.1.4",
      "model_name": "LayoutModel",
      "state": {
       "_model_module_version": "~2.1.4",
       "_view_module_version": "~2.1.4"
      }
     },
     "3178ee68618346d49b3a581886d5899c": {
      "model_module": "jupyter-js-widgets",
      "model_module_version": "~2.1.4",
      "model_name": "VBoxModel",
      "state": {
       "_dom_classes": [
        "widget-interact"
       ],
       "_model_module_version": "~2.1.4",
       "_view_module_version": "~2.1.4",
       "children": [
        "IPY_MODEL_c40504988ca84bdfbf5cf0a9b1e78a90",
        "IPY_MODEL_b0e60db7d37f43689d74f976660834f9",
        "IPY_MODEL_91365f661b594b468c275c45d73d77a4",
        "IPY_MODEL_8d166a3a5c274b42b9d70a7a1dd28d16",
        "IPY_MODEL_84924bf2271f43e5a3755a2d8e34f0d3",
        "IPY_MODEL_8734103eb8824690a33290efac2e9911",
        "IPY_MODEL_92edca2a30b54945ae7bc4e2ce263ad7",
        "IPY_MODEL_ac0143b364fb4664a6572d49c785e662",
        "IPY_MODEL_0a815a257f5749038655b44dd116d3fe",
        "IPY_MODEL_080577b7dad94b9086a5cb40cc8125b5"
       ],
       "layout": "IPY_MODEL_fd2e41a9405948d18f239c24ff14a579"
      }
     },
     "84924bf2271f43e5a3755a2d8e34f0d3": {
      "model_module": "jupyter-js-widgets",
      "model_module_version": "~2.1.4",
      "model_name": "FloatSliderModel",
      "state": {
       "_model_module_version": "~2.1.4",
       "_view_module_version": "~2.1.4",
       "description": "Forward speed (m/s)",
       "layout": "IPY_MODEL_8989c603448b41439d60d8afaf2bdb03",
       "max": 30,
       "step": 0.1,
       "value": 3.6
      }
     },
     "8545e68df3dc4058add10157598123b3": {
      "model_module": "jupyter-js-widgets",
      "model_module_version": "~2.1.4",
      "model_name": "LayoutModel",
      "state": {
       "_model_module_version": "~2.1.4",
       "_view_module_version": "~2.1.4"
      }
     },
     "8734103eb8824690a33290efac2e9911": {
      "model_module": "jupyter-js-widgets",
      "model_module_version": "~2.1.4",
      "model_name": "FloatSliderModel",
      "state": {
       "_model_module_version": "~2.1.4",
       "_view_module_version": "~2.1.4",
       "description": "Storm bearing",
       "layout": "IPY_MODEL_88075cb5bca345f99652524af8b9ada0",
       "max": 6.283185307179586,
       "step": 0.1,
       "value": 3.141592653589793
      }
     },
     "88075cb5bca345f99652524af8b9ada0": {
      "model_module": "jupyter-js-widgets",
      "model_module_version": "~2.1.4",
      "model_name": "LayoutModel",
      "state": {
       "_model_module_version": "~2.1.4",
       "_view_module_version": "~2.1.4"
      }
     },
     "8989c603448b41439d60d8afaf2bdb03": {
      "model_module": "jupyter-js-widgets",
      "model_module_version": "~2.1.4",
      "model_name": "LayoutModel",
      "state": {
       "_model_module_version": "~2.1.4",
       "_view_module_version": "~2.1.4"
      }
     },
     "8d166a3a5c274b42b9d70a7a1dd28d16": {
      "model_module": "jupyter-js-widgets",
      "model_module_version": "~2.1.4",
      "model_name": "FloatSliderModel",
      "state": {
       "_model_module_version": "~2.1.4",
       "_view_module_version": "~2.1.4",
       "description": "Radius to maximum wind (km)",
       "layout": "IPY_MODEL_e892dc4aa144490781c2c7ff436affae",
       "min": 10,
       "value": 25
      }
     },
     "91365f661b594b468c275c45d73d77a4": {
      "model_module": "jupyter-js-widgets",
      "model_module_version": "~2.1.4",
      "model_name": "FloatSliderModel",
      "state": {
       "_model_module_version": "~2.1.4",
       "_view_module_version": "~2.1.4",
       "description": "Central pressure (Pa)",
       "layout": "IPY_MODEL_c4e6dca49d064d2f92c390ef79953686",
       "max": 99000,
       "min": 90000,
       "step": 100,
       "value": 95000
      }
     },
     "92edca2a30b54945ae7bc4e2ce263ad7": {
      "model_module": "jupyter-js-widgets",
      "model_module_version": "~2.1.4",
      "model_name": "FloatSliderModel",
      "state": {
       "_model_module_version": "~2.1.4",
       "_view_module_version": "~2.1.4",
       "description": "Beta parameter",
       "layout": "IPY_MODEL_1f405ab65ad8456eabb4364e4213a64b",
       "max": 2.5,
       "min": 1.2,
       "step": 0.05,
       "value": 1.6
      }
     },
     "ac0143b364fb4664a6572d49c785e662": {
      "model_module": "jupyter-js-widgets",
      "model_module_version": "~2.1.4",
      "model_name": "DropdownModel",
      "state": {
       "_model_module_version": "~2.1.4",
       "_options_labels": [
        "rankine",
        "holland",
        "doubleholland",
        "newholland",
        "willoughby",
        "jelesnianski",
        "powell",
        "schloemer"
       ],
       "_view_module_version": "~2.1.4",
       "description": "Radial profile",
       "layout": "IPY_MODEL_be4263d6c7e947438b16aa18e6b2292e",
       "value": "powell"
      }
     },
     "b0e60db7d37f43689d74f976660834f9": {
      "model_module": "jupyter-js-widgets",
      "model_module_version": "~2.1.4",
      "model_name": "FloatSliderModel",
      "state": {
       "_model_module_version": "~2.1.4",
       "_view_module_version": "~2.1.4",
       "description": "Environmental pressure (Pa)",
       "layout": "IPY_MODEL_b2a3c8e181524b19bc06a774dfa1eadb",
       "max": 100000,
       "min": 99500,
       "step": 100,
       "value": 99500
      }
     },
     "b2a3c8e181524b19bc06a774dfa1eadb": {
      "model_module": "jupyter-js-widgets",
      "model_module_version": "~2.1.4",
      "model_name": "LayoutModel",
      "state": {
       "_model_module_version": "~2.1.4",
       "_view_module_version": "~2.1.4"
      }
     },
     "b3fbff9ec06e44788699370e549a49d7": {
      "model_module": "jupyter-js-widgets",
      "model_module_version": "~2.1.4",
      "model_name": "LayoutModel",
      "state": {
       "_model_module_version": "~2.1.4",
       "_view_module_version": "~2.1.4"
      }
     },
     "be4263d6c7e947438b16aa18e6b2292e": {
      "model_module": "jupyter-js-widgets",
      "model_module_version": "~2.1.4",
      "model_name": "LayoutModel",
      "state": {
       "_model_module_version": "~2.1.4",
       "_view_module_version": "~2.1.4"
      }
     },
     "c40504988ca84bdfbf5cf0a9b1e78a90": {
      "model_module": "jupyter-js-widgets",
      "model_module_version": "~2.1.4",
      "model_name": "FloatSliderModel",
      "state": {
       "_model_module_version": "~2.1.4",
       "_view_module_version": "~2.1.4",
       "description": "Latitude",
       "layout": "IPY_MODEL_b3fbff9ec06e44788699370e549a49d7",
       "max": 0,
       "min": -30,
       "step": 0.1,
       "value": -20
      }
     },
     "c4e6dca49d064d2f92c390ef79953686": {
      "model_module": "jupyter-js-widgets",
      "model_module_version": "~2.1.4",
      "model_name": "LayoutModel",
      "state": {
       "_model_module_version": "~2.1.4",
       "_view_module_version": "~2.1.4"
      }
     },
     "e892dc4aa144490781c2c7ff436affae": {
      "model_module": "jupyter-js-widgets",
      "model_module_version": "~2.1.4",
      "model_name": "LayoutModel",
      "state": {
       "_model_module_version": "~2.1.4",
       "_view_module_version": "~2.1.4"
      }
     },
     "f6d81f58c5e944728a328821067dbebd": {
      "model_module": "jupyter-js-widgets",
      "model_module_version": "~2.1.4",
      "model_name": "LayoutModel",
      "state": {
       "_model_module_version": "~2.1.4",
       "_view_module_version": "~2.1.4"
      }
     },
     "fd2e41a9405948d18f239c24ff14a579": {
      "model_module": "jupyter-js-widgets",
      "model_module_version": "~2.1.4",
      "model_name": "LayoutModel",
      "state": {
       "_model_module_version": "~2.1.4",
       "_view_module_version": "~2.1.4"
      }
     }
    },
    "version_major": 1,
    "version_minor": 0
   }
  }
 },
 "nbformat": 4,
 "nbformat_minor": 1
}
