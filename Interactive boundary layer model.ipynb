{
 "cells": [
  {
   "cell_type": "markdown",
   "metadata": {},
   "source": [
    "# Boundary layer models\n",
    "\n",
    "The interaction of the primary vortex with the Earth's surface is where we want to focus for a hazard model. This is where the effects of a TC are felt, so we want to capture the wind speeds at the surface. \n",
    "\n"
   ]
  },
  {
   "cell_type": "code",
   "execution_count": 1,
   "metadata": {
    "collapsed": true
   },
   "outputs": [],
   "source": [
    "%matplotlib inline\n",
    "import matplotlib.pyplot as plt\n",
    "from matplotlib import cm as cmap\n",
    "from inspect import getargspec\n",
    "import numpy as np\n",
    "\n",
    "from wind import windmodels\n",
    "from Utilities import metutils\n",
    "from Utilities.maputils import bearing2theta, makeGrid, meshLatLon, gridLatLonDist\n",
    "from PlotInterface.maps import saveWindfieldMap\n",
    "\n",
    "from ipywidgets import interact, fixed, FloatSlider, Dropdown\n",
    "import ipywidgets as widgets\n",
    "\n",
    "import seaborn as sns\n",
    "sns.set_style('ticks', {'image.cmap':'coolwarm'})\n",
    "sns.set_context('poster')\n",
    "\n",
    "profileType = 'powell'\n",
    "windFieldType = 'kepert'"
   ]
  },
  {
   "cell_type": "code",
   "execution_count": 2,
   "metadata": {
    "collapsed": true
   },
   "outputs": [],
   "source": [
    "def polarGridAroundEye(lon, lat, margin=3, resolution=0.01):\n",
    "    R, theta = makeGrid(lon, lat, margin, resolution)\n",
    "    return R, theta\n",
    "\n",
    "def meshGrid(lon, lat, margin=3, resolution=0.01):\n",
    "    xgrid, ygrid = meshLatLon(lon, lat, margin, resolution)\n",
    "    return xgrid, ygrid"
   ]
  },
  {
   "cell_type": "code",
   "execution_count": 15,
   "metadata": {
    "collapsed": true
   },
   "outputs": [],
   "source": [
    "def localWindField(lon, lat, pEnv, pCentre, rMax, vFm, thetaFm, beta, \n",
    "                   profileType='powell', windFieldType='kepert'):\n",
    "    thetaMax = 70.\n",
    "    cls = windmodels.profile(profileType)\n",
    "    if profileType==\"holland\":\n",
    "        profile = cls(lat, lon, pEnv, pCentre, rMax*1000, beta)\n",
    "    else:\n",
    "        profile = cls(lat, lon, pEnv, pCentre, rMax*1000)\n",
    "    R, theta = polarGridAroundEye(lon, lat)\n",
    "    \n",
    "    cls = windmodels.field(windFieldType)\n",
    "    windfield = cls(profile)\n",
    "    \n",
    "    Ux, Vy = windfield.field(R*1000, theta, vFm, thetaFm, thetaMax)\n",
    "    return Ux, Vy"
   ]
  },
  {
   "cell_type": "code",
   "execution_count": 16,
   "metadata": {
    "collapsed": true
   },
   "outputs": [],
   "source": [
    "def plotWindfield(lon, lat, pEnv, pCentre, rMax, vFm, thetaFm, beta, \n",
    "                  profileType='powell', windFieldType='kepert'):\n",
    "    xgrid, ygrid = meshGrid(lon, lat)\n",
    "    #xkm, ykm = gridLatLonDist(lon, lat, xgrid[:,0], ygrid[0,:])\n",
    "    \n",
    "    Ux, Vy = localWindField(lon, lat, pEnv, pCentre, rMax, vFm, thetaFm, beta, \n",
    "                            profileType=profileType, windFieldType=windFieldType)\n",
    "    cx = rMax*np.sin(np.arange(0.00,6.29,0.01))  # Circle for rmw plots.\n",
    "    cy = rMax*np.cos(np.arange(0.00,6.29,0.01))\n",
    "    \n",
    "    xlims=[lon-2, lon+2]\n",
    "    ylims=[lat-2, lat+2]\n",
    "    xkmlims = [-150, 150]\n",
    "    ykmlims = [-150, 150]\n",
    "    fig, axes = plt.subplots(2, 2,subplot_kw={'aspect':'equal'}, figsize=(16, 16))\n",
    "    ax = axes.flatten()\n",
    "    ax[0].hold(True)\n",
    "    #set(plt.gca(),'DataAspectRatio',[1,1,1])\n",
    "    ax[0].set_xlim(xlims)\n",
    "    ax[0].set_ylim(ylims)\n",
    "    levels = np.arange(-20, 21, 2)\n",
    "    cm = ax[0].contourf(xgrid, ygrid, Ux, np.arange(-100., 101, 5))\n",
    "    cs = ax[0].contour(xgrid, ygrid, Ux, np.arange(-100, 101, 5), colors='k')\n",
    "    ax[0].clabel(cs, fontsize='x-small', fmt='%1.2f') #, range(-20,11,4))\n",
    "    plt.colorbar(cm, ax=ax[0], orientation='horizontal')\n",
    "    ax[0].plot(cx,cy,'w')\n",
    "    \n",
    "    ax[1].hold(True)\n",
    "    #set(plt.gca(),'DataAspectRatio',[1,1,1])\n",
    "    ax[1].set_xlim(xlims)\n",
    "    ax[1].set_ylim(ylims)\n",
    "    levels = np.arange(-20, 21, 2)\n",
    "    cm = ax[1].contourf(xgrid, ygrid, Vy, np.arange(-100., 101, 5))\n",
    "    cs = ax[1].contour(xgrid, ygrid, Vy, np.arange(-100, 101, 5), colors='k')\n",
    "    ax[1].clabel(cs, fontsize='x-small', fmt='%1.2f') #, range(-20,11,4))\n",
    "    plt.colorbar(cm, ax=ax[1], orientation='horizontal')\n",
    "    ax[1].plot(cx,cy,'w')\n",
    "    \n",
    "    ax[2].hold(True)\n",
    "    #set(plt.gca(),'DataAspectRatio',[1,1,1])\n",
    "    ax[2].set_xlim(xlims)\n",
    "    ax[2].set_ylim(ylims)\n",
    "    levels = np.arange(-20, 21, 2)\n",
    "    cm = ax[2].contourf(xgrid, ygrid, np.sqrt(Ux*Ux+Vy*Vy), np.arange(0., 101, 5))\n",
    "    cs = ax[2].contour(xgrid, ygrid, np.sqrt(Ux*Ux+Vy*Vy), np.arange(0, 101, 5), colors='k')\n",
    "    ax[2].clabel(cs, fontsize='x-small', fmt='%1.2f') #, range(-20,11,4))\n",
    "    plt.colorbar(cm, ax=ax[2], orientation='horizontal')\n",
    "    ax[2].plot(cx,cy,'w')    \n",
    "    \n",
    "    ax[3].hold(True)\n",
    "    ax[3].set_xlim(xlims)\n",
    "    ax[3].set_ylim(ylims)\n",
    "    levels = np.arange(-20, 21, 2)\n",
    "    cm = ax[3].contourf(xgrid, ygrid, np.sqrt(Ux*Ux+Vy*Vy), np.arange(0., 101, 5))\n",
    "    ax[3].streamplot(xgrid, ygrid, Ux, Vy, density=3, color='k', linewidth=1)\n",
    "    plt.colorbar(cm, ax=ax[3], orientation='horizontal')\n",
    "    fig.tight_layout()\n",
    "    plt.show()\n"
   ]
  },
  {
   "cell_type": "code",
   "execution_count": 22,
   "metadata": {
    "collapsed": true
   },
   "outputs": [],
   "source": [
    "profileOpts = [p for p in windmodels.PROFILES]\n",
    "blOpts = [b for b in windmodels.FIELDS]"
   ]
  },
  {
   "cell_type": "code",
   "execution_count": 23,
   "metadata": {},
   "outputs": [
    {
     "data": {
      "application/vnd.jupyter.widget-view+json": {
       "model_id": "17f4caea5d8140459e4d36bac6ee4987"
      }
     },
     "metadata": {},
     "output_type": "display_data"
    },
    {
     "data": {
      "text/plain": [
       "<function __main__.plotWindfield>"
      ]
     },
     "execution_count": 23,
     "metadata": {},
     "output_type": "execute_result"
    }
   ],
   "source": [
    "interact(plotWindfield, \n",
    "         lon=fixed(120),\n",
    "         lat=FloatSlider(value=-20., min=-30., max=0, step=0.1, description=\"Latitude\"), \n",
    "         pEnv=FloatSlider(value=99500, min=99500, max=100000, step=100, description=\"Environmental pressure (Pa)\"),\n",
    "         pCentre=FloatSlider(value=95000, min=90000, max=99000, step=100, description=\"Central pressure (Pa)\"),\n",
    "         rMax=FloatSlider(value=25, min=10, max=100, step=1, description=\"Radius to maximum wind (km)\"),\n",
    "         vFm=FloatSlider(value=7.5, min=0, max=30, step=0.1, description=\"Forward speed (m/s)\"),\n",
    "         thetaFm=FloatSlider(value=np.pi, min=0, max=2.*np.pi, step=0.1, description=\"Storm bearing\"),\n",
    "         beta=FloatSlider(value=1.6, min=1.2, max=2.5, step=0.05, description=\"Beta parameter\"),\n",
    "         profileType=Dropdown(options=profileOpts, value=\"powell\", description=\"Radial profile\"),\n",
    "         windFieldType=Dropdown(options=blOpts, value=\"kepert\", description=\"Boundary layer model\"))"
   ]
  }
 ],
 "metadata": {
  "kernelspec": {
   "display_name": "Python 2",
   "language": "python",
   "name": "python2"
  },
  "language_info": {
   "codemirror_mode": {
    "name": "ipython",
    "version": 2
   },
   "file_extension": ".py",
   "mimetype": "text/x-python",
   "name": "python",
   "nbconvert_exporter": "python",
   "pygments_lexer": "ipython2",
   "version": "2.7.3"
  }
 },
 "nbformat": 4,
 "nbformat_minor": 1
}
