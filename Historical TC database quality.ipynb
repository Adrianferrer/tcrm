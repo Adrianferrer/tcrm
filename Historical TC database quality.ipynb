{
 "cells": [
  {
   "cell_type": "markdown",
   "metadata": {},
   "source": [
    "# Historical TC observations\n",
    "\n",
    "Here, we explore the reliability of the historical record, in terms of the proportion of missing data in certain fields. \n",
    "\n",
    "In the IBTrACS database, missing values for central pressure and maximum wind speed are indicated by either '0' or '-1' values. We can quickly read through the database and count up the number of records with these values. "
   ]
  },
  {
   "cell_type": "code",
   "execution_count": null,
   "metadata": {},
   "outputs": [],
   "source": [
    "%matplotlib inline\n",
    "\n",
    "from __future__ import print_function, division\n",
    "\n",
    "import io\n",
    "import os\n",
    "import sys\n",
    "import numpy as np\n",
    "import numpy.ma as ma\n",
    "from os.path import join as pjoin\n",
    "\n",
    "import matplotlib.pyplot as plt\n",
    "import pandas as pd\n",
    "\n",
    "from Utilities.config import ConfigParser\n",
    "from Utilities.loadData import loadTrackFile\n",
    "from Utilities.track import Track\n",
    "from Utilities.metutils import convert\n",
    "\n",
    "import seaborn as sns\n",
    "sns.set_context(\"poster\")\n",
    "sns.set_style(\"whitegrid\")"
   ]
  },
  {
   "cell_type": "code",
   "execution_count": null,
   "metadata": {},
   "outputs": [],
   "source": [
    "configstr = \"\"\"\n",
    "[DataProcess]\n",
    "InputFile=/home/tcrm/tcrm/input/Allstorms.ibtracs_wmo.v03r09.csv\n",
    "Source=IBTRACS\n",
    "StartSeason=1981\n",
    "FilterSeasons=True\n",
    "\n",
    "[Region]\n",
    "; Domain for windfield and hazard calculation\n",
    "gridLimit={'xMin':90.,'xMax':180.,'yMin':-30.0,'yMax':-5.0}\n",
    "gridSpace={'x':1.0,'y':1.0}\n",
    "gridInc={'x':1.0,'y':0.5}\n",
    "\n",
    "[TrackGenerator]\n",
    "NumSimulations=5000\n",
    "YearsPerSimulation=10\n",
    "SeasonSeed=68876543\n",
    "TrackSeed=334825\n",
    "TimeStep=1.0\n",
    "\n",
    "[Input]\n",
    "landmask = /home/tcrm/tcrm/input/landmask.nc\n",
    "mslpfile = /home/tcrm/tcrm//MSLP/slp.day.ltm.nc\n",
    "datasets = IBTRACS,LTMSLP\n",
    "\n",
    "[Output]\n",
    "Path=/media/sf_share/tcrm/fiji/\n",
    "\n",
    "[Hazard]\n",
    "Years=2,5,10,20,25,50,100,200,250,500,1000,2000,2500,5000\n",
    "MinimumRecords=10\n",
    "CalculateCI=False\n",
    "\n",
    "[Logging]\n",
    "LogFile=/media/sf_share/tcrm/fiji/log/fiji.log\n",
    "LogLevel=INFO\n",
    "Verbose=False\n",
    "\n",
    "[IBTRACS]\n",
    "; Input data file settings\n",
    "url = ftp://eclipse.ncdc.noaa.gov/pub/ibtracs/v03r06/wmo/csv/Allstorms.ibtracs_wmo.v03r09.csv.gz\n",
    "path = /home/tcrm/tcrm/input/\n",
    "filename = Allstorms.ibtracs_wmo.v03r09.csv\n",
    "columns = tcserialno,season,num,skip,skip,skip,date,skip,lat,lon,skip,pressure\n",
    "fielddelimiter = ,\n",
    "numberofheadinglines = 3\n",
    "pressureunits = hPa\n",
    "lengthunits = km\n",
    "dateformat = %Y-%m-%d %H:%M:%S\n",
    "speedunits = kph\n",
    "\n",
    "[LTMSLP]\n",
    "; MSLP climatology file settings\n",
    "URL = ftp://ftp.cdc.noaa.gov/Datasets/ncep.reanalysis.derived/surface/slp.day.1981-2010.ltm.nc\n",
    "path = /home/tcrm/tcrm/MSLP\n",
    "filename = slp.day.ltm.nc\"\"\""
   ]
  },
  {
   "cell_type": "code",
   "execution_count": null,
   "metadata": {},
   "outputs": [],
   "source": [
    "config = ConfigParser()\n",
    "config.readfp(io.BytesIO(configstr))"
   ]
  },
  {
   "cell_type": "code",
   "execution_count": null,
   "metadata": {},
   "outputs": [],
   "source": [
    "trackFile = config.get('DataProcess', 'InputFile')\n",
    "source = config.get('DataProcess', 'Source')\n",
    "\n",
    "\n",
    "names=['serialNum', 'season', 'TCnum', 'Basin', 'subbasin',\n",
    "       'Name', 'Datetime', 'TCNature', 'Latitude', 'Longitude',\n",
    "       'Windspeed', 'Pressure', 'Centre','WindPercentile',\n",
    "       'PressurePercentile', 'TrackType']\n",
    "\n",
    "df = pd.read_csv(trackFile, names=names, skiprows=3, skipinitialspace=True)"
   ]
  },
  {
   "cell_type": "markdown",
   "metadata": {},
   "source": [
    "Here, we filter the data so we're only looking at storms in the South Pacific basin. Using `pandas`, this is really quick. "
   ]
  },
  {
   "cell_type": "code",
   "execution_count": null,
   "metadata": {},
   "outputs": [],
   "source": [
    "spdf = df[df['Basin'] == 'SP']"
   ]
  },
  {
   "cell_type": "markdown",
   "metadata": {},
   "source": [
    "We then group the data by season, so we can count the number of missing or zero values. We then count the number of each value in each season using the `value_counts()` method. "
   ]
  },
  {
   "cell_type": "code",
   "execution_count": null,
   "metadata": {},
   "outputs": [],
   "source": [
    "byseason = spdf.groupby('season')\n",
    "byseason['Pressure'].value_counts()"
   ]
  },
  {
   "cell_type": "code",
   "execution_count": null,
   "metadata": {},
   "outputs": [],
   "source": [
    "frequency = byseason['serialNum'].nunique()"
   ]
  },
  {
   "cell_type": "markdown",
   "metadata": {},
   "source": [
    "Now we calculate the number of zero/missing values in the pressure field. Note because the presure field uses both '0' and '-1' to represent missing values, we need to do the value count twice (for each of these values). "
   ]
  },
  {
   "cell_type": "code",
   "execution_count": null,
   "metadata": {},
   "outputs": [],
   "source": [
    "nzero = byseason['Pressure'].value_counts()[0]\n",
    "nmiss = byseason['Pressure'].value_counts()[-1]\n",
    "fraction = 100 * (nzero + nmiss) / byseason['Pressure'].count()\n",
    "\n",
    "fig, ax = plt.subplots()\n",
    "ax.plot(fraction, color='r', label='')\n",
    "ax.set_ylim((0, 100))\n",
    "ax2 = ax.twinx()\n",
    "ax2.plot(frequency, color='b')\n",
    "plt.xlabel('Year')\n",
    "ax.set_ylabel(\"Percentage of missing values\")\n",
    "ax2.set_ylabel(\"Number of TCs\")"
   ]
  },
  {
   "cell_type": "markdown",
   "metadata": {},
   "source": [
    "It's only since the 1960's that the observations have become reasonably consistent in the percentage of missing data. \n",
    "\n",
    "### Determining the changepoint\n",
    "However, we can be a little more rigorous about this. Using some simple Bayesian statistics, we can work out the most likely change point in the proprtion of missing data. This next little bit demonstrates using the `pymc` module to perform Monte Carlo Markov Chain modelling for the changepoint."
   ]
  },
  {
   "cell_type": "code",
   "execution_count": null,
   "metadata": {},
   "outputs": [],
   "source": [
    "import pymc\n",
    "arr = fraction.values\n",
    "y0, y1 = fraction.index[0], fraction.index[-1]\n",
    "switchpoint = pymc.DiscreteUniform('switchpoint', lower=0, upper=len(arr))\n",
    "early_mean = pymc.Exponential('early_mean', beta=1)\n",
    "late_mean = pymc.Exponential('late_mean', beta=1)"
   ]
  },
  {
   "cell_type": "markdown",
   "metadata": {},
   "source": [
    "Here, we assume that the prior distribution of the changepoint is uniformly distributed between the first and last years. The distribution of the mean value of the proportion of missing data is presumed to be an exponential distribution (i.e. it's positive, but larger values are less likely). \n",
    "\n",
    "We assume missing observations arise following a time-dependent Poisson process with a deterministic rate. This is a fairly loose assumption, since we know that there is spatial heterogeneity in the quality of the records, and (certaily in the early part of the record) missing observations are likely to be adjacent to other missing observations. \n",
    "\n",
    "We assume this rate is a piecewise-constant function that takes a first value `early_mean` before a certain switch point, and a second value `late_mean` after that point. These three unknown parameters are treated as random variables."
   ]
  },
  {
   "cell_type": "code",
   "execution_count": null,
   "metadata": {},
   "outputs": [],
   "source": [
    "@pymc.deterministic(plot=False)\n",
    "def proportion(s=switchpoint, e=early_mean, l=late_mean):\n",
    "    out = np.empty(len(arr))\n",
    "    out[:s] = e\n",
    "    out[s:] = l\n",
    "    return out"
   ]
  },
  {
   "cell_type": "markdown",
   "metadata": {},
   "source": [
    "Now, we use the MCMC method to sample from the posterior distribution, given the observed data. The `sample` method launches the fitting iterative procedure."
   ]
  },
  {
   "cell_type": "code",
   "execution_count": null,
   "metadata": {},
   "outputs": [],
   "source": [
    "storms = pymc.Poisson('quality', mu=proportion, value=arr, observed=True)\n",
    "\n",
    "model = pymc.Model([switchpoint, early_mean, late_mean, proportion, storms])\n",
    "\n",
    "mcmc = pymc.MCMC(model)\n",
    "mcmc.sample(iter=10000, burn=1000, thin=10)"
   ]
  },
  {
   "cell_type": "markdown",
   "metadata": {},
   "source": [
    "Plot the sampled Markov chains. Their stationary distribution corresponds to the posterior distribution we want to characterize."
   ]
  },
  {
   "cell_type": "code",
   "execution_count": null,
   "metadata": {},
   "outputs": [],
   "source": [
    "plt.figure(figsize=(12,12))\n",
    "plt.subplot(311);\n",
    "plt.plot(mcmc.trace('switchpoint')[:]+y0);\n",
    "plt.ylabel(\"Switch point\"); \n",
    "plt.subplot(312);\n",
    "plt.plot(mcmc.trace('early_mean')[:]);\n",
    "plt.ylabel(\"Early mean\");\n",
    "plt.subplot(313);\n",
    "plt.plot(mcmc.trace('late_mean')[:]);\n",
    "plt.xlabel(\"Iteration\");\n",
    "plt.ylabel(\"Late mean\");\n",
    "plt.tight_layout()"
   ]
  },
  {
   "cell_type": "markdown",
   "metadata": {},
   "source": [
    "We also plot the distribution of the samples: they correspond to the posterior distributions of our parameters, after the data points have been taken into account."
   ]
  },
  {
   "cell_type": "code",
   "execution_count": null,
   "metadata": {},
   "outputs": [],
   "source": [
    "plt.figure(figsize=(14,3))\n",
    "plt.subplot(131);\n",
    "plt.hist(mcmc.trace('switchpoint')[:] + y0, 15);\n",
    "plt.xlabel(\"Switch point\")\n",
    "plt.ylabel(\"Distribution\")\n",
    "plt.subplot(132);\n",
    "plt.hist(mcmc.trace('early_mean')[:], 15);\n",
    "plt.xlabel(\"Early mean\");\n",
    "plt.subplot(133);\n",
    "plt.hist(mcmc.trace('late_mean')[:], 15);\n",
    "plt.xlabel(\"Late mean\");\n",
    "plt.tight_layout()"
   ]
  },
  {
   "cell_type": "markdown",
   "metadata": {},
   "source": [
    "Taking the sample mean of these distributions, we get posterior estimates for the three unknown parameters, including the year where the quality of the database improved."
   ]
  },
  {
   "cell_type": "code",
   "execution_count": null,
   "metadata": {},
   "outputs": [],
   "source": [
    "yp = y0 + mcmc.trace('switchpoint')[:].mean()\n",
    "em = mcmc.trace('early_mean')[:].mean()\n",
    "lm = mcmc.trace('late_mean')[:].mean()\n",
    "print((yp, em, lm))"
   ]
  },
  {
   "cell_type": "markdown",
   "metadata": {},
   "source": [
    "Now we can plot the estimated proportion on top of the observations."
   ]
  },
  {
   "cell_type": "code",
   "execution_count": null,
   "metadata": {},
   "outputs": [],
   "source": [
    "plt.figure(figsize=(14,6));\n",
    "plt.plot(fraction.index, arr, '-ok');\n",
    "plt.axvline(yp, color='k', ls='--');\n",
    "plt.plot([y0, yp], [em, em], '-b', lw=3);\n",
    "plt.plot([yp, y1], [lm, lm], '-r', lw=3);\n",
    "plt.xlim(y0, y1);\n",
    "plt.xlabel(\"Year\");\n",
    "plt.ylabel(\"Percentage of missing data\");"
   ]
  },
  {
   "cell_type": "markdown",
   "metadata": {},
   "source": [
    "Based on this analysis, the change point is around 1945 or 1946, where the (annual) mean proportion of missing data falls to about 2.9%. It's possible to tweak this to give a slightly more informative prior for the distribution of the changepoint, but I'll leave that to others."
   ]
  },
  {
   "cell_type": "code",
   "execution_count": null,
   "metadata": {},
   "outputs": [],
   "source": []
  }
 ],
 "metadata": {
  "kernelspec": {
   "display_name": "Python 2",
   "language": "python",
   "name": "python2"
  },
  "language_info": {
   "codemirror_mode": {
    "name": "ipython",
    "version": 2
   },
   "file_extension": ".py",
   "mimetype": "text/x-python",
   "name": "python",
   "nbconvert_exporter": "python",
   "pygments_lexer": "ipython2",
   "version": "2.7.3"
  }
 },
 "nbformat": 4,
 "nbformat_minor": 2
}
