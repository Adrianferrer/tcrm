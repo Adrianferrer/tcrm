{
 "cells": [
  {
   "cell_type": "markdown",
   "metadata": {},
   "source": [
    "# Plot empirical ARI curves for TC wind observations\n",
    "\n",
    "Here, we plot the empirical average recurrence intervals for wind observations that coincide with the passage of a tropical cyclone. The observations are extracted from the daily maximum wind gust observation records, when there is a TC (in the IBTrACS database) within 200 km of the station. If there are multiple days with the same TC in the vicinity, we take the highest of the daily maximum wind gusts observed during the period. \n",
    "\n",
    "We assume the length of record corresponds to the number of years for which data is available in the station record (i.e. with digitised observations). Many stations have been open for longer than for which data is presently available. "
   ]
  },
  {
   "cell_type": "code",
   "execution_count": null,
   "metadata": {
    "collapsed": true
   },
   "outputs": [],
   "source": [
    "%matplotlib inline\n",
    "from __future__ import print_function, division"
   ]
  },
  {
   "cell_type": "code",
   "execution_count": null,
   "metadata": {
    "collapsed": true
   },
   "outputs": [],
   "source": [
    "import os\n",
    "import io\n",
    "import sys\n",
    "from os.path import join as pjoin\n",
    "import numpy as np\n",
    "import matplotlib.pyplot as plt\n",
    "import matplotlib.cm as cm\n",
    "import pandas as pd\n",
    "import statsmodels.api as sm\n",
    "from datetime import datetime\n",
    "\n",
    "from scipy.stats import genpareto, scoreatpercentile, lognorm\n",
    "\n",
    "\n",
    "from extremes import returnLevels, empReturnPeriod, returnPeriodUncertainty, gpdSelectThreshold\n",
    "from distributions import fittedPDF\n",
    "\n",
    "# Import widgets for interactive notebook\n",
    "from ipywidgets import interact, fixed\n",
    "import ipywidgets as widgets\n",
    "\n",
    "import seaborn as sns\n",
    "sns.set_context(\"poster\")\n",
    "sns.set_style(\"whitegrid\")"
   ]
  },
  {
   "cell_type": "code",
   "execution_count": null,
   "metadata": {
    "collapsed": true
   },
   "outputs": [],
   "source": [
    "def parseTimeString(yr, month, day, timestr):\n",
    "    \"\"\"\n",
    "    Parse year, month and day as strings and return a datetime.\n",
    "    \n",
    "    Handles the case of a missing time string (Pandas returns nan \n",
    "    if the field is empty).\n",
    "    \"\"\"\n",
    "    if timestr is np.nan:\n",
    "        timestr='0000'\n",
    "    formattime = '{0}-{1}-{2} {3}'.format(yr, month, day, time)\n",
    "    \n",
    "    return datetime.strptime(formattime, '%Y-%m-%d %H%M')\n",
    "\n",
    "def convertStartDate(datestr):\n",
    "    if datestr == '':\n",
    "        return \"\"\n",
    "    dtstr = \"01/{0}\".format(datestr)\n",
    "    return datetime.strptime(dtstr, '%d/%m/%Y')\n",
    "\n",
    "def parseObsDate(year, month, day, hour, minute):\n",
    "    timestr = \"{0}-{1}-{2} {3}:{4}\".format(year, month, day, hour, minute)\n",
    "    return datetime.strptime(timestr, '%Y-%m-%d %H:%M')"
   ]
  },
  {
   "cell_type": "code",
   "execution_count": null,
   "metadata": {
    "collapsed": true
   },
   "outputs": [],
   "source": [
    "STNTYPES = [('st', 'S2'), ('stnId', 'i'), ('stnDistCode', 'S4'), ('stnName', 'S'), \n",
    "            ('stnDateOpen', 'S10'), ('stnDateClosed', 'S10'), ('stnLat', 'f8'), \n",
    "            ('stnLon', 'f8'), ('method', 'S15'), ('state', 'S3'), \n",
    "            ('stnElevation', 'f8'), ('baroElev', 'i'), ('stnWMONumber', 'i'), ('stnDataStart', 'i'), \n",
    "            ('stnDataEnd', 'i'), ('blank', 'S3'), ('percentcomplete', 'f8'), ('pcqualy', 'f8'), \n",
    "            ('pcqualn', 'f8'), ('pcqualw', 'f8'), ('pcquals', 'f8'), ('pcquali', 'f8'), ('end', 'S1')]\n",
    "STNCONVERT = {'stnName' : str.rstrip}"
   ]
  },
  {
   "cell_type": "code",
   "execution_count": null,
   "metadata": {
    "collapsed": true
   },
   "outputs": [],
   "source": [
    "stationFilePath = \"C:/WorkSpace/data/raw/daily_max_wind_gust/\"\n",
    "stnfile = pjoin(stationFilePath, \"DC02D_StnDet_999999999425050.txt\")\n",
    "\n",
    "locations = pd.read_csv(stnfile, parse_dates=[4, 5],\n",
    "                        usecols=(1,2,3,4,5,6,7,9,10,12,13,14,16), \n",
    "                        names = np.dtype(STNTYPES).names,\n",
    "                        skiprows=1, engine='python', index_col='stnId', \n",
    "                        converters=STNCONVERT)\n",
    "locationNameList = list(locations['stnName'])\n",
    "\n",
    "locations.head(10)"
   ]
  },
  {
   "cell_type": "code",
   "execution_count": null,
   "metadata": {
    "collapsed": true
   },
   "outputs": [],
   "source": [
    "def loadObservations(locId):\n",
    "    names = ['recid', 'stnId', 'datetime', 'gust',\n",
    "             'direction', 'quality', 'cycName']\n",
    "    obsPath = \"C:/WorkSpace/data/derived/tcobs/daily\"\n",
    "    filename = pjoin(obsPath, \"bom_{0:06d}.csv\".format(locId))\n",
    "    try:\n",
    "        obsdf = pd.read_csv(filename, skiprows=1, names=names,\n",
    "                            parse_dates=[2], infer_datetime_format=True)\n",
    "    except FileNotFoundError:\n",
    "        print(\"No data file for stnId: {0}\".format(locId))\n",
    "        return None\n",
    "    return obsdf\n",
    "\n",
    "def getStationDates(locId):\n",
    "    startYear = locations.loc[locId]['stnDataStart']\n",
    "    endYear = locations.loc[locId]['stnDataEnd']\n",
    "    numYears = endYear - startYear + 1\n",
    "    return numYears\n",
    "\n",
    "-"
   ]
  },
  {
   "cell_type": "code",
   "execution_count": null,
   "metadata": {
    "collapsed": true
   },
   "outputs": [],
   "source": [
    "def plotCurve(locationName):\n",
    "    fig, ax = plt.subplots(1, 1)\n",
    "    locId = locations.index[locationNameList.index(locationName)]\n",
    "    plotObservedHazard(locId, ax)\n",
    "    plt.show()\n",
    "\n",
    "interact(plotCurve, locationName=locationNameList)"
   ]
  },
  {
   "cell_type": "code",
   "execution_count": null,
   "metadata": {
    "collapsed": true
   },
   "outputs": [],
   "source": []
  }
 ],
 "metadata": {
  "kernelspec": {
   "display_name": "Python 2",
   "language": "python",
   "name": "python2"
  },
  "language_info": {
   "codemirror_mode": {
    "name": "ipython",
    "version": 2
   },
   "file_extension": ".py",
   "mimetype": "text/x-python",
   "name": "python",
   "nbconvert_exporter": "python",
   "pygments_lexer": "ipython2",
   "version": "2.7.11"
  }
 },
 "nbformat": 4,
 "nbformat_minor": 2
}
