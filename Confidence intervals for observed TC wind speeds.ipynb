{
 "cells": [
  {
   "cell_type": "code",
   "execution_count": null,
   "metadata": {},
   "outputs": [],
   "source": [
    "%matplotlib inline\n",
    "\n",
    "import os\n",
    "import io\n",
    "import sys\n",
    "from os.path import join as pjoin\n",
    "import numpy as np\n",
    "import matplotlib.pyplot as plt\n",
    "\n",
    "import pandas as pd\n",
    "#import geopandas as gpd\n",
    "from datetime import datetime\n",
    "\n",
    "from extremes import returnLevels, empReturnPeriod\n",
    "from distributions import fittedPDF\n",
    "\n",
    "from scipy.optimize import curve_fit\n",
    "from scipy.stats import genpareto, scoreatpercentile\n",
    "\n",
    "import seaborn as sns\n",
    "sns.set_context(\"talk\")\n",
    "sns.set_style(\"whitegrid\")"
   ]
  },
  {
   "cell_type": "code",
   "execution_count": null,
   "metadata": {},
   "outputs": [],
   "source": [
    "def loadObservations(stnId):\n",
    "    \"\"\"\n",
    "    Load the observations from file for a given BoM station, where the observations have\n",
    "    been selected from the complete digital history of daily maximum wind speeds, where a cyclone has \n",
    "    passed within 200 km of the station, and the station was open at the time of passage.\n",
    "    \n",
    "    :param int stnId: Bureau of Meteorology Station identification number\n",
    "    \n",
    "    :returns: data frame containing the gust wind speed, direction and cyclone name\n",
    "              based on passage of cyclones near the selected station. If no observation\n",
    "              file is found (`Exception.FileNotFoundError`), return `None`\n",
    "    \"\"\"\n",
    "    \n",
    "    names = ['recid', 'stnId', 'datetime', 'gust',\n",
    "             'direction', 'quality', 'cycName', 'cycId']\n",
    "    \n",
    "    filename = pjoin(obsPath, \"bom_{0:06d}.csv\".format(stnId))\n",
    "    try:\n",
    "        obsdf = pd.read_csv(filename, skiprows=1, names=names,\n",
    "                            parse_dates=[2], infer_datetime_format=True)\n",
    "    except IOError:\n",
    "        print(\"No data file for stnId: {0}\".format(stnId))\n",
    "        return None\n",
    "    return obsdf\n",
    "\n",
    "def getStationDates(stnId):\n",
    "    \"\"\"\n",
    "    Retrieve the length of observed record in years, based on the start and end dates\n",
    "    of the observational data. \n",
    "    \n",
    "    :param int stnId: Bureau of Meteorology Station identification number\n",
    "    \n",
    "    :returns: number of years between the start and end of the data on file.\n",
    "    \"\"\"\n",
    "    startYear = stndf.loc[stnId]['stnDataStart']\n",
    "    endYear = stndf.loc[stnId]['stnDataEnd']\n",
    "    numYears = endYear - startYear + 1\n",
    "    return numYears\n",
    "\n",
    "STNTYPES = [('st', 'S2'), ('stnId', 'i'), ('stnDistCode', 'S4'), ('stnName', 'S'), \n",
    "            ('stnDateOpen', 'S10'), ('stnDateClosed', 'S10'), ('stnLat', 'f8'), \n",
    "            ('stnLon', 'f8'), ('method', 'S15'), ('state', 'S3'), \n",
    "            ('stnElevation', 'f8'), ('baroElev', 'i'), ('stnWMONumber', 'i'), ('stnDataStart', 'i'), \n",
    "            ('stnDataEnd', 'i'), ('blank', 'S3'), ('percentcomplete', 'f8'), ('pcqualy', 'f8'), \n",
    "            ('pcqualn', 'f8'), ('pcqualw', 'f8'), ('pcquals', 'f8'), ('pcquali', 'f8'), ('end', 'S1')]\n",
    "STNCONVERT = {'stnName' : str.rstrip}\n",
    "\n",
    "def plotObservedHazard(locId, ax):\n",
    "    obsdf = loadObservations(locId)\n",
    "    if obsdf is None:\n",
    "        return ax\n",
    "    numYears = getStationDates(locId)\n",
    "    data = np.zeros(int(numYears * 365.25))\n",
    "    wspd = np.sort(np.array(obsdf['gust']))*1.114 # Include conversion to 0.2 second wind gust\n",
    "    data[-len(wspd):] = wspd\n",
    "    emprp = empReturnPeriod(data)\n",
    "    \n",
    "    ax.scatter(emprp[data > 1], data[data > 1], s=50,\n",
    "                color='k', marker='x', label=\"Empirical ARI (n={0})\".format(len(wspd)))\n",
    "    return ax\n",
    "\n",
    "def calcSD(pars, cov, rate, npyr, intervals):\n",
    "    nsims = 1000\n",
    "    rps = np.zeros((nsims, len(intervals)))\n",
    "    for i in range(nsims):\n",
    "        xi = pars[0] + np.random.normal(0, np.sqrt(np.abs(cov[0,0])))\n",
    "        mu = pars[1] + np.random.normal(0, np.sqrt(np.abs(cov[1,1])))\n",
    "        sig = pars[2] + np.random.normal(0, np.sqrt(np.abs(cov[2,2])))\n",
    "        rps[i, : ] = mu + (sig / xi) * (np.power(intervals * npyr * rate, xi) - 1.)\n",
    "    lowerrp = scoreatpercentile(rps, 5, axis=0)\n",
    "    upperrp = scoreatpercentile(rps, 95, axis=0)\n",
    "    return lowerrp, upperrp"
   ]
  },
  {
   "cell_type": "code",
   "execution_count": null,
   "metadata": {},
   "outputs": [],
   "source": [
    "obsPath = \"C:/WorkSpace/data/derived/tcobs/daily\"\n",
    "stationFilePath = \"C:/WorkSpace/data/raw/daily_max_wind_gust/\"\n",
    "stnfile = pjoin(stationFilePath, \"DC02D_StnDet_999999999425050.txt\")\n",
    "\n",
    "stndf = pd.read_csv(stnfile, parse_dates=[4, 5],\n",
    "                        usecols=(1,2,3,4,5,6,7,9,10,12,13,14,16), \n",
    "                        names = np.dtype(STNTYPES).names,\n",
    "                        skiprows=1, engine='python', index_col='stnId', \n",
    "                        converters=STNCONVERT)\n",
    "stationNameList = list(stndf['stnName'])"
   ]
  },
  {
   "cell_type": "code",
   "execution_count": null,
   "metadata": {},
   "outputs": [],
   "source": [
    "stnId = stndf.index[stndf['stnName'] == 'CAIRNS AERO'].tolist()[0]\n",
    "obsdf = loadObservations(stnId)\n",
    "wspd = obsdf['gust'].values*1.114\n"
   ]
  },
  {
   "cell_type": "code",
   "execution_count": null,
   "metadata": {},
   "outputs": [],
   "source": [
    "bins = np.arange(0.5, 100, 1)\n",
    "n, bins = np.histogram(wspd, bins, normed=True)\n",
    "centres = 0.5*(bins[1:]+bins[:-1])\n",
    "\n",
    "pars,cov = curve_fit(lambda x, xi, mu, sig: genpareto.pdf(x, xi, loc=mu, scale=sig), \n",
    "                     centres, n, p0=[0, np.mean(wspd), np.mean(wspd)], maxfev=10000 )\n",
    "\n",
    "gpd = genpareto.fit(wspd)\n"
   ]
  },
  {
   "cell_type": "code",
   "execution_count": null,
   "metadata": {},
   "outputs": [],
   "source": [
    "fig, ax = plt.subplots(figsize=(12,8))\n",
    "plotObservedHazard(stnId, ax)\n",
    "ax.set_xscale('log')\n",
    "ax.set_xlim((1,100))\n",
    "ax.set_ylim((0, 100))\n",
    "ax.grid('on', which='both')\n",
    "intervals = bins\n",
    "npyr = 365.25\n",
    "fxi, fmu, fsig = gpd\n",
    "cxi, cmu, csig = pars\n",
    "numYears = getStationDates(stnId)\n",
    "rate = len(wspd)/(npyr*numYears)\n",
    "frp = fmu + (fsig / fxi) * (np.power(intervals * npyr * rate, fxi) - 1.)\n",
    "crp = cmu + (csig / cxi) * (np.power(intervals * npyr * rate, cxi) - 1.)\n",
    "lrp, urp = calcSD(pars, cov, rate, npyr, intervals)\n",
    "\n",
    "ax.semilogx(intervals, frp, 'r', label=\"MLE fit\")\n",
    "ax.semilogx(intervals, crp, 'k', label=\"LM fit\")\n",
    "\n",
    "ax.semilogx(intervals, lrp, '0.5')\n",
    "ax.semilogx(intervals, urp, '0.5', label='90% CI on LM')\n",
    "ax.legend()"
   ]
  },
  {
   "cell_type": "code",
   "execution_count": null,
   "metadata": {},
   "outputs": [],
   "source": [
    "import lmfit\n",
    "x = np.linspace(1, 100, 100)\n",
    "y = wspd\n",
    "p = lmfit.Parameters()\n",
    "p.add_many(('xi', pars[0], True, -np.inf, 2.), ('mu', pars[1], True, 0., np.inf),('sig', pars[2], True, 0, np.inf))\n",
    "\n",
    "def residual(p, x, y):\n",
    "    return genpareto.pdf(x, p['xi'], loc=p['mu'], scale=p['sig']) - y\n"
   ]
  },
  {
   "cell_type": "code",
   "execution_count": null,
   "metadata": {},
   "outputs": [],
   "source": [
    "mini = lmfit.Minimizer(residual, p, fcn_args=(centres, n), nan_policy='omit')\n",
    "\n",
    "# first solve with Nelder-Mead\n",
    "out1 = mini.minimize(method='Nelder')\n",
    "out2 = mini.minimize(method='leastsq', params=out1.params)\n",
    "lmfit.report_fit(out2.params, min_correl=0.25)"
   ]
  },
  {
   "cell_type": "code",
   "execution_count": null,
   "metadata": {},
   "outputs": [],
   "source": [
    "cmu = out2.params['mu'].value\n",
    "cxi = out2.params['xi'].value\n",
    "csig = out2.params['sig'].value\n",
    "rate = len(obsdf['gust'].values)/(npyr*numYears)\n",
    "crp = cmu + (csig / cxi) * (np.power(intervals * npyr * rate, cxi) - 1.)\n",
    "fig, ax = plt.subplots(figsize=(12,8))\n",
    "plotObservedHazard(stnId, ax)\n",
    "intervals = bins\n",
    "\n",
    "ax.semilogx(intervals, crp, 'r', label=\"LM fit\")\n",
    "lrp, urp = calcSD((cxi, cmu, csig), out2.covar, rate, npyr, intervals)\n",
    "ax.semilogx(intervals, lrp, '0.5')\n",
    "ax.semilogx(intervals, urp, '0.5', label='90% CI on LM')\n",
    "ax.set_xlim((1, 100))\n",
    "ax.set_ylim((0, 100))\n",
    "ax.grid('on',which='both')\n",
    "ax.set_xlabel(\"ARI (years)\")\n",
    "ax.set_ylabel(\"Wind speed (m/s)\")\n",
    "ax.legend()\n",
    "plt.savefig(pjoin(\"C:/WorkSpace/data/derived/tcobs/daily\", \"{0:06d}_obsfit.png\".format(stnId)))"
   ]
  },
  {
   "cell_type": "code",
   "execution_count": null,
   "metadata": {},
   "outputs": [],
   "source": [
    "sns.distplot(wspd, bins = np.arange(1, 100.,))\n",
    "gpdpdf = genpareto.pdf(bins, cxi, loc=cmu, scale=csig)\n",
    "plt.plot(bins, gpdpdf)"
   ]
  },
  {
   "cell_type": "code",
   "execution_count": null,
   "metadata": {},
   "outputs": [],
   "source": [
    "print(lmfit.fit_report(out2))"
   ]
  },
  {
   "cell_type": "code",
   "execution_count": null,
   "metadata": {},
   "outputs": [],
   "source": [
    "ci, trace = lmfit.conf_interval(mini, out2, sigmas=[1, 2],\n",
    "                                trace=True, verbose=False, maxiter=1000)\n",
    "lmfit.printfuncs.report_ci(ci)"
   ]
  },
  {
   "cell_type": "code",
   "execution_count": null,
   "metadata": {},
   "outputs": [],
   "source": [
    "x, y, prob = trace['mu']['mu'], trace['mu']['xi'], trace['mu']['prob']\n",
    "x2, y2, prob2 = trace['xi']['xi'], trace['xi']['mu'], trace['xi']['prob']\n",
    "plt.scatter(x, y, c=prob ,s=30)\n",
    "plt.colorbar()\n",
    "plt.xlabel(r'$\\mu$')\n",
    "plt.ylabel(r'$\\xi$')"
   ]
  },
  {
   "cell_type": "code",
   "execution_count": null,
   "metadata": {},
   "outputs": [],
   "source": [
    "plot_type = 2\n",
    "if plot_type == 0:\n",
    "    plt.plot(x, y)\n",
    "    plt.plot(x, residual(out2.params) + y)\n",
    "\n",
    "elif plot_type == 1:\n",
    "    cx, cy, grid = lmfit.conf_interval2d(mini, out2, 'mu', 'xi', 50, 50)\n",
    "    plt.contourf(cx, cy, grid, np.linspace(0, 1, 11))\n",
    "    plt.xlabel('mu')\n",
    "    plt.colorbar()\n",
    "    plt.ylabel('xi')\n",
    "\n",
    "elif plot_type == 2:\n",
    "    cx, cy, grid = lmfit.conf_interval2d(mini, out2, 'mu', 'xi', 50, 50)\n",
    "    plt.contourf(cx, cy, grid, np.linspace(-1, 1, 11))\n",
    "    plt.xlabel('mu')\n",
    "    plt.colorbar()\n",
    "    plt.ylabel('xi')\n",
    "\n",
    "elif plot_type == 3:\n",
    "    cx1, cy1, prob = trace['a1']['a1'], trace['a1']['t2'], trace['a1']['prob']\n",
    "    cx2, cy2, prob2 = trace['t2']['t2'], trace['t2']['a1'], trace['t2']['prob']\n",
    "    plt.scatter(cx1, cy1, c=prob, s=30)\n",
    "    plt.scatter(cx2, cy2, c=prob2, s=30)\n",
    "    plt.gca().set_xlim((2.5, 3.5))\n",
    "    plt.gca().set_ylim((11, 13))\n",
    "    plt.xlabel('a1')\n",
    "    plt.ylabel('t2')\n",
    "\n",
    "if plot_type > 0:\n",
    "    plt.show()"
   ]
  },
  {
   "cell_type": "code",
   "execution_count": null,
   "metadata": {},
   "outputs": [],
   "source": []
  }
 ],
 "metadata": {
  "kernelspec": {
   "display_name": "Python 3",
   "language": "python",
   "name": "python3"
  },
  "language_info": {
   "codemirror_mode": {
    "name": "ipython",
    "version": 3
   },
   "file_extension": ".py",
   "mimetype": "text/x-python",
   "name": "python",
   "nbconvert_exporter": "python",
   "pygments_lexer": "ipython3",
   "version": "3.6.1"
  }
 },
 "nbformat": 4,
 "nbformat_minor": 2
}
