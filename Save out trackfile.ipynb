{
 "cells": [
  {
   "cell_type": "markdown",
   "metadata": {},
   "source": [
    "# Save out track file"
   ]
  },
  {
   "cell_type": "markdown",
   "metadata": {},
   "source": [
    "Short code snippet for writing out the track files given the event ids. This code requires the TCRM module `ncReadTrackData`, so needs to have the TCRM `Utilities` folder set up within the Python Path."
   ]
  },
  {
   "cell_type": "code",
   "execution_count": null,
   "metadata": {},
   "outputs": [],
   "source": [
    "import os\n",
    "from Utilities.track import ncReadTrackData"
   ]
  },
  {
   "cell_type": "markdown",
   "metadata": {},
   "source": [
    "Enter the `trackId` of the event you need to save out the file to. The `dataPath` refers to the location of the trackfiles (it assumes the directory structure below this level is `trackfile/track.*.nc`). `outputPath` is where you want the track files to be written to."
   ]
  },
  {
   "cell_type": "code",
   "execution_count": null,
   "metadata": {},
   "outputs": [],
   "source": [
    "trackId = '009-07603'\n",
    "\n",
    "dataPath = '/g/data/w85/cek156/db10kyr/'\n",
    "outputPath = '/g/data/w85/cek156/WA_scenarios'"
   ]
  },
  {
   "cell_type": "code",
   "execution_count": null,
   "metadata": {},
   "outputs": [],
   "source": [
    "def loadTrack(trackId):\n",
    "    trackNum, trackYear = int(trackId.split('-')[0]), int(trackId.split('-')[1])\n",
    "    trackFile = os.path.join(dataPath, 'tracks', 'tracks.{0:05d}.nc'.format(trackYear))\n",
    "    tracks = ncReadTrackData(trackFile)\n",
    "    \n",
    "    return [t for t in tracks if t.trackId==(trackNum, trackYear)][0]"
   ]
  },
  {
   "cell_type": "code",
   "execution_count": null,
   "metadata": {},
   "outputs": [],
   "source": [
    "tracks = loadTrack(trackId)"
   ]
  },
  {
   "cell_type": "code",
   "execution_count": null,
   "metadata": {},
   "outputs": [],
   "source": [
    "from Utilities.track import ncSaveTracks\n",
    "\n",
    "scenarioTrackFile = os.path.join(outputPath, 'track.{0}.nc'.format(trackId))\n",
    "print(\"Saving track data to {0}\".format(scenarioTrackFile))\n",
    "ncSaveTracks(scenarioTrackFile, [tracks], calendar='julian')"
   ]
  },
  {
   "cell_type": "code",
   "execution_count": null,
   "metadata": {},
   "outputs": [],
   "source": []
  }
 ],
 "metadata": {
  "kernelspec": {
   "display_name": "Python 2",
   "language": "python",
   "name": "python2"
  },
  "language_info": {
   "codemirror_mode": {
    "name": "ipython",
    "version": 2
   },
   "file_extension": ".py",
   "mimetype": "text/x-python",
   "name": "python",
   "nbconvert_exporter": "python",
   "pygments_lexer": "ipython2",
   "version": "2.7.11"
  }
 },
 "nbformat": 4,
 "nbformat_minor": 0
}
