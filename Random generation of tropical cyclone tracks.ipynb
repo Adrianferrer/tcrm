{
 "cells": [
  {
   "cell_type": "markdown",
   "metadata": {},
   "source": [
    "# Random tropical cyclone tracks\n",
    "\n",
    "Once we've generated genesis points for our TC, it is time to then generate the tracks from those genesis points. It's this component that results in the \n",
    "\n",
    "The track generation module in TCRM uses an autoregressive model to simulate the movement and intensification (or weakening) of TCs, combined with regression models for parameters such as the radius to maximum wind speed. \n",
    "\n",
    "The process works by randomly generating the required number of genesis points, then stepping forward in time for each point and updating the speed, bearing, intensity rate of change and radius to maximum winds based on either a lag-1 autoregressive model, or a statistical model that relates parameters. \n",
    "\n"
   ]
  },
  {
   "cell_type": "markdown",
   "metadata": {},
   "source": [
    "## Multiple tracks from one genesis point\n",
    "\n",
    "First, let's generate a number of tracks from a single genesis point. This shows how each realisation of a TC is different, even if starting from a fixed location. We start by importing the required modules for track generation and enabling the interactive maps."
   ]
  },
  {
   "cell_type": "code",
   "execution_count": null,
   "metadata": {
    "collapsed": true
   },
   "outputs": [],
   "source": [
    "%matplotlib notebook\n",
    "\n",
    "import io\n",
    "import os\n",
    "import sys\n",
    "import numpy as np\n",
    "import cartopy.crs as ccrs\n",
    "import cartopy.feature as feature\n",
    "\n",
    "from os.path import join as pjoin\n",
    "\n",
    "import matplotlib.pyplot as plt\n",
    "\n",
    "from ipywidgets import interact, interactive, interact_manual, fixed, FloatSlider, Dropdown\n",
    "import ipywidgets as widgets\n",
    "\n",
    "from IPython.display import Image, display\n",
    "\n",
    "from DataProcess.CalcFrequency import CalcFrequency\n",
    "from DataProcess.CalcTrackDomain import CalcTrackDomain\n",
    "\n",
    "from TrackGenerator.TrackGenerator import SamplePressure, TrackGenerator, Simulation\n",
    "from TrackGenerator import trackLandfall\n",
    "import time\n",
    "\n",
    "from Utilities.config import ConfigParser\n",
    "\n",
    "import seaborn as sns\n",
    "sns.set_context(\"poster\")\n",
    "sns.set_style(\"whitegrid\")"
   ]
  },
  {
   "cell_type": "markdown",
   "metadata": {},
   "source": [
    "Set up a configuration file to be read in. We need to make sure that some of the preceding components of the model system have been executed, since the track generation component relies on being able to access the processed files that contain the statistical information."
   ]
  },
  {
   "cell_type": "code",
   "execution_count": null,
   "metadata": {
    "collapsed": true
   },
   "outputs": [],
   "source": [
    "configstr = \"\"\"\n",
    "[DataProcess]\n",
    "InputFile=C:/WorkSpace/data/TC/Allstorms.ibtracs_wmo.v03r09.csv\n",
    "Source=IBTRACS\n",
    "StartSeason=1981\n",
    "FilterSeasons=False\n",
    "\n",
    "[Region]\n",
    "; Domain for windfield and hazard calculation\n",
    "gridLimit={'xMin':90.,'xMax':180.,'yMin':-30.0,'yMax':-5.0}\n",
    "gridSpace={'x':1.0,'y':1.0}\n",
    "gridInc={'x':1.0,'y':0.5}\n",
    "\n",
    "[TrackGenerator]\n",
    "NumSimulations=5000\n",
    "YearsPerSimulation=10\n",
    "SeasonSeed=68876543\n",
    "TrackSeed=334825\n",
    "TimeStep=1.0\n",
    "\n",
    "[Input]\n",
    "landmask = C:/WorkSpace/tcrm/input/landmask.nc\n",
    "mslpfile = C:/WorkSpace/tcrm/MSLP/slp.day.ltm.nc\n",
    "datasets = IBTRACS,LTMSLP\n",
    "\n",
    "[Output]\n",
    "Path=C:/WorkSpace/data/TC/aus\n",
    "\n",
    "[Hazard]\n",
    "Years=2,5,10,20,25,50,100,200,250,500,1000,2000,2500,5000\n",
    "MinimumRecords=10\n",
    "CalculateCI=False\n",
    "\n",
    "[Logging]\n",
    "LogFile=C:/WorkSpace/data/TC/aus/log/aus.log\n",
    "LogLevel=INFO\n",
    "Verbose=False\n",
    "\n",
    "[IBTRACS]\n",
    "; Input data file settings\n",
    "url = ftp://eclipse.ncdc.noaa.gov/pub/ibtracs/v03r06/wmo/csv/Allstorms.ibtracs_wmo.v03r06.csv.gz\n",
    "path = C:/WorkSpace/data/TC/\n",
    "filename = Allstorms.ibtracs_wmo.v03r06.csv\n",
    "columns = tcserialno,season,num,skip,skip,skip,date,skip,lat,lon,skip,pressure\n",
    "fielddelimiter = ,\n",
    "numberofheadinglines = 3\n",
    "pressureunits = hPa\n",
    "lengthunits = km\n",
    "dateformat = %Y-%m-%d %H:%M:%S\n",
    "speedunits = kph\n",
    "\n",
    "[LTMSLP]\n",
    "; MSLP climatology file settings\n",
    "URL = ftp://ftp.cdc.noaa.gov/Datasets/ncep.reanalysis.derived/surface/slp.day.1981-2010.ltm.nc\n",
    "path = C:/WorkSpace/data/MSLP\n",
    "filename = slp.day.ltm.nc\"\"\"\n",
    "\n",
    "config = ConfigParser()\n",
    "config.readfp(io.BytesIO(configstr))\n",
    "gridLimit = config.geteval('Region', 'gridLimit')\n"
   ]
  },
  {
   "cell_type": "markdown",
   "metadata": {},
   "source": [
    "Now we set up the `TrackGenerator` instance, which will do the simulations. Most of this boilerplate is within the TCRM code normally, so there's no need to go into detail as to what we're loading here. "
   ]
  },
  {
   "cell_type": "code",
   "execution_count": null,
   "metadata": {
    "collapsed": true
   },
   "outputs": [],
   "source": [
    "outputPath = config.get('Output', 'Path')\n",
    "nSimulations = 1\n",
    "maxTimeSteps = 360\n",
    "dt = 1.\n",
    "\n",
    "gridSpace = config.geteval('Region', 'GridSpace')\n",
    "gridInc = config.geteval('Region', 'GridInc')\n",
    "gridLimit = config.geteval('Region', 'gridLimit')\n",
    "mslpFile = config.get('Input', 'MSLPFile')\n",
    "processPath = pjoin(outputPath, 'process')\n",
    "\n",
    "CalcF = CalcFrequency(configstr, gridLimit)\n",
    "meanFreq = CalcF.calc()\n",
    "yrsPerSim = 1\n",
    "\n",
    "mslp = SamplePressure(mslpFile)\n",
    "landfall = trackLandfall.LandfallDecay(configstr, dt)\n",
    "tg = TrackGenerator(processPath, gridLimit, gridSpace, gridInc,\n",
    "                        mslp, landfall, dt=dt,\n",
    "                        maxTimeSteps=maxTimeSteps)\n",
    "tg.loadInitialConditionDistributions()\n",
    "tg.loadCellStatistics()"
   ]
  },
  {
   "cell_type": "markdown",
   "metadata": {},
   "source": [
    "In this next section, we set up an interactive map, where clicking on it will trigger the generation of a track from the clicked location. \n",
    "\n",
    "The key line below is `tracks = tg.generateTracks(1, 1, initLon=ilon, initLat=ilat)`. This runs the track generation algorithm, using a fixed initial longitude and latitude (where you clicked on the map). \n",
    "\n",
    "To clear the map, just re-run the cell."
   ]
  },
  {
   "cell_type": "code",
   "execution_count": null,
   "metadata": {
    "collapsed": true
   },
   "outputs": [],
   "source": [
    "fig = plt.figure(figsize=(12,6))\n",
    "ax = plt.axes(projection=ccrs.PlateCarree())\n",
    "ax.coastlines(resolution='50m', color='black', linewidth=1)\n",
    "ax.add_feature(feature.BORDERS)\n",
    "gl = ax.gridlines(linestyle=\":\", draw_labels=True)\n",
    "gl.xlabels_top = False\n",
    "gl.ylabels_right = False\n",
    "\n",
    "ax.set_xlim((gridLimit['xMin'], gridLimit['xMax']))\n",
    "ax.set_ylim((gridLimit['yMin'], gridLimit['yMax']))\n",
    "\n",
    "w = widgets.HTML()\n",
    "\n",
    "def onclick(event):\n",
    "    w.value = 'button=%d, x=%d, y=%d, xdata=%f, ydata=%f'%(\n",
    "              event.button, event.x, event.y, event.xdata, event.ydata)\n",
    "    w.event = event\n",
    "    plt.scatter(w.event.xdata, w.event.ydata, marker='o', facecolor='r')\n",
    "    ilat, ilon = [w.event.ydata, w.event.xdata]\n",
    "    tracks = tg.generateTracks(1, 1, initLon=ilon, initLat=ilat)\n",
    "    plt.plot(tracks[0].Longitude, tracks[0].Latitude)\n",
    "    \n",
    "    print(w.event.xdata, w.event.ydata)\n",
    "    \n",
    "cid = fig.canvas.mpl_connect('button_press_event', onclick)\n",
    "display(w)"
   ]
  },
  {
   "cell_type": "code",
   "execution_count": null,
   "metadata": {
    "collapsed": true
   },
   "outputs": [],
   "source": []
  }
 ],
 "metadata": {
  "kernelspec": {
   "display_name": "Python 2",
   "language": "python",
   "name": "python2"
  },
  "language_info": {
   "codemirror_mode": {
    "name": "ipython",
    "version": 2
   },
   "file_extension": ".py",
   "mimetype": "text/x-python",
   "name": "python",
   "nbconvert_exporter": "python",
   "pygments_lexer": "ipython2",
   "version": "2.7.11"
  }
 },
 "nbformat": 4,
 "nbformat_minor": 2
}
