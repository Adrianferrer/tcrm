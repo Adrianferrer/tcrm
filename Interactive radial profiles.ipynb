{
 "cells": [
  {
   "cell_type": "markdown",
   "metadata": {},
   "source": [
    "# Radial profiles for tropical cyclones\n",
    "\n",
    "This notebook demonstrates the range of possible radial profiles for tropical cyclones available in TCRM. \n",
    "\n",
    "The radial profile is a parameterisation of the change in wind speed as a function of the radial distance from the eye of the cyclone. \n",
    "\n",
    "The notebook allows users to interact with the paramters that control the form of the radial profile, to gain an understanding of the influence the choice of this component may have on resulting hazard assessments.\n",
    "\n",
    "## Background\n",
    "\n",
    "TC models have used radial profiles in an effort to find a convenient way to represent the *gradient-level vortex* of a TC, given a limited number of parameters. \n",
    "\n",
    "The most commonly referenced profile is Holland's ([1980](http://journals.ametsoc.org/doi/abs/10.1175/1520-0493%281980%29108%3C1212%3AAAMOTW%3E2.0.CO%3B2)) profile, which defines the wind speed as a two-parameter formulation and is an analytic model, derived from the gradient wind equations and an assumption about the form of pressure profiles. The parameter that controls the \"peakedness\" of the profile $\\beta$ can be determined empirically from observations.\n",
    "\n",
    "A number of subsequent researchers meade efforts to refine the Holland model by fitting variates to observations to refine the definition of the $\\beta$ parameter. Powell et al. ([2004](https://doi.org/10.1175/MWR2831.1)) and Willoughby and Rahn are two such examples. The profile of Schloemer was arguably ahead of it's time, with essentially the same functional form, but with $\\beta = 1$. "
   ]
  },
  {
   "cell_type": "code",
   "execution_count": null,
   "metadata": {},
   "outputs": [],
   "source": [
    "%matplotlib notebook\n",
    "import numpy as np\n",
    "import matplotlib.pyplot as plt\n",
    "from matplotlib.figure import Figure\n",
    "\n",
    "import wind.windmodels as windmodels\n",
    "\n",
    "from ipywidgets import interact, fixed, FloatSlider, Dropdown\n",
    "import ipywidgets as widgets\n",
    "\n",
    "import seaborn as sns\n",
    "sns.set(style=\"ticks\")\n",
    "sns.set_palette(\"hls\", 8)"
   ]
  },
  {
   "cell_type": "code",
   "execution_count": null,
   "metadata": {},
   "outputs": [],
   "source": [
    "class WindProfileFigure(Figure):\n",
    "\n",
    "    def __init__(self, lat, lon, eP, cP, rMax, beta, beta1=1.5, beta2=1.4, betaeps=0.0):\n",
    "        self.R = np.array(range(1, 201), 'f')\n",
    "        self.lat = lat\n",
    "        self.lon = lon\n",
    "        self.rMax = rMax\n",
    "        self.eP = eP\n",
    "        self.cP = cP\n",
    "        self.beta = beta\n",
    "        self.beta1 = beta1\n",
    "        self.beta2 = beta2\n",
    "        self.betaeps=np.random.normal(0.0, 0.286)\n",
    "\n",
    "    def plot(self, profileType=None):\n",
    "        profiles = []\n",
    "\n",
    "        if profileType:\n",
    "            profiles.append(profileType)\n",
    "        else:\n",
    "            for p in windmodels.PROFILES:\n",
    "                profiles.append(p)\n",
    "        fig, ax = plt.subplots(1, 1)\n",
    "        ax.hold(True)\n",
    "        legend = []\n",
    "\n",
    "        for name in profiles:\n",
    "            try:\n",
    "                cls = windmodels.profile(name)\n",
    "                params = windmodels.profileParams(name)\n",
    "                values = [getattr(self, p) for p in params if hasattr(self, p)]\n",
    "                profile = cls(self.lat, self.lon, self.eP, self.cP,\n",
    "                              self.rMax, *values)\n",
    "                V = profile.velocity(self.R)\n",
    "                ax.plot(self.R, abs(V), linewidth=2)\n",
    "                legend.append(name.capitalize())\n",
    "            except TypeError:\n",
    "                pass\n",
    "\n",
    "        ax.grid(True)\n",
    "        ax.legend(legend)\n",
    "        ax.set_xlabel('Radius (km)', fontsize=14)\n",
    "        ax.set_ylabel('Wind speed (m/s)', fontsize=14)\n",
    "        ax.set_title((r'$P_c = %d\\hspace{0.5}hPa,\\hspace{1} P_e' +\n",
    "                      r'= %d \\hspace{0.5} hPa,\\hspace{1} R_{max}' +\n",
    "                      r'= %d \\hspace{0.5}km$') %\n",
    "                      (self.cP/100., self.eP/100., self.rMax))\n",
    "        plt.show()\n"
   ]
  },
  {
   "cell_type": "code",
   "execution_count": null,
   "metadata": {},
   "outputs": [],
   "source": [
    "def plotProfile(lat, lon, rMax, eP, cP, beta, profile):\n",
    "    fig = WindProfileFigure(lat, lon, eP, cP, rMax, beta)\n",
    "    fig.plot(profileType=profile)\n",
    "    \n",
    "profileList = [p for p in windmodels.PROFILES]\n",
    "profileList.insert(0, \"\")\n",
    "p = Dropdown(options=profileList, value=\"\", description=\"Profile\")"
   ]
  },
  {
   "cell_type": "code",
   "execution_count": null,
   "metadata": {},
   "outputs": [],
   "source": [
    "interact(plotProfile, \n",
    "         lat=FloatSlider(value=-15., min=-30, max=0, step=0.1, description=\"Latitude\"), \n",
    "         lon=fixed(120),\n",
    "         rMax=FloatSlider(value=20, min=10, max=100, step=1, description=\"Radius to max winds (km)\"),\n",
    "         eP=(99500, 100000, 100),\n",
    "         cP=(90000, 99000, 100),\n",
    "         beta=(1.2, 2.5, 0.05),\n",
    "         profile=p)"
   ]
  },
  {
   "cell_type": "markdown",
   "metadata": {},
   "source": [
    "The differences arise for a number of reasons. Firstly, the absolute maximum vaires, because a number of the individual profiles stipulate a wind-pressure relation. For the profiles here, these are the Willoughby, Holland and Atkinson and Holliday profiles. \n",
    "\n",
    "Willoughby: $V_{max} = 0.6252 \\times \\sqrt{\\Delta p}$\n",
    "\n",
    "Holland: $V_{max} = \\sqrt{\\frac{\\beta \\Delta p}{\\rho e}}$\n",
    "\n",
    "Atkinson & Holliday: $V_{max} = 3.04 (1010.0 - p_c)^{0.644}$\n",
    "\n",
    "Note how the Willoughby wind-pressure relationship is only a function of the pressure difference ($\\Delta p$), whereas the Holland profile is a function of $\\Delta p$ *and* the $\\beta$ parameter. For small $\\Delta p$ (weak storms) the difference between these two models is small, but for intense storms (large $\\Delta p$), there is a large difference.\n",
    "\n",
    "\n",
    "Take a look at the formulation for the $\\beta$ parameter for these two profiles. Note below that we've plotted multiple lines for the Willoughby formulation, as it is also a function of maximum wind speed ($V_{max}$). The latitude for these is set at 20$^{\\circ}$S."
   ]
  },
  {
   "cell_type": "code",
   "execution_count": null,
   "metadata": {},
   "outputs": [],
   "source": [
    "def plotbeta():\n",
    "    fig, ax = plt.subplots(1, 1)\n",
    "    lat = -20.\n",
    "    rMax = np.arange(1, 200, 1)\n",
    "    powellbeta = 1.881093 - 0.010917 * np.abs(lat) - 0.005567 * rMax/1.854\n",
    "    for v in range(10, 90, 10):\n",
    "        willbeta = (1.0036 + 0.0173 * v - 0.313 * np.log(rMax) + 0.0087 *np.pi*(np.abs(lat))/180.)\n",
    "        ax.plot(rMax, willbeta, label=\"Willoughby (vmax={0:d} m/s)\".format(v))\n",
    "    \n",
    "    ax.plot(rMax, powellbeta, label='Powell', c='k')\n",
    "    ax.set_ylim((.0, 2.5))\n",
    "    ax.legend()\n",
    "    ax.set_xlabel(\"Radius to maximum wind (km)\")\n",
    "    ax.set_ylabel(r\"$\\beta$ parameter\")\n",
    "    fig.tight_layout()\n",
    "    plt.show()\n",
    "    \n",
    "plotbeta()"
   ]
  },
  {
   "cell_type": "markdown",
   "metadata": {},
   "source": [
    "What are the implications of the shape of these curves? What would you expect the radial profile for a strong TC to look like, if you chose the Willoughby & Rahn profile? What about the Powell *et al.* profile?"
   ]
  },
  {
   "cell_type": "markdown",
   "metadata": {},
   "source": [
    "### Questions:\n",
    "\n",
    "What happens to the double Holland profile for a very weak storm?\n",
    "\n",
    "Find the range of values of maximum wind for conditions similar to TC Winston at landfall (central pressure = xxx, radius to maximum wind = yyy, latitude = zzz, ). Compare that to the estimated landfall intesity reported by the Fiji Meteorological Service. What are some reasons for this difference?"
   ]
  },
  {
   "cell_type": "code",
   "execution_count": null,
   "metadata": {},
   "outputs": [],
   "source": [
    "np.random.normal()"
   ]
  }
 ],
 "metadata": {
  "kernelspec": {
   "display_name": "Python 2",
   "language": "python",
   "name": "python2"
  },
  "language_info": {
   "codemirror_mode": {
    "name": "ipython",
    "version": 2
   },
   "file_extension": ".py",
   "mimetype": "text/x-python",
   "name": "python",
   "nbconvert_exporter": "python",
   "pygments_lexer": "ipython2",
   "version": "2.7.3"
  }
 },
 "nbformat": 4,
 "nbformat_minor": 2
}
