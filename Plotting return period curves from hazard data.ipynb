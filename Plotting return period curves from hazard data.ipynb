{
 "cells": [
  {
   "cell_type": "markdown",
   "metadata": {},
   "source": [
    "# Plotting return period curves from hazard data\n",
    "\n",
    "This notebook provides a way to plot hazard maps, and interactively plot hazard curves. \n",
    "\n",
    "NOTE: This uses Cartopy, not basemap for the mapping functionality. The underlying `PlotInterface` module in TCRM is built on basemap, which is expected to reach end-of-life in 2020. Cartopy is the way of the future.\n",
    "\n",
    "TODO:\n",
    "* Currently the average recurrence interval used in the map is fixed. Should be able to change this using a `Dropdown` widget\n",
    "* Add scale bar to the map plot\n",
    "* Better choice of colour map (i.e. not \"jet\" and remains fixed irrespective of ARI selected)\n",
    "* Graticule, scale bar, etc. for the map\n",
    "* Make the units a `Dropdown` widget as well\n",
    "* Load data from the THREDDS data service, rather than the file system access.\n",
    "* Add a marker on the map to show where the mouse click event was.\n"
   ]
  },
  {
   "cell_type": "code",
   "execution_count": null,
   "metadata": {},
   "outputs": [],
   "source": [
    "%matplotlib notebook\n",
    "\n",
    "import matplotlib.pyplot as plt\n",
    "import cartopy.crs as ccrs\n",
    "import cartopy.feature as feature\n",
    "import numpy as np\n",
    "\n",
    "import Utilities.nctools as nctools\n",
    "import Utilities.metutils as metutils\n",
    "from Utilities.maputils import find_index\n",
    "\n",
    "from PlotInterface.curves import HazardCurve\n",
    "import seaborn\n",
    "\n",
    "import ipywidgets as widgets\n",
    "from IPython.display import display"
   ]
  },
  {
   "cell_type": "markdown",
   "metadata": {},
   "source": [
    "Define a class for selecting the units for plotting. Options are: \"km/h\" (various contractions), \"miles per hour\", \"knots\", and \"metres per second\" (default)."
   ]
  },
  {
   "cell_type": "code",
   "execution_count": null,
   "metadata": {},
   "outputs": [],
   "source": [
    "class PlotUnits(object):\n",
    "\n",
    "    def __init__(self, units):\n",
    "        labels = {\n",
    "            'mps': 'm/s',\n",
    "            'mph': 'mi/h',\n",
    "            'kts': 'kts',\n",
    "            'kph': 'km/h',\n",
    "            'kmh': 'km/h'\n",
    "        }\n",
    "\n",
    "        levels = {\n",
    "            'mps': np.arange(30, 101., 5.),\n",
    "            'mph': np.arange(80, 221., 10.),\n",
    "            'kts': np.arange(60, 201., 10.),\n",
    "            'kph': np.arange(80, 361., 20.),\n",
    "            'kmh': np.arange(80, 361., 20.)\n",
    "        }\n",
    "\n",
    "        self.units = units\n",
    "        self.label = labels[units]\n",
    "        self.levels = levels[units]"
   ]
  },
  {
   "cell_type": "markdown",
   "metadata": {},
   "source": [
    "Now load the data from what is stored on the \"fj6\" data project. Preferably, this would actually point to the THREDDS data service."
   ]
  },
  {
   "cell_type": "code",
   "execution_count": null,
   "metadata": {},
   "outputs": [],
   "source": [
    "plotUnits = PlotUnits('mps')\n",
    "\n",
    "url = \"/g/data/fj6/TCRM/benchmark/hazard/hazard.nc\"\n",
    "\n",
    "ncobj = nctools.ncLoadFile(url)\n",
    "lon = nctools.ncGetDims(ncobj, 'lon')\n",
    "lat = nctools.ncGetDims(ncobj, 'lat')\n",
    "years = nctools.ncGetDims(ncobj, 'return_period')\n",
    "\n",
    "wspd = nctools.ncGetVar(ncobj, 'wspd')\n",
    "try:\n",
    "    wLower  = nctools.ncGetVar(ncobj, 'wspdlower')\n",
    "    wUpper = nctools.ncGetVar(ncobj, 'wspdupper')\n",
    "    ciBounds = True\n",
    "except KeyError:\n",
    "    ciBounds = False\n",
    "\n",
    "minLon = min(lon)\n",
    "maxLon = max(lon)\n",
    "minLat = min(lat)\n",
    "maxLat = max(lat)\n",
    "\n",
    "defaultMax = np.ceil(metutils.convert(100.0, 'mps', plotUnits.units)/10.0)*10.0\n",
    "palette = seaborn.color_palette(\"YlOrRd\", 7)\n",
    "cmap = seaborn.blend_palette(palette, as_cmap=True)"
   ]
  },
  {
   "cell_type": "markdown",
   "metadata": {},
   "source": [
    "Create the map of hazard data. Here, we also define the actions for a click event in the map figure. All that really is to add the attributes of the event (location in figure coords, locaiton in data coords, button) to the widget that is used to display the map.\n",
    "\n",
    "After running this code, we can click anywhere on the map and the coordinates are stored in the widget object (i.e. the `w` variable), so we can access them for plotting the curve.\n",
    "\n",
    "NOTE: This notebook uses a simple plotting routine to display the hazard map. TCRM has an existing `HazardMap` method in `PlotInterface.maps` that can be used to plot the map. However, this notebook is in part testing the ability to use `Cartopy` for handling the mapping aspects of plotting. The virtual environment that I'm running this in does not have `Basemap` installed, so the `HazardMap` method doesn't work."
   ]
  },
  {
   "cell_type": "code",
   "execution_count": null,
   "metadata": {},
   "outputs": [],
   "source": [
    "fig = plt.figure(figsize=(12,6))\n",
    "ax = plt.axes(projection=ccrs.PlateCarree())\n",
    "cm = ax.contourf(lon, lat, wspd[5,:,:], cmap=cmap)\n",
    "ax.coastlines(resolution='50m', color='black', linewidth=1)\n",
    "ax.add_feature(feature.BORDERS)\n",
    "gl = ax.gridlines(linestyle=\":\", draw_labels=True)\n",
    "gl.xlabels_top = False\n",
    "gl.ylabels_left = False\n",
    "plt.colorbar(cm, orientation='horizontal',extend='both',\n",
    "             label=\"Wind speed ({0})\".format(plotUnits.label))\n",
    "\n",
    "w = widgets.HTML()\n",
    "\n",
    "def onclick(event):\n",
    "    w.value = 'button=%d, x=%d, y=%d, xdata=%f, ydata=%f'%(\n",
    "              event.button, event.x, event.y, event.xdata, event.ydata)\n",
    "    w.event = event\n",
    "    print(w.event.xdata, w.event.ydata)\n",
    "\n",
    "cid = fig.canvas.mpl_connect('button_press_event', onclick)\n",
    "display(w)"
   ]
  },
  {
   "cell_type": "markdown",
   "metadata": {},
   "source": [
    "Once we click somewhere on the map, we use the attributes in the `w` variable to extract the coordinates and pull the data for the hazard curve."
   ]
  },
  {
   "cell_type": "code",
   "execution_count": null,
   "metadata": {},
   "outputs": [],
   "source": [
    "plat, plon = [w.event.ydata, w.event.xdata]\n",
    "\n",
    "i = find_index(lon, plon)\n",
    "j = find_index(lat, plat)\n",
    "\n",
    "pWspd = metutils.convert(wspd[:, j, i], 'mps', plotUnits.units)\n",
    "if ciBounds:\n",
    "    pWspdLower = metutils.convert(wLower[:,j,i], 'mps', plotUnits.units)\n",
    "    pWspdUpper = metutils.convert(wUpper[:,j,i], 'mps', plotUnits.units)\n",
    "    "
   ]
  },
  {
   "cell_type": "markdown",
   "metadata": {},
   "source": [
    "Last thing to do is to plot the hazard curve! We use the `HazardCurve` function in the `PlotInterface` module from TCRM, so it's consistent with automatically generated plots. I think that has been updated in recent revisions."
   ]
  },
  {
   "cell_type": "code",
   "execution_count": null,
   "metadata": {},
   "outputs": [],
   "source": [
    "xlabel = 'Average recurrence interval (years)'\n",
    "ylabel = 'Wind speed ({0})'.format(plotUnits.label)\n",
    "title = \"Return period wind speed at ({0:.2f},{1:.2f})\".format(plon, plat)\n",
    "\n",
    "fig = HazardCurve()\n",
    "fig.plot(years, pWspd, pWspdUpper, pWspdLower, xlabel, ylabel, title)\n",
    "fig"
   ]
  },
  {
   "cell_type": "code",
   "execution_count": null,
   "metadata": {},
   "outputs": [],
   "source": []
  }
 ],
 "metadata": {
  "kernelspec": {
   "display_name": "Python 2",
   "language": "python",
   "name": "python2"
  },
  "language_info": {
   "codemirror_mode": {
    "name": "ipython",
    "version": 2
   },
   "file_extension": ".py",
   "mimetype": "text/x-python",
   "name": "python",
   "nbconvert_exporter": "python",
   "pygments_lexer": "ipython2",
   "version": "2.7.3"
  }
 },
 "nbformat": 4,
 "nbformat_minor": 1
}
