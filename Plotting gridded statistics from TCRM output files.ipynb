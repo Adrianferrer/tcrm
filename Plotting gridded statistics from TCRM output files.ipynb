{
 "cells": [
  {
   "cell_type": "markdown",
   "metadata": {},
   "source": [
    "# Plotting up the statistical output\n",
    "\n",
    "To gain an understanding of the meaning of the statistics, and the spatial distribution of these statistics, we  plot up several of the metrics on maps. This allows you to explore how these variables vary over the simulation domain, and interpret the meaning of these variables. \n",
    "\n",
    "This only gives one perspective on the choice of variables used in TCRM to simulate TC track behaviour. There are a number of other graphical products that further help with understanding the way TCRM works."
   ]
  },
  {
   "cell_type": "code",
   "execution_count": 1,
   "metadata": {
    "collapsed": false
   },
   "outputs": [
    {
     "ename": "ImportError",
     "evalue": "No module named basemap",
     "output_type": "error",
     "traceback": [
      "\u001b[1;31m---------------------------------------------------------------------------\u001b[0m",
      "\u001b[1;31mImportError\u001b[0m                               Traceback (most recent call last)",
      "\u001b[1;32m<ipython-input-1-bb2233c38954>\u001b[0m in \u001b[0;36m<module>\u001b[1;34m()\u001b[0m\n\u001b[0;32m      7\u001b[0m \u001b[1;32mfrom\u001b[0m \u001b[0mUtilities\u001b[0m\u001b[1;33m.\u001b[0m\u001b[0mnctools\u001b[0m \u001b[1;32mimport\u001b[0m \u001b[0mncLoadFile\u001b[0m\u001b[1;33m,\u001b[0m \u001b[0mncGetDims\u001b[0m\u001b[1;33m,\u001b[0m \u001b[0mncGetVar\u001b[0m\u001b[1;33m,\u001b[0m \u001b[0mncFileInfo\u001b[0m\u001b[1;33m\u001b[0m\u001b[0m\n\u001b[0;32m      8\u001b[0m \u001b[1;32mfrom\u001b[0m \u001b[0mUtilities\u001b[0m\u001b[1;33m.\u001b[0m\u001b[0mgrid\u001b[0m \u001b[1;32mimport\u001b[0m \u001b[0mSampleGrid\u001b[0m\u001b[1;33m\u001b[0m\u001b[0m\n\u001b[1;32m----> 9\u001b[1;33m \u001b[1;32mfrom\u001b[0m \u001b[0mPlotInterface\u001b[0m\u001b[1;33m.\u001b[0m\u001b[0mmaps\u001b[0m \u001b[1;32mimport\u001b[0m \u001b[0mArrayMapFigure\u001b[0m\u001b[1;33m,\u001b[0m \u001b[0msaveFigure\u001b[0m\u001b[1;33m,\u001b[0m \u001b[0mlevels\u001b[0m\u001b[1;33m\u001b[0m\u001b[0m\n\u001b[0m\u001b[0;32m     10\u001b[0m \u001b[1;32mimport\u001b[0m \u001b[0mnumpy\u001b[0m \u001b[1;32mas\u001b[0m \u001b[0mnp\u001b[0m\u001b[1;33m\u001b[0m\u001b[0m\n\u001b[0;32m     11\u001b[0m \u001b[1;32mfrom\u001b[0m \u001b[0mIPython\u001b[0m\u001b[1;33m.\u001b[0m\u001b[0mdisplay\u001b[0m \u001b[1;32mimport\u001b[0m \u001b[0mImage\u001b[0m\u001b[1;33m\u001b[0m\u001b[0m\n",
      "\u001b[1;32m/home/547/cxa547/tcrm/PlotInterface/maps.py\u001b[0m in \u001b[0;36m<module>\u001b[1;34m()\u001b[0m\n\u001b[0;32m     20\u001b[0m \u001b[1;33m\u001b[0m\u001b[0m\n\u001b[0;32m     21\u001b[0m \u001b[1;32mfrom\u001b[0m \u001b[0mmatplotlib\u001b[0m\u001b[1;33m.\u001b[0m\u001b[0mfigure\u001b[0m \u001b[1;32mimport\u001b[0m \u001b[0mFigure\u001b[0m\u001b[1;33m\u001b[0m\u001b[0m\n\u001b[1;32m---> 22\u001b[1;33m \u001b[1;32mfrom\u001b[0m \u001b[0mmpl_toolkits\u001b[0m\u001b[1;33m.\u001b[0m\u001b[0mbasemap\u001b[0m \u001b[1;32mimport\u001b[0m \u001b[0mBasemap\u001b[0m\u001b[1;33m\u001b[0m\u001b[0m\n\u001b[0m\u001b[0;32m     23\u001b[0m \u001b[1;33m\u001b[0m\u001b[0m\n\u001b[0;32m     24\u001b[0m \u001b[1;32mfrom\u001b[0m \u001b[0mUtilities\u001b[0m\u001b[1;33m.\u001b[0m\u001b[0msmooth\u001b[0m \u001b[1;32mimport\u001b[0m \u001b[0msmooth\u001b[0m\u001b[1;33m\u001b[0m\u001b[0m\n",
      "\u001b[1;31mImportError\u001b[0m: No module named basemap"
     ]
    }
   ],
   "source": [
    "%matplotlib inline\n",
    "import os\n",
    "import io\n",
    "import sys\n",
    "\n",
    "from Utilities.config import ConfigParser\n",
    "from Utilities.nctools import ncLoadFile, ncGetDims, ncGetVar, ncFileInfo\n",
    "from Utilities.grid import SampleGrid\n",
    "from PlotInterface.maps import ArrayMapFigure, saveFigure, levels\n",
    "import numpy as np\n",
    "from IPython.display import Image\n",
    "from matplotlib.backends.backend_agg import FigureCanvasAgg as FC\n",
    "\n",
    "from os.path import join as pjoin\n",
    "import seaborn as sns\n",
    "sns.set_context('paper')"
   ]
  },
  {
   "cell_type": "markdown",
   "metadata": {},
   "source": [
    "Use the normal approach of setting up a configuration string, and set it up to read data from the output folders containing the data we've generated in previous notebooks."
   ]
  },
  {
   "cell_type": "code",
   "execution_count": null,
   "metadata": {
    "collapsed": true
   },
   "outputs": [],
   "source": [
    "configstr = \"\"\"\n",
    "[DataProcess]\n",
    "InputFile=C:/WorkSpace/data/TC/Allstorms.ibtracs_wmo.v03r09.csv\n",
    "Source=IBTRACS\n",
    "StartSeason=1981\n",
    "FilterSeasons=False\n",
    "\n",
    "[Region]\n",
    "; Domain for windfield and hazard calculation\n",
    "gridLimit={'xMin':90.,'xMax':180.,'yMin':-30.0,'yMax':-5.0}\n",
    "gridSpace={'x':1.0,'y':1.0}\n",
    "gridInc={'x':1.0,'y':0.5}\n",
    "\n",
    "[TrackGenerator]\n",
    "NumSimulations=5000\n",
    "YearsPerSimulation=10\n",
    "SeasonSeed=68876543\n",
    "TrackSeed=334825\n",
    "TimeStep=1.0\n",
    "\n",
    "[Input]\n",
    "landmask = C:/WorkSpace/tcrm/input/landmask.nc\n",
    "mslpfile = C:/WorkSpace/tcrm/MSLP/slp.day.ltm.nc\n",
    "datasets = IBTRACS,LTMSLP\n",
    "\n",
    "[Output]\n",
    "Path=C:/WorkSpace/data/TC/aus\n",
    "\n",
    "[Hazard]\n",
    "Years=2,5,10,20,25,50,100,200,250,500,1000,2000,2500,5000\n",
    "MinimumRecords=10\n",
    "CalculateCI=False\n",
    "\n",
    "[Logging]\n",
    "LogFile=C:/WorkSpace/data/TC/aus/log/aus.log\n",
    "LogLevel=INFO\n",
    "Verbose=False\n",
    "\n",
    "[IBTRACS]\n",
    "; Input data file settings\n",
    "url = ftp://eclipse.ncdc.noaa.gov/pub/ibtracs/v03r06/wmo/csv/Allstorms.ibtracs_wmo.v03r09.csv.gz\n",
    "path = C:/WorkSpace/data/TC/\n",
    "filename = Allstorms.ibtracs_wmo.v03r09.csv\n",
    "columns = tcserialno,season,num,skip,skip,skip,date,skip,lat,lon,skip,pressure\n",
    "fielddelimiter = ,\n",
    "numberofheadinglines = 3\n",
    "pressureunits = hPa\n",
    "lengthunits = km\n",
    "dateformat = %Y-%m-%d %H:%M:%S\n",
    "speedunits = kph\n",
    "\n",
    "[LTMSLP]\n",
    "; MSLP climatology file settings\n",
    "URL = ftp://ftp.cdc.noaa.gov/Datasets/ncep.reanalysis.derived/surface/slp.day.1981-2010.ltm.nc\n",
    "path = C:/WorkSpace/data/MSLP\n",
    "filename = slp.day.ltm.nc\n",
    "\"\"\"\n",
    "\n",
    "config = ConfigParser()\n",
    "config.readfp(io.BytesIO(configstr))"
   ]
  },
  {
   "cell_type": "markdown",
   "metadata": {},
   "source": [
    "We load a landmask dataset to allow us to determine when TCs are over water or over land"
   ]
  },
  {
   "cell_type": "code",
   "execution_count": null,
   "metadata": {
    "collapsed": true
   },
   "outputs": [],
   "source": [
    "landmask_file = config.get('Input', 'Landmask')\n",
    "landmask = SampleGrid(landmask_file)"
   ]
  },
  {
   "cell_type": "code",
   "execution_count": null,
   "metadata": {
    "collapsed": true
   },
   "outputs": [],
   "source": [
    "def show(fig):\n",
    "    canvas = FC(fig)\n",
    "    fig"
   ]
  },
  {
   "cell_type": "markdown",
   "metadata": {},
   "source": [
    "One thing that we realise in the statistics is that TC behaviour changes when a TC makes landfall. And because the number of observations in any given cell may not be sufficient to calculate reliable statistics, TCRM automatically increases the region that is sampled. \n",
    "\n",
    "This causes problems in regions close to land. If the model is determining statistics for one of these cells close to the coast (but offshore), and the expanded region starts capturing observations from over land, then the statistics are not truly representative of behaviour of offshore TCs. This is important for parameters related to intensity - TCs can often continue intensifying right up to landfall. But if we are sampling statistics of TCs overland, then we dilute the intensity statistics with observations from overland which (nearly without exception) act to weaken the storm.\n",
    "\n",
    "To avoid any potential issues like this, TCRM flags over-land observations, and the statistics are calculated separately for over-water and over-land observations. When it comes to viewing the results, we need to read in the over-water and over-land observations separately, then combine them into a single grid for plotting. This next function does exactly that. "
   ]
  },
  {
   "cell_type": "code",
   "execution_count": null,
   "metadata": {
    "collapsed": true
   },
   "outputs": [],
   "source": [
    "def getData(ncobj, varname, ij):\n",
    "    var = ncGetVar(ncobj, varname)[:]\n",
    "    lvar = ncGetVar(ncobj, 'l'+varname)[:]\n",
    "    data = var\n",
    "    data[ij] = lvar[ij]\n",
    "    return data"
   ]
  },
  {
   "cell_type": "markdown",
   "metadata": {},
   "source": [
    "Let's breifly look at the statistical data generated. Here, we load the 'pressure_rate_stats.nc' file, which contains the statistics for the pressure rate of change (hPa/hr) of obsersved TCs. "
   ]
  },
  {
   "cell_type": "code",
   "execution_count": null,
   "metadata": {
    "collapsed": true
   },
   "outputs": [],
   "source": [
    "outputPath = config.get(\"Output\", \"Path\")\n",
    "processPath = pjoin(outputPath, \"process\")\n",
    "fname = pjoin(processPath, \"pressure_rate_stats.nc\")"
   ]
  },
  {
   "cell_type": "markdown",
   "metadata": {},
   "source": [
    "There's a convenience function in the `nctools` moudule called `ncFileInfo`, which prints out some basic attributes of the file, including the list of variables. You can also provide a `variable` argument, and it will print out the attributes of the variable."
   ]
  },
  {
   "cell_type": "code",
   "execution_count": null,
   "metadata": {
    "collapsed": true
   },
   "outputs": [],
   "source": [
    "ncFileInfo(fname)"
   ]
  },
  {
   "cell_type": "markdown",
   "metadata": {},
   "source": [
    "The first two variables are the dimension variables, `lat` and `lon`. "
   ]
  },
  {
   "cell_type": "code",
   "execution_count": null,
   "metadata": {
    "collapsed": true
   },
   "outputs": [],
   "source": [
    "ncFileInfo(fname, variable='lat')"
   ]
  },
  {
   "cell_type": "code",
   "execution_count": null,
   "metadata": {
    "collapsed": true
   },
   "outputs": [],
   "source": [
    "ncFileInfo(fname, variable='lon')"
   ]
  },
  {
   "cell_type": "markdown",
   "metadata": {},
   "source": [
    "Now we'll look at the variables. Start with the simplest one, `mu` and `lmu`. "
   ]
  },
  {
   "cell_type": "code",
   "execution_count": null,
   "metadata": {
    "collapsed": true
   },
   "outputs": [],
   "source": [
    "ncFileInfo(fname, variable='mu')"
   ]
  },
  {
   "cell_type": "code",
   "execution_count": null,
   "metadata": {
    "collapsed": true
   },
   "outputs": [],
   "source": [
    "ncFileInfo(fname, variable='lmu')"
   ]
  },
  {
   "cell_type": "markdown",
   "metadata": {},
   "source": [
    "Simply, the `l` prefix indicates that the variable has been calculated only from over-land observations. "
   ]
  },
  {
   "cell_type": "code",
   "execution_count": null,
   "metadata": {
    "collapsed": true
   },
   "outputs": [],
   "source": [
    "ncobj = ncLoadFile(fname)\n",
    "\n",
    "lon = ncGetDims(ncobj, 'lon')\n",
    "lat = ncGetDims(ncobj, 'lat')\n",
    "ncobj.close()\n",
    "xgrid, ygrid = np.meshgrid(lon, lat)\n",
    "\n",
    "ls = np.zeros(np.shape(xgrid))\n",
    "\n",
    "for i in range(len(lon)):\n",
    "    for j in range(len(lat)):\n",
    "        if landmask.sampleGrid(lon[i], lat[j]) > 0.0:\n",
    "            ls[j, i] = 1\n",
    "            \n",
    "ij = np.where(ls==1)\n"
   ]
  },
  {
   "cell_type": "markdown",
   "metadata": {},
   "source": [
    "Set the map keyword arguments that will help draw the basemap. "
   ]
  },
  {
   "cell_type": "code",
   "execution_count": null,
   "metadata": {
    "collapsed": true
   },
   "outputs": [],
   "source": [
    "map_kwargs = dict(llcrnrlon=100., llcrnrlat=-30,\n",
    "                  urcrnrlon=170., urcrnrlat=-5.,\n",
    "                  resolution='h', projection='merc')"
   ]
  },
  {
   "cell_type": "code",
   "execution_count": null,
   "metadata": {
    "collapsed": true
   },
   "outputs": [],
   "source": [
    "ncobj = ncLoadFile(pjoin(processPath, \"pressure_stats.nc\"))\n",
    "lon = ncGetDims(ncobj, 'lon')\n",
    "lat = ncGetDims(ncobj, 'lat')\n",
    "ardata = getData(ncobj, 'alpha', ij)\n",
    "mudata = getData(ncobj, 'mu', ij)\n",
    "mindata = getData(ncobj, 'min', ij)\n",
    "sigdata = getData(ncobj, 'sig', ij)\n",
    "ncobj.close()\n",
    "fig = ArrayMapFigure()\n",
    "fig.add(mudata, xgrid, ygrid, 'Mean pressure ', [950, 1000], 'Pressure (hPa)', map_kwargs)\n",
    "fig.add(mindata, xgrid, ygrid, 'Minimum pressure', [900, 1000], 'Pressure (hPa)', map_kwargs)\n",
    "fig.add(sigdata, xgrid, ygrid, 'Pressure standard deviation', [0, 50], 'Std dev.', map_kwargs)\n",
    "fig.add(ardata, xgrid, ygrid, 'Pressure AR(1)', [-1, 1], 'AR(1)', map_kwargs)\n",
    "fig.plot()\n",
    "saveFigure(fig, \"pressure_stats.png\")\n",
    "Image(\"pressure_stats.png\")"
   ]
  },
  {
   "cell_type": "markdown",
   "metadata": {},
   "source": [
    "The first figure shows the mean pressure (in hPa) in each cell across the simulation domain. It's important to recognise that in areas with few observations, the mean may not be well-defined. TCRM makes an effort to address this, by expanding the sampling region if there are insufficient observations in an individual cell. \n",
    "\n",
    "Next is the minimum pressure. This is where we can see some significant variability, because the minimum pressure in any given cell depends on the vagaries of historical TC behaviour, and we are looking at an extreme value in the distribution of pressure values in each cell. \n",
    "\n",
    "The third figure is the standard deviation of the pressure observations. Areas where there's a lot of variation are likely near coastlines and at the outer limits of the simulation region, where TC intensity is more variable.\n",
    "\n",
    "The final figure shows the lag-1 autocorrelation of pressure observations. For this variable, the values are all very close to 1, because the pressure values do not change dramatically from one observation to the next. For example, the largest change in pressure over a 6-hour period is only about *XX* hPa - compare that to the pressure observation and the change is (in a numerical sense) quite small. But this is not the case for all the model variables, as we will see below."
   ]
  },
  {
   "cell_type": "markdown",
   "metadata": {},
   "source": [
    "Now lets examine the pressure rate statistics. This is measuring the intensification rate of TCs in each cell, rather than the intensity (above). \n",
    "\n",
    "The first figure is the mean pressure rate of change. Positive values indicate an increase in pressure, negative values a decrease in pressure. This shows us the (historically) favoured regions for intensification and weakening of TCs. \n",
    "\n",
    "In figure 4 is the lag-1 autocorrelation. Compare the values plotted here with the corresponding figure for the pressure variable (above). We saw previously that the pressure rate of change is largely uncorrelated when looking at the autocorrelation. But what spatial patterns emerge in the pressure rate statistics? "
   ]
  },
  {
   "cell_type": "code",
   "execution_count": null,
   "metadata": {
    "collapsed": true
   },
   "outputs": [],
   "source": [
    "ncobj = ncLoadFile(pjoin(processPath, \"pressure_rate_stats.nc\"))\n",
    "lon = ncGetDims(ncobj, 'lon')\n",
    "lat = ncGetDims(ncobj, 'lat')\n",
    "ardata = getData(ncobj, 'alpha', ij)\n",
    "mudata = getData(ncobj, 'mu', ij)\n",
    "mindata = getData(ncobj, 'min', ij)\n",
    "sigdata = getData(ncobj, 'sig', ij)\n",
    "ncobj.close()\n",
    "\n",
    "fig = ArrayMapFigure()\n",
    "fig.add(mudata, xgrid, ygrid, 'Mean pressure rate', [-1, 1], 'Pressure rate (hPa/hr)', map_kwargs)\n",
    "fig.add(mindata, xgrid, ygrid, 'Minimum pressure rate', [-10, 10], 'Pressure rate (hPa/hr)', map_kwargs)\n",
    "fig.add(sigdata, xgrid, ygrid, 'Pressure rate standard deviation', [0, 5], 'Std dev.', map_kwargs)\n",
    "fig.add(ardata, xgrid, ygrid, 'Pressure rate AR(1)', [-1, 1], 'AR(1)', map_kwargs)\n",
    "fig.plot()\n",
    "\n",
    "saveFigure(fig, \"pressure_rate_stats.png\")\n",
    "Image(\"pressure_rate_stats.png\")"
   ]
  },
  {
   "cell_type": "code",
   "execution_count": null,
   "metadata": {
    "collapsed": true
   },
   "outputs": [],
   "source": [
    "ncobj = ncLoadFile(pjoin(processPath, \"speed_rate_stats.nc\"))\n",
    "lon = ncGetDims(ncobj, 'lon')\n",
    "lat = ncGetDims(ncobj, 'lat')\n",
    "ardata = getData(ncobj, 'alpha', ij)\n",
    "mudata = getData(ncobj, 'mu', ij)\n",
    "mindata = getData(ncobj, 'min', ij)\n",
    "sigdata = getData(ncobj, 'sig', ij)\n",
    "ncobj.close()\n",
    "fig = ArrayMapFigure()\n",
    "fig.add(mudata, xgrid, ygrid, 'Mean speed rate', [-1, 1], 'Speed rate (m/s/hr)', map_kwargs)\n",
    "fig.add(mindata, xgrid, ygrid, 'Minimum speed rate', [-10, 10], 'Speed rate (m/s/hr)', map_kwargs)\n",
    "fig.add(sigdata, xgrid, ygrid, 'Speed standard deviation', [0, 5], 'Std dev.', map_kwargs)\n",
    "fig.add(ardata, xgrid, ygrid, 'Speed rate AR(1)', [-1, 1], 'AR(1)', map_kwargs)\n",
    "fig.plot()\n",
    "#canvas = FC(fig)\n",
    "#fig\n",
    "saveFigure(fig, \"speed_rate_stats.png\")\n",
    "Image(\"speed_rate_stats.png\")"
   ]
  },
  {
   "cell_type": "code",
   "execution_count": null,
   "metadata": {
    "collapsed": true
   },
   "outputs": [],
   "source": [
    "ncobj = ncLoadFile(pjoin(processPath, \"speed_stats.nc\"))\n",
    "lon = ncGetDims(ncobj, 'lon')\n",
    "lat = ncGetDims(ncobj, 'lat')\n",
    "ardata = getData(ncobj, 'alpha', ij)\n",
    "mudata = getData(ncobj, 'mu', ij)\n",
    "mindata = getData(ncobj, 'min', ij)\n",
    "sigdata = getData(ncobj, 'sig', ij)\n",
    "ncobj.close()\n",
    "fig = ArrayMapFigure()\n",
    "fig.add(mudata, xgrid, ygrid, 'Mean speed', [0, 25], 'Speed (m/s)', map_kwargs)\n",
    "fig.add(mindata, xgrid, ygrid, 'Minimum speed', [0, 25], 'Speed (m/s)', map_kwargs)\n",
    "fig.add(sigdata, xgrid, ygrid, 'Speed standard deviation', [0, 20], 'Std dev.', map_kwargs)\n",
    "fig.add(ardata, xgrid, ygrid, 'Speed AR(1)', [-1, 1], 'AR(1)', map_kwargs)\n",
    "fig.plot()\n",
    "#canvas = FC(fig)\n",
    "#fig\n",
    "speed = mudata\n",
    "saveFigure(fig, \"speed_stats.png\")\n",
    "Image(\"speed_stats.png\")"
   ]
  },
  {
   "cell_type": "code",
   "execution_count": null,
   "metadata": {
    "collapsed": true
   },
   "outputs": [],
   "source": [
    "ncobj = ncLoadFile(pjoin(processPath, \"bearing_rate_stats.nc\"))\n",
    "lon = ncGetDims(ncobj, 'lon')\n",
    "lat = ncGetDims(ncobj, 'lat')\n",
    "ardata = getData(ncobj, 'alpha', ij)\n",
    "mudata = getData(ncobj, 'mu', ij)\n",
    "mindata = getData(ncobj, 'min', ij)\n",
    "sigdata = getData(ncobj, 'sig', ij)\n",
    "ncobj.close()\n",
    "\n",
    "fig = ArrayMapFigure()\n",
    "fig.add(mudata, xgrid, ygrid, 'Mean bearing rate', [-10, 20], 'Bearing rate (degrees/hr)', map_kwargs)\n",
    "fig.add(mindata, xgrid, ygrid, 'Minimum bearing rate', [-100., 10], 'Bearing rate (degrees/hr)', map_kwargs)\n",
    "fig.add(sigdata, xgrid, ygrid, 'Bearing rate standard deviation', [0, 1], 'Std dev.', map_kwargs)\n",
    "fig.add(ardata, xgrid, ygrid, 'Bearing rate AR(1)', [-1, 1], 'AR(1)', map_kwargs)\n",
    "fig.plot()\n",
    "#canvas = FC(fig)\n",
    "#fig\n",
    "saveFigure(fig, \"bearing_rate_stats.png\")\n",
    "Image(\"bearing_rate_stats.png\")"
   ]
  },
  {
   "cell_type": "code",
   "execution_count": null,
   "metadata": {
    "collapsed": true
   },
   "outputs": [],
   "source": [
    "ncobj = ncLoadFile(pjoin(processPath, \"bearing_stats.nc\"))\n",
    "lon = ncGetDims(ncobj, 'lon')\n",
    "lat = ncGetDims(ncobj, 'lat')\n",
    "ardata = getData(ncobj, 'alpha', ij)\n",
    "mudata = getData(ncobj, 'mu', ij)\n",
    "mindata = getData(ncobj, 'min', ij)\n",
    "sigdata = getData(ncobj, 'sig', ij)\n",
    "\n",
    "ncobj.close()\n",
    "fig = ArrayMapFigure()\n",
    "fig.add(mudata*180./np.pi, xgrid, ygrid, 'Mean bearing', [0, 360.], 'Bearing (degrees)', map_kwargs)\n",
    "fig.add(mindata, xgrid, ygrid, 'Minimum bearing', [0, 180], 'Bearing (degrees)', map_kwargs)\n",
    "fig.add(sigdata, xgrid, ygrid, 'Bearing standard deviation', [0, 1], 'Std dev.', map_kwargs)\n",
    "fig.add(ardata, xgrid, ygrid, 'Bearing AR(1)', [-1, 1], 'AR(1)', map_kwargs)\n",
    "fig.plot()\n",
    "#canvas = FC(fig)\n",
    "#fig\n",
    "\n",
    "bearing = mudata\n",
    "saveFigure(fig, \"bearing_stats.png\")\n",
    "Image(\"bearing_stats.png\")"
   ]
  },
  {
   "cell_type": "markdown",
   "metadata": {},
   "source": [
    "Just to demonstrate this all makes sense, We'll now plot the mean speed and bearing in a more weather-oriented context, with barbs showing the mean speed and direction of TCs across the simulation domain."
   ]
  },
  {
   "cell_type": "code",
   "execution_count": null,
   "metadata": {
    "collapsed": true
   },
   "outputs": [],
   "source": [
    "def calcComponents(speed, bearing):\n",
    "    ux = speed*np.sin(bearing)\n",
    "    vy = speed*np.cos(bearing)\n",
    "    return ux, vy"
   ]
  },
  {
   "cell_type": "code",
   "execution_count": null,
   "metadata": {
    "collapsed": true
   },
   "outputs": [],
   "source": [
    "ux, vy = calcComponents(speed, bearing)"
   ]
  },
  {
   "cell_type": "code",
   "execution_count": null,
   "metadata": {
    "collapsed": true
   },
   "outputs": [],
   "source": [
    "from mpl_toolkits.basemap import Basemap\n",
    "import matplotlib.pyplot as plt\n",
    "fig, ax = plt.subplots(figsize=(16,8))\n",
    "mapobj = Basemap(**map_kwargs)\n",
    "mx, my = mapobj(xgrid, ygrid)\n",
    "lvls = levels(40)[0]\n",
    "CS = mapobj.contourf(mx, my, speed, levels=lvls, cmap='jet')\n",
    "CB = mapobj.colorbar(CS, location='right', pad='5%',ticks=lvls[::2], label=\"Mean track speed (m/s)\")\n",
    "mapobj.barbs(mx, my, ux, vy, length=5, linewidth=0.5)#, latlon=True)\n",
    "mapobj.drawcoastlines(linewidth=0.5, color='k')\n",
    "mapobj.drawmapboundary(fill_color=\"#BEE8FF\")"
   ]
  },
  {
   "cell_type": "code",
   "execution_count": null,
   "metadata": {
    "collapsed": true
   },
   "outputs": [],
   "source": []
  }
 ],
 "metadata": {
  "kernelspec": {
   "display_name": "Python 2",
   "language": "python",
   "name": "python2"
  },
  "language_info": {
   "codemirror_mode": {
    "name": "ipython",
    "version": 2
   },
   "file_extension": ".py",
   "mimetype": "text/x-python",
   "name": "python",
   "nbconvert_exporter": "python",
   "pygments_lexer": "ipython2",
   "version": "2.7.11"
  }
 },
 "nbformat": 4,
 "nbformat_minor": 1
}
