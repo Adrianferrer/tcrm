{
 "cells": [
  {
   "cell_type": "markdown",
   "metadata": {},
   "source": [
    "# Plotting up the statistical output\n",
    "\n",
    "To gain an understanding of the meaning of the statistics, and the spatial distribution of these statistics, we  plot up several of the metrics on maps. This allows you to explore how these variables vary over the simulation domain, and interpret the meaning of these variables. \n",
    "\n",
    "This only gives one perspective on the choice of variables used in TCRM to simulate TC track behaviour. There are a number of other graphical products that further help with understanding the way TCRM works."
   ]
  },
  {
   "cell_type": "code",
   "execution_count": 1,
   "metadata": {},
   "outputs": [],
   "source": [
    "%matplotlib inline\n",
    "from Utilities.nctools import ncLoadFile, ncGetDims, ncGetVar, ncFileInfo\n",
    "from Utilities.grid import SampleGrid\n",
    "from PlotInterface.maps import ArrayMapFigure, saveFigure, levels\n",
    "import numpy as np\n",
    "from IPython.display import Image\n",
    "from matplotlib.backends.backend_agg import FigureCanvasAgg as FC\n",
    "\n",
    "from os.path import join as pjoin\n",
    "import seaborn as sns\n",
    "sns.set_context('paper')"
   ]
  },
  {
   "cell_type": "code",
   "execution_count": 2,
   "metadata": {
    "collapsed": true
   },
   "outputs": [],
   "source": [
    "def show(fig):\n",
    "    canvas = FC(fig)\n",
    "    fig"
   ]
  },
  {
   "cell_type": "code",
   "execution_count": 3,
   "metadata": {
    "collapsed": true
   },
   "outputs": [],
   "source": [
    "landmask_file = \"C:/WorkSpace/tcrm/input/landmask.nc\"\n",
    "landmask = SampleGrid(landmask_file)\n"
   ]
  },
  {
   "cell_type": "code",
   "execution_count": 4,
   "metadata": {
    "collapsed": true
   },
   "outputs": [],
   "source": [
    "def getData(ncobj, varname, ij):\n",
    "    var = ncGetVar(ncobj, varname)[:]\n",
    "    lvar = ncGetVar(ncobj, 'l'+varname)[:]\n",
    "    data = var\n",
    "    data[ij] = lvar[ij]\n",
    "    return data"
   ]
  },
  {
   "cell_type": "code",
   "execution_count": 5,
   "metadata": {},
   "outputs": [],
   "source": [
    "path = \"C:/Workspace/temp\"\n",
    "fname = pjoin(path, \"pressure_rate_stats.nc\")\n",
    "ncFileInfo(fname)"
   ]
  },
  {
   "cell_type": "code",
   "execution_count": 6,
   "metadata": {},
   "outputs": [],
   "source": [
    "ncobj = ncLoadFile(fname)\n",
    "\n",
    "#lon = np.arange(90., 180., 1.0)\n",
    "#lat = np.arange(-30., -5., 1.0)\n",
    "\n",
    "lon = ncGetDims(ncobj, 'lon')\n",
    "lat = ncGetDims(ncobj, 'lat')\n",
    "ncobj.close()\n",
    "xgrid, ygrid = np.meshgrid(lon, lat)\n",
    "\n",
    "ls = np.zeros(np.shape(xgrid))\n",
    "\n",
    "for i in range(len(lon)):\n",
    "    for j in range(len(lat)):\n",
    "        if landmask.sampleGrid(lon[i], lat[j]) > 0.0:\n",
    "            ls[j, i] = 1\n",
    "            \n",
    "ij = np.where(ls==1)\n"
   ]
  },
  {
   "cell_type": "markdown",
   "metadata": {},
   "source": [
    "Set the map keyword arguments that will help draw the basemap. "
   ]
  },
  {
   "cell_type": "code",
   "execution_count": 7,
   "metadata": {
    "collapsed": true
   },
   "outputs": [],
   "source": [
    "map_kwargs = dict(llcrnrlon=100., llcrnrlat=-30,\n",
    "                  urcrnrlon=160., urcrnrlat=-5.,\n",
    "                  resolution='h', projection='merc')"
   ]
  },
  {
   "cell_type": "code",
   "execution_count": 9,
   "metadata": {},
   "outputs": [],
   "source": [
    "ncobj = ncLoadFile(pjoin(path, \"pressure_stats.nc\"))\n",
    "lon = ncGetDims(ncobj, 'lon')\n",
    "lat = ncGetDims(ncobj, 'lat')\n",
    "ardata = getData(ncobj, 'alpha', ij)\n",
    "mudata = getData(ncobj, 'mu', ij)\n",
    "mindata = getData(ncobj, 'min', ij)\n",
    "sigdata = getData(ncobj, 'sig', ij)\n",
    "ncobj.close()\n",
    "fig = ArrayMapFigure()\n",
    "fig.add(mudata, xgrid, ygrid, 'Mean pressure ', [950, 1000], 'Pressure (hPa)', map_kwargs)\n",
    "fig.add(mindata, xgrid, ygrid, 'Minimum pressure', [900, 1000], 'Pressure (hPa)', map_kwargs)\n",
    "fig.add(sigdata, xgrid, ygrid, 'Pressure standard deviation', [0, 50], 'Std dev.', map_kwargs)\n",
    "fig.add(ardata, xgrid, ygrid, 'Pressure AR(1)', [-1, 1], 'AR(1)', map_kwargs)\n",
    "fig.plot()\n",
    "saveFigure(fig, \"pressure_stats.png\")\n",
    "Image(\"pressure_stats.png\")"
   ]
  },
  {
   "cell_type": "markdown",
   "metadata": {},
   "source": [
    "The first figure shows the mean pressure (in hPa) in each cell across the simulation domain. It's important to recognise that in areas with few observations, the mean may not be well-defined. TCRM makes an effort to address this, by expanding the sampling region if there are insufficient observations in an individual cell. \n",
    "\n",
    "Next is the minimum pressure. This is where we can see some significant variability, because the minimum pressure in any given cell depends on the vagaries of historical TC behaviour, and we are looking at an extreme value in the distribution of pressure values in each cell. \n",
    "\n",
    "The third figure is the standard deviation of the pressure observations. Areas where there's a lot of variation are likely near coastlines and at the outer limits of the simulation region, where TC intensity is more variable.\n",
    "\n",
    "The final figure shows the lag-1 autocorrelation of pressure observations. For this variable, the values are all very close to 1, because the pressure values do not change dramatically from one observation to the next. For example, the largest change in pressure over a 6-hour period is only about *XX* hPa - compare that to the pressure observation and the change is (in a numerical sense) quite small. But this is not the case for all the model variables, as we will see below."
   ]
  },
  {
   "cell_type": "markdown",
   "metadata": {},
   "source": [
    "Now lets examine the pressure rate statistics. This is measuring the intensification rate of TCs in each cell, rather than the intensity (above). \n",
    "\n",
    "The first figure is the mean pressure rate of change. Positive values indicate an increase in pressure, negative values a decrease in pressure. This shows us the (historically) favoured regions for intensification and weakening of TCs. \n",
    "\n",
    "In figure 4 is the lag-1 autocorrelation. Compare the values plotted here with the corresponding figure for the pressure variable (above). We saw previously that the pressure rate of change is largely uncorrelated when looking at the autocorrelation. But what spatial patterns emerge in the pressure rate statistics? "
   ]
  },
  {
   "cell_type": "code",
   "execution_count": 8,
   "metadata": {},
   "outputs": [],
   "source": [
    "ncobj = ncLoadFile(pjoin(path, \"pressure_rate_stats.nc\"))\n",
    "lon = ncGetDims(ncobj, 'lon')\n",
    "lat = ncGetDims(ncobj, 'lat')\n",
    "ardata = getData(ncobj, 'alpha', ij)\n",
    "mudata = getData(ncobj, 'mu', ij)\n",
    "mindata = getData(ncobj, 'min', ij)\n",
    "sigdata = getData(ncobj, 'sig', ij)\n",
    "ncobj.close()\n",
    "\n",
    "fig = ArrayMapFigure()\n",
    "fig.add(mudata, xgrid, ygrid, 'Mean pressure rate', [-1, 1], 'Pressure rate (hPa/hr)', map_kwargs)\n",
    "fig.add(mindata, xgrid, ygrid, 'Minimum pressure rate', [-10, 10], 'Pressure rate (hPa/hr)', map_kwargs)\n",
    "fig.add(sigdata, xgrid, ygrid, 'Pressure rate standard deviation', [0, 5], 'Std dev.', map_kwargs)\n",
    "fig.add(ardata, xgrid, ygrid, 'Pressure rate AR(1)', [-1, 1], 'AR(1)', map_kwargs)\n",
    "fig.plot()\n",
    "\n",
    "saveFigure(fig, \"pressure_rate_stats.png\")\n",
    "Image(\"pressure_rate_stats.png\")"
   ]
  },
  {
   "cell_type": "code",
   "execution_count": 10,
   "metadata": {},
   "outputs": [],
   "source": [
    "ncobj = ncLoadFile(pjoin(path, \"speed_rate_stats.nc\"))\n",
    "lon = ncGetDims(ncobj, 'lon')\n",
    "lat = ncGetDims(ncobj, 'lat')\n",
    "ardata = getData(ncobj, 'alpha', ij)\n",
    "mudata = getData(ncobj, 'mu', ij)\n",
    "mindata = getData(ncobj, 'min', ij)\n",
    "sigdata = getData(ncobj, 'sig', ij)\n",
    "ncobj.close()\n",
    "fig = ArrayMapFigure()\n",
    "fig.add(ardata, xgrid, ygrid, 'Speed rate AR(1)', [-1, 1], 'AR(1)', map_kwargs)\n",
    "fig.add(mudata, xgrid, ygrid, 'Mean speed rate', [-1, 1], 'Speed rate (m/s/hr)', map_kwargs)\n",
    "fig.add(mindata, xgrid, ygrid, 'Minimum speed rate', [-10, 10], 'Speed rate (m/s/hr)', map_kwargs)\n",
    "fig.add(sigdata, xgrid, ygrid, 'Speed standard deviation', [0, 5], 'Std dev.', map_kwargs)\n",
    "fig.plot()\n",
    "#canvas = FC(fig)\n",
    "#fig\n",
    "saveFigure(fig, \"speed_rate_stats.png\")\n",
    "Image(\"speed_rate_stats.png\")"
   ]
  },
  {
   "cell_type": "code",
   "execution_count": 11,
   "metadata": {},
   "outputs": [],
   "source": [
    "ncobj = ncLoadFile(pjoin(path, \"speed_stats.nc\"))\n",
    "lon = ncGetDims(ncobj, 'lon')\n",
    "lat = ncGetDims(ncobj, 'lat')\n",
    "ardata = getData(ncobj, 'alpha', ij)\n",
    "mudata = getData(ncobj, 'mu', ij)\n",
    "mindata = getData(ncobj, 'min', ij)\n",
    "sigdata = getData(ncobj, 'sig', ij)\n",
    "ncobj.close()\n",
    "fig = ArrayMapFigure()\n",
    "fig.add(ardata, xgrid, ygrid, 'Speed AR(1)', [-1, 1], 'AR(1)', map_kwargs)\n",
    "fig.add(mudata, xgrid, ygrid, 'Mean speed', [0, 25], 'Speed (m/s)', map_kwargs)\n",
    "fig.add(mindata, xgrid, ygrid, 'Minimum speed', [0, 25], 'Speed (m/s)', map_kwargs)\n",
    "fig.add(sigdata, xgrid, ygrid, 'Speed standard deviation', [0, 20], 'Std dev.', map_kwargs)\n",
    "fig.plot()\n",
    "#canvas = FC(fig)\n",
    "#fig\n",
    "saveFigure(fig, \"speed_stats.png\")\n",
    "Image(\"speed_stats.png\")"
   ]
  },
  {
   "cell_type": "code",
   "execution_count": 28,
   "metadata": {
    "collapsed": true
   },
   "outputs": [],
   "source": [
    "ncobj = ncLoadFile(pjoin(path, \"bearing_rate_stats.nc\"))\n",
    "lon = ncGetDims(ncobj, 'lon')\n",
    "lat = ncGetDims(ncobj, 'lat')\n",
    "ardata = getData(ncobj, 'alpha', ij)\n",
    "mudata = getData(ncobj, 'mu', ij)\n",
    "mindata = getData(ncobj, 'min', ij)\n",
    "sigdata = getData(ncobj, 'sig', ij)\n",
    "ncobj.close()"
   ]
  },
  {
   "cell_type": "code",
   "execution_count": 50,
   "metadata": {},
   "outputs": [],
   "source": [
    "print np.percentile(sigdata, 90)\n",
    "print np.median(sigdata)"
   ]
  },
  {
   "cell_type": "code",
   "execution_count": 51,
   "metadata": {},
   "outputs": [],
   "source": [
    "fig = ArrayMapFigure()\n",
    "fig.add(ardata, xgrid, ygrid, 'Bearing rate AR(1)', [-1, 1], 'AR(1)', map_kwargs)\n",
    "fig.add(mudata, xgrid, ygrid, 'Mean bearing rate', [0, 5], 'Bearing rate (degrees/hr)', map_kwargs)\n",
    "fig.add(mindata, xgrid, ygrid, 'Minimum bearing rate', [-1., 1], 'Bearing rate (degrees/hr)', map_kwargs)\n",
    "fig.add(sigdata, xgrid, ygrid, 'Bearing rate standard deviation', [0, 15], 'Std dev.', map_kwargs)\n",
    "fig.plot()\n",
    "#canvas = FC(fig)\n",
    "#fig\n",
    "saveFigure(fig, \"bearing_rate_stats.png\")\n",
    "Image(\"bearing_rate_stats.png\")"
   ]
  },
  {
   "cell_type": "code",
   "execution_count": 15,
   "metadata": {},
   "outputs": [],
   "source": [
    "ncobj = ncLoadFile(pjoin(path, \"bearing_stats.nc\"))\n",
    "lon = ncGetDims(ncobj, 'lon')\n",
    "lat = ncGetDims(ncobj, 'lat')\n",
    "ardata = getData(ncobj, 'alpha', ij)\n",
    "mudata = getData(ncobj, 'mu', ij)\n",
    "mindata = getData(ncobj, 'min', ij)\n",
    "sigdata = getData(ncobj, 'sig', ij)\n",
    "\n",
    "ncobj.close()\n",
    "fig = ArrayMapFigure()\n",
    "fig.add(ardata, xgrid, ygrid, 'Bearing AR(1)', [-1, 1], 'AR(1)', map_kwargs)\n",
    "fig.add(mudata*180./np.pi, xgrid, ygrid, 'Mean bearing', [0, 360.], 'Bearing (degrees)', map_kwargs)\n",
    "fig.add(mindata, xgrid, ygrid, 'Minimum bearing', [0, 180], 'Bearing (degrees)', map_kwargs)\n",
    "fig.add(sigdata, xgrid, ygrid, 'Bearing standard deviation', [0, 1], 'Std dev.', map_kwargs)\n",
    "fig.plot()\n",
    "#canvas = FC(fig)\n",
    "#fig\n",
    "saveFigure(fig, \"bearing_stats.png\")\n",
    "Image(\"bearing_stats.png\")"
   ]
  },
  {
   "cell_type": "code",
   "execution_count": null,
   "metadata": {
    "collapsed": true
   },
   "outputs": [],
   "source": []
  }
 ],
 "metadata": {
  "kernelspec": {
   "display_name": "Python 2",
   "language": "python",
   "name": "python2"
  },
  "language_info": {
   "codemirror_mode": {
    "name": "ipython",
    "version": 2
   },
   "file_extension": ".py",
   "mimetype": "text/x-python",
   "name": "python",
   "nbconvert_exporter": "python",
   "pygments_lexer": "ipython2",
   "version": "2.7.3"
  }
 },
 "nbformat": 4,
 "nbformat_minor": 1
}
